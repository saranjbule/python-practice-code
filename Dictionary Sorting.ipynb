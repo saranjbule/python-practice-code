{
  "cells": [
    {
      "cell_type": "code",
      "execution_count": 2,
      "metadata": {
        "trusted": true
      },
      "outputs": [],
      "source": [
        "x = {10: \"apple\", 20: \"mango\", 6: \"banana\", 32: \"berry\", 9: \"melon\"}"
      ]
    },
    {
      "cell_type": "code",
      "execution_count": 5,
      "metadata": {},
      "outputs": [
        {
          "data": {
            "text/plain": [
              "dict_keys([10, 20, 6, 32, 9])"
            ]
          },
          "execution_count": 5,
          "metadata": {},
          "output_type": "execute_result"
        }
      ],
      "source": [
        "x.keys()"
      ]
    },
    {
      "cell_type": "code",
      "execution_count": 3,
      "metadata": {},
      "outputs": [
        {
          "data": {
            "text/plain": [
              "[10, 20, 6, 32, 9]"
            ]
          },
          "execution_count": 3,
          "metadata": {},
          "output_type": "execute_result"
        }
      ],
      "source": [
        "[i for i in x.keys()]"
      ]
    },
    {
      "cell_type": "code",
      "execution_count": 6,
      "metadata": {},
      "outputs": [
        {
          "data": {
            "text/plain": [
              "dict_values(['apple', 'mango', 'banana', 'berry', 'melon'])"
            ]
          },
          "execution_count": 6,
          "metadata": {},
          "output_type": "execute_result"
        }
      ],
      "source": [
        "x.values()"
      ]
    },
    {
      "cell_type": "code",
      "execution_count": 4,
      "metadata": {},
      "outputs": [
        {
          "data": {
            "text/plain": [
              "['apple', 'mango', 'banana', 'berry', 'melon']"
            ]
          },
          "execution_count": 4,
          "metadata": {},
          "output_type": "execute_result"
        }
      ],
      "source": [
        "[i for i in x.values()]"
      ]
    },
    {
      "cell_type": "code",
      "execution_count": 7,
      "metadata": {},
      "outputs": [
        {
          "data": {
            "text/plain": [
              "dict_items([(10, 'apple'), (20, 'mango'), (6, 'banana'), (32, 'berry'), (9, 'melon')])"
            ]
          },
          "execution_count": 7,
          "metadata": {},
          "output_type": "execute_result"
        }
      ],
      "source": [
        "x.items()"
      ]
    },
    {
      "cell_type": "code",
      "execution_count": 3,
      "metadata": {},
      "outputs": [
        {
          "data": {
            "text/plain": [
              "[(10, 'apple'), (20, 'mango'), (6, 'banana'), (32, 'berry'), (9, 'melon')]"
            ]
          },
          "execution_count": 3,
          "metadata": {},
          "output_type": "execute_result"
        }
      ],
      "source": [
        "[i for i in x.items()]"
      ]
    },
    {
      "cell_type": "code",
      "execution_count": 9,
      "metadata": {},
      "outputs": [],
      "source": [
        "copyDict = {k:v for k, v in (i for i in x.items())}\n",
        "copyDict2 = {**copyDict}"
      ]
    },
    {
      "cell_type": "code",
      "execution_count": 10,
      "metadata": {},
      "outputs": [
        {
          "data": {
            "text/plain": [
              "({10: 'apple', 20: 'mango', 6: 'banana', 32: 'berry', 9: 'melon'},\n",
              " {10: 'apple', 20: 'mango', 6: 'banana', 32: 'berry', 9: 'melon'})"
            ]
          },
          "execution_count": 10,
          "metadata": {},
          "output_type": "execute_result"
        }
      ],
      "source": [
        "copyDict, copyDict2"
      ]
    },
    {
      "cell_type": "code",
      "execution_count": 11,
      "metadata": {},
      "outputs": [],
      "source": [
        "copyDict[\"cp\"] = \"val\"\n",
        "copyDict2[\"cp2\"] = \"val\""
      ]
    },
    {
      "cell_type": "code",
      "execution_count": 14,
      "metadata": {},
      "outputs": [
        {
          "data": {
            "text/plain": [
              "({10: 'apple', 20: 'mango', 6: 'banana', 32: 'berry', 9: 'melon', 'cp': 'val'},\n",
              " {10: 'apple',\n",
              "  20: 'mango',\n",
              "  6: 'banana',\n",
              "  32: 'berry',\n",
              "  9: 'melon',\n",
              "  'cp2': 'val'},\n",
              " {10: 'apple', 20: 'mango', 6: 'banana', 32: 'berry', 9: 'melon'})"
            ]
          },
          "execution_count": 14,
          "metadata": {},
          "output_type": "execute_result"
        }
      ],
      "source": [
        "copyDict, copyDict2, x"
      ]
    },
    {
      "cell_type": "code",
      "execution_count": 2,
      "metadata": {
        "trusted": true
      },
      "outputs": [
        {
          "name": "stdout",
          "output_type": "stream",
          "text": [
            "[6, 9, 10, 20, 32]\n"
          ]
        }
      ],
      "source": [
        "y = sorted(x) # by default sort by keys\n",
        "print(y)"
      ]
    },
    {
      "cell_type": "code",
      "execution_count": 3,
      "metadata": {
        "trusted": true
      },
      "outputs": [
        {
          "name": "stdout",
          "output_type": "stream",
          "text": [
            "[6, 9, 10, 20, 32]\n"
          ]
        }
      ],
      "source": [
        "y = sorted(x.keys())\n",
        "print(y)"
      ]
    },
    {
      "cell_type": "code",
      "execution_count": 4,
      "metadata": {
        "trusted": true
      },
      "outputs": [
        {
          "name": "stdout",
          "output_type": "stream",
          "text": [
            "['apple', 'banana', 'berry', 'mango', 'melon']\n"
          ]
        }
      ],
      "source": [
        "y = sorted(x.values())\n",
        "print(y)"
      ]
    },
    {
      "cell_type": "code",
      "execution_count": 5,
      "metadata": {
        "trusted": true
      },
      "outputs": [
        {
          "name": "stdout",
          "output_type": "stream",
          "text": [
            "[(6, 'banana'), (9, 'melon'), (10, 'apple'), (20, 'mango'), (32, 'berry')]\n"
          ]
        }
      ],
      "source": [
        "y = sorted(x.items())\n",
        "print(y) # Return list of items which consist of tuple of elements which are sort based on keys"
      ]
    },
    {
      "cell_type": "code",
      "execution_count": 6,
      "metadata": {
        "trusted": true
      },
      "outputs": [
        {
          "name": "stdout",
          "output_type": "stream",
          "text": [
            "[(32, 'berry'), (20, 'mango'), (10, 'apple'), (9, 'melon'), (6, 'banana')]\n"
          ]
        }
      ],
      "source": [
        "y = sorted(x.items(), reverse=True)\n",
        "print(y)"
      ]
    },
    {
      "cell_type": "code",
      "execution_count": 7,
      "metadata": {
        "trusted": true
      },
      "outputs": [
        {
          "name": "stdout",
          "output_type": "stream",
          "text": [
            "[(10, 'apple'), (6, 'banana'), (32, 'berry'), (20, 'mango'), (9, 'melon')]\n"
          ]
        }
      ],
      "source": [
        "y = sorted(x.items(), key = lambda x: x[1] ) # dictionary sorting based on value\n",
        "print(y)"
      ]
    },
    {
      "cell_type": "code",
      "execution_count": 8,
      "metadata": {
        "trusted": true
      },
      "outputs": [
        {
          "name": "stdout",
          "output_type": "stream",
          "text": [
            "[(9, 'melon'), (20, 'mango'), (32, 'berry'), (6, 'banana'), (10, 'apple')]\n"
          ]
        }
      ],
      "source": [
        "y = sorted(x.items(), reverse=True, key = lambda x: x[1])\n",
        "print(y)"
      ]
    },
    {
      "cell_type": "code",
      "execution_count": 9,
      "metadata": {
        "trusted": true
      },
      "outputs": [
        {
          "name": "stdout",
          "output_type": "stream",
          "text": [
            "[(9, 'melon'), (20, 'mango'), (32, 'berry'), (6, 'banana'), (10, 'apple')]\n"
          ]
        }
      ],
      "source": [
        "y = sorted(x.items(), key = lambda x: x[1], reverse=True)\n",
        "print(y)"
      ]
    },
    {
      "cell_type": "code",
      "execution_count": 10,
      "metadata": {
        "trusted": true
      },
      "outputs": [
        {
          "ename": "SyntaxError",
          "evalue": "positional argument follows keyword argument (789161592.py, line 1)",
          "output_type": "error",
          "traceback": [
            "\u001b[0;36m  Cell \u001b[0;32mIn[10], line 1\u001b[0;36m\u001b[0m\n\u001b[0;31m    y = sorted(reverse=True, key = lambda x: x[1], x.items())\u001b[0m\n\u001b[0m                                                            ^\u001b[0m\n\u001b[0;31mSyntaxError\u001b[0m\u001b[0;31m:\u001b[0m positional argument follows keyword argument\n"
          ]
        }
      ],
      "source": [
        "y = sorted(reverse=True, key = lambda x: x[1], x.items())\n",
        "print(y)"
      ]
    },
    {
      "cell_type": "code",
      "execution_count": null,
      "metadata": {
        "trusted": true
      },
      "outputs": [
        {
          "name": "stdout",
          "output_type": "stream",
          "text": [
            "{9: 'melon', 20: 'mango', 32: 'berry', 6: 'banana', 10: 'apple'}\n"
          ]
        }
      ],
      "source": [
        "z = {k: v for k, v in y}\n",
        "print(z)"
      ]
    },
    {
      "cell_type": "code",
      "execution_count": null,
      "metadata": {
        "trusted": true
      },
      "outputs": [],
      "source": [
        "k = {k: v for k, v in sorted(x.items(), key=lambda x: x[1])}"
      ]
    },
    {
      "cell_type": "code",
      "execution_count": null,
      "metadata": {
        "trusted": true
      },
      "outputs": [
        {
          "name": "stdout",
          "output_type": "stream",
          "text": [
            "{10: 'apple', 6: 'banana', 32: 'berry', 20: 'mango', 9: 'melon'}\n"
          ]
        }
      ],
      "source": [
        "print(k)"
      ]
    }
  ],
  "metadata": {
    "kernelspec": {
      "display_name": "Python 3",
      "language": "python",
      "name": "python3"
    },
    "language_info": {
      "codemirror_mode": {
        "name": "ipython",
        "version": 3
      },
      "file_extension": ".py",
      "mimetype": "text/x-python",
      "name": "python",
      "nbconvert_exporter": "python",
      "pygments_lexer": "ipython3",
      "version": "3.10.12"
    },
    "vscode": {
      "interpreter": {
        "hash": "f1af8e9e7b81bd0acb2c0a8783f2dbe2b614545b4102e8f472ef55e374047c4b"
      }
    }
  },
  "nbformat": 4,
  "nbformat_minor": 4
}
