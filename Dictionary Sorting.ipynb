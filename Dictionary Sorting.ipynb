{
  "metadata": {
    "language_info": {
      "codemirror_mode": {
        "name": "python",
        "version": 3
      },
      "file_extension": ".py",
      "mimetype": "text/x-python",
      "name": "python",
      "nbconvert_exporter": "python",
      "pygments_lexer": "ipython3",
      "version": "3.8"
    },
    "kernelspec": {
      "name": "python",
      "display_name": "Python (Pyodide)",
      "language": "python"
    }
  },
  "nbformat_minor": 4,
  "nbformat": 4,
  "cells": [
    {
      "cell_type": "code",
      "source": "x = {10: 'apple', 20: 'mango', 6: 'banana', 32: 'berry', 9: 'melon'}",
      "metadata": {
        "trusted": true
      },
      "execution_count": 1,
      "outputs": []
    },
    {
      "cell_type": "code",
      "source": "y = sorted(x)\nprint(y)",
      "metadata": {
        "trusted": true
      },
      "execution_count": 2,
      "outputs": [
        {
          "name": "stdout",
          "text": "[6, 9, 10, 20, 32]\n",
          "output_type": "stream"
        }
      ]
    },
    {
      "cell_type": "code",
      "source": "y = sorted(x.keys())\nprint(y)",
      "metadata": {
        "trusted": true
      },
      "execution_count": 3,
      "outputs": [
        {
          "name": "stdout",
          "text": "[6, 9, 10, 20, 32]\n",
          "output_type": "stream"
        }
      ]
    },
    {
      "cell_type": "code",
      "source": "y = sorted(x.values())\nprint(y)",
      "metadata": {
        "trusted": true
      },
      "execution_count": 4,
      "outputs": [
        {
          "name": "stdout",
          "text": "['apple', 'banana', 'berry', 'mango', 'melon']\n",
          "output_type": "stream"
        }
      ]
    },
    {
      "cell_type": "code",
      "source": "y = sorted(x.items())\nprint(y) #Return list which consist of tuple elements sorted based on keys",
      "metadata": {
        "trusted": true
      },
      "execution_count": 5,
      "outputs": [
        {
          "name": "stdout",
          "text": "[(6, 'banana'), (9, 'melon'), (10, 'apple'), (20, 'mango'), (32, 'berry')]\n",
          "output_type": "stream"
        }
      ]
    },
    {
      "cell_type": "code",
      "source": "y = sorted(x.items(), reverse=True)\nprint(y)",
      "metadata": {
        "trusted": true
      },
      "execution_count": 6,
      "outputs": [
        {
          "name": "stdout",
          "text": "[(32, 'berry'), (20, 'mango'), (10, 'apple'), (9, 'melon'), (6, 'banana')]\n",
          "output_type": "stream"
        }
      ]
    },
    {
      "cell_type": "code",
      "source": "y = sorted(x.items(), key = lambda x: x[1] )\nprint(y)",
      "metadata": {
        "trusted": true
      },
      "execution_count": 7,
      "outputs": [
        {
          "name": "stdout",
          "text": "[(10, 'apple'), (6, 'banana'), (32, 'berry'), (20, 'mango'), (9, 'melon')]\n",
          "output_type": "stream"
        }
      ]
    },
    {
      "cell_type": "code",
      "source": "y = sorted(x.items(), reverse=True, key = lambda x: x[1])\nprint(y)",
      "metadata": {
        "trusted": true
      },
      "execution_count": 8,
      "outputs": [
        {
          "name": "stdout",
          "text": "[(9, 'melon'), (20, 'mango'), (32, 'berry'), (6, 'banana'), (10, 'apple')]\n",
          "output_type": "stream"
        }
      ]
    },
    {
      "cell_type": "code",
      "source": "y = sorted(reverse=True, key = lambda x: x[1], x.items())\nprint(y)",
      "metadata": {
        "trusted": true
      },
      "execution_count": 15,
      "outputs": [
        {
          "ename": "<class 'SyntaxError'>",
          "evalue": "positional argument follows keyword argument (<ipython-input-15-7f9828d73a1a>, line 1)",
          "traceback": [
            "\u001b[0;36m  Cell \u001b[0;32mIn[15], line 1\u001b[0;36m\u001b[0m\n\u001b[0;31m    y = sorted(reverse=True, key = lambda x: x[1], x.items())\u001b[0m\n\u001b[0m                                                            ^\u001b[0m\n\u001b[0;31mSyntaxError\u001b[0m\u001b[0;31m:\u001b[0m positional argument follows keyword argument\n"
          ],
          "output_type": "error"
        }
      ]
    },
    {
      "cell_type": "code",
      "source": "y = sorted(x.items(), key = lambda x: x[1], reverse=True)\nprint(y)",
      "metadata": {
        "trusted": true
      },
      "execution_count": 10,
      "outputs": [
        {
          "name": "stdout",
          "text": "[(9, 'melon'), (20, 'mango'), (32, 'berry'), (6, 'banana'), (10, 'apple')]\n",
          "output_type": "stream"
        }
      ]
    },
    {
      "cell_type": "code",
      "source": "z = {k: v for k, v in y}\nprint(z)",
      "metadata": {
        "trusted": true
      },
      "execution_count": 16,
      "outputs": [
        {
          "name": "stdout",
          "text": "{9: 'melon', 20: 'mango', 32: 'berry', 6: 'banana', 10: 'apple'}\n",
          "output_type": "stream"
        }
      ]
    },
    {
      "cell_type": "code",
      "source": "k = {k: v for k, v in sorted(x.items(), reverse=True, key=lambda x: x[1])}",
      "metadata": {
        "trusted": true
      },
      "execution_count": 17,
      "outputs": []
    },
    {
      "cell_type": "code",
      "source": "print(k)",
      "metadata": {
        "trusted": true
      },
      "execution_count": 18,
      "outputs": [
        {
          "name": "stdout",
          "text": "{9: 'melon', 20: 'mango', 32: 'berry', 6: 'banana', 10: 'apple'}\n",
          "output_type": "stream"
        }
      ]
    }
  ]
}