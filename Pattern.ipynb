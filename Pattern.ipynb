{
  "cells": [
    {
      "attachments": {},
      "cell_type": "markdown",
      "metadata": {},
      "source": [
        "<h1>Pyramid</h1>"
      ]
    },
    {
      "cell_type": "code",
      "execution_count": 1,
      "metadata": {},
      "outputs": [
        {
          "name": "stdout",
          "output_type": "stream",
          "text": [
            "                           *  \n",
            "                        *  *  *  \n",
            "                     *  *  *  *  *  \n",
            "                  *  *  *  *  *  *  *  \n",
            "               *  *  *  *  *  *  *  *  *  \n",
            "            *  *  *  *  *  *  *  *  *  *  *  \n",
            "         *  *  *  *  *  *  *  *  *  *  *  *  *  \n",
            "      *  *  *  *  *  *  *  *  *  *  *  *  *  *  *  \n",
            "   *  *  *  *  *  *  *  *  *  *  *  *  *  *  *  *  *  \n",
            "*  *  *  *  *  *  *  *  *  *  *  *  *  *  *  *  *  *  *  \n"
          ]
        }
      ],
      "source": [
        "row = 10\n",
        "space = row - 1\n",
        "\n",
        "for i in range(row):\n",
        "    for s in range(space):\n",
        "        print('  ', end=\" \")\n",
        "    for j in range((i*2)+1):\n",
        "        print('* ', end=\" \")\n",
        "    \n",
        "    space -= 1\n",
        "    print()"
      ]
    },
    {
      "cell_type": "code",
      "execution_count": 2,
      "metadata": {},
      "outputs": [
        {
          "name": "stdout",
          "output_type": "stream",
          "text": [
            "                             *\n",
            "                          *  *  *\n",
            "                       *  *  *  *  *\n",
            "                    *  *  *  *  *  *  *\n",
            "                 *  *  *  *  *  *  *  *  *\n",
            "              *  *  *  *  *  *  *  *  *  *  *\n",
            "           *  *  *  *  *  *  *  *  *  *  *  *  *\n",
            "        *  *  *  *  *  *  *  *  *  *  *  *  *  *  *\n",
            "     *  *  *  *  *  *  *  *  *  *  *  *  *  *  *  *  *\n",
            "  *  *  *  *  *  *  *  *  *  *  *  *  *  *  *  *  *  *  *\n"
          ]
        }
      ],
      "source": [
        "level = int(input())\n",
        "\n",
        "for i in range(level):\n",
        "    print('   '*(level - i - 1) + '  *'*(i*2 + 1))\n",
        "    "
      ]
    },
    {
      "attachments": {},
      "cell_type": "markdown",
      "metadata": {},
      "source": [
        "<h1>Reverse Pyramid</h1>"
      ]
    },
    {
      "cell_type": "code",
      "execution_count": 3,
      "metadata": {},
      "outputs": [
        {
          "name": "stdout",
          "output_type": "stream",
          "text": [
            "  *  *  *  *  *  *  *  *  *  *  *  *  *  *  *  *  *  *  *\n",
            "     *  *  *  *  *  *  *  *  *  *  *  *  *  *  *  *  *\n",
            "        *  *  *  *  *  *  *  *  *  *  *  *  *  *  *\n",
            "           *  *  *  *  *  *  *  *  *  *  *  *  *\n",
            "              *  *  *  *  *  *  *  *  *  *  *\n",
            "                 *  *  *  *  *  *  *  *  *\n",
            "                    *  *  *  *  *  *  *\n",
            "                       *  *  *  *  *\n",
            "                          *  *  *\n",
            "                             *\n"
          ]
        }
      ],
      "source": [
        "level = int(input())\n",
        "columns = 2*(level-1) + 1\n",
        "for i in range(columns, 0, -2):\n",
        "    print('   '*((columns-i)//2) + '  *'*i)"
      ]
    },
    {
      "attachments": {},
      "cell_type": "markdown",
      "metadata": {},
      "source": [
        "<h1>Hollow Pyramid</h1>"
      ]
    },
    {
      "cell_type": "code",
      "execution_count": 4,
      "metadata": {
        "trusted": true
      },
      "outputs": [
        {
          "name": "stdout",
          "output_type": "stream",
          "text": [
            "                                    *   \n",
            "                                *       *   \n",
            "                            *               *   \n",
            "                        *                       *   \n",
            "                    *                               *   \n",
            "                *                                       *   \n",
            "            *                                               *   \n",
            "        *                                                       *   \n",
            "    *                                                               *   \n",
            "*   *   *   *   *   *   *   *   *   *   *   *   *   *   *   *   *   *   *   \n"
          ]
        }
      ],
      "source": [
        "ip = 10\n",
        "level = 2*ip - 1\n",
        "\n",
        "space = ip - 1\n",
        "star = 1\n",
        "\n",
        "for i in range(ip):\n",
        "    for j in range(space):\n",
        "        print('  ', end='  ')\n",
        "    if star == 1 or star == level:\n",
        "        for k in range(star):\n",
        "            print('* ', end='  ')\n",
        "    else:\n",
        "        remain = star - 2\n",
        "        print('* ', end='  ')\n",
        "        for k in range(remain):\n",
        "            print('  ', end='  ')\n",
        "        print('* ', end='  ')\n",
        "    space -= 1\n",
        "    star += 2\n",
        "    print()"
      ]
    },
    {
      "cell_type": "code",
      "execution_count": 5,
      "metadata": {},
      "outputs": [
        {
          "name": "stdout",
          "output_type": "stream",
          "text": [
            "                  * \n",
            "                *   * \n",
            "              *       * \n",
            "            *           * \n",
            "          *               * \n",
            "        *                   * \n",
            "      *                       * \n",
            "    *                           * \n",
            "  *                               * \n",
            "* * * * * * * * * * * * * * * * * * * \n"
          ]
        }
      ],
      "source": [
        "level = int(input())\n",
        "col = level\n",
        "for i in range(level):\n",
        "    for k in range(level - 1): \n",
        "        print(' ', end=\" \")\n",
        "\n",
        "    if i == 0 or i == col-1:\n",
        "        for k in range(2*i + 1):\n",
        "            print(\"*\", end=\" \")\n",
        "    else:\n",
        "        for k in range(2*i + 1):\n",
        "            if k == 0:\n",
        "                print(\"*\", end=\" \")\n",
        "            elif k == 2*i:\n",
        "                print(\"*\", end=\" \")\n",
        "            else:\n",
        "                print(' ', end=\" \")\n",
        "        \n",
        "    level-=1\n",
        "    print()"
      ]
    },
    {
      "attachments": {},
      "cell_type": "markdown",
      "metadata": {},
      "source": [
        "<h1>Diamond</h1>"
      ]
    },
    {
      "cell_type": "code",
      "execution_count": 6,
      "metadata": {
        "trusted": true
      },
      "outputs": [
        {
          "name": "stdout",
          "output_type": "stream",
          "text": [
            "                                    *   \n",
            "                                *   *   *   \n",
            "                            *   *   *   *   *   \n",
            "                        *   *   *   *   *   *   *   \n",
            "                    *   *   *   *   *   *   *   *   *   \n",
            "                *   *   *   *   *   *   *   *   *   *   *   \n",
            "            *   *   *   *   *   *   *   *   *   *   *   *   *   \n",
            "        *   *   *   *   *   *   *   *   *   *   *   *   *   *   *   \n",
            "    *   *   *   *   *   *   *   *   *   *   *   *   *   *   *   *   *   \n",
            "*   *   *   *   *   *   *   *   *   *   *   *   *   *   *   *   *   *   *   \n",
            "    *   *   *   *   *   *   *   *   *   *   *   *   *   *   *   *   *   \n",
            "        *   *   *   *   *   *   *   *   *   *   *   *   *   *   *   \n",
            "            *   *   *   *   *   *   *   *   *   *   *   *   *   \n",
            "                *   *   *   *   *   *   *   *   *   *   *   \n",
            "                    *   *   *   *   *   *   *   *   *   \n",
            "                        *   *   *   *   *   *   *   \n",
            "                            *   *   *   *   *   \n",
            "                                *   *   *   \n",
            "                                    *   \n",
            "                                        \n"
          ]
        }
      ],
      "source": [
        "ip = 10\n",
        "level = 2*ip - 1\n",
        "\n",
        "space = ip - 1\n",
        "star = 1\n",
        "\n",
        "for i in range(ip):\n",
        "    for j in range(space):\n",
        "        print('  ', end='  ')\n",
        "    for k in range(star):\n",
        "        print('* ', end='  ')\n",
        "    \n",
        "    space -= 1\n",
        "    star += 2\n",
        "    print()\n",
        "\n",
        "space = 1\n",
        "star = level - 2\n",
        "for i in range(ip):\n",
        "    for j in range(space):\n",
        "        print('  ', end='  ')\n",
        "    for k in range(star):\n",
        "        print('* ', end='  ')\n",
        "    \n",
        "    space += 1\n",
        "    star -= 2\n",
        "    print()"
      ]
    },
    {
      "attachments": {},
      "cell_type": "markdown",
      "metadata": {},
      "source": [
        "<h1>Traingle</h1>"
      ]
    },
    {
      "cell_type": "code",
      "execution_count": 7,
      "metadata": {},
      "outputs": [
        {
          "name": "stdout",
          "output_type": "stream",
          "text": [
            "0 0   0 1   0 2   0 3   0 4   0 5   0 6   0 7   0 8   0 9   \n",
            "1 0   1 1   1 2   1 3   1 4   1 5   1 6   1 7   1 8   1 9   \n",
            "2 0   2 1   2 2   2 3   2 4   2 5   2 6   2 7   2 8   2 9   \n",
            "3 0   3 1   3 2   3 3   3 4   3 5   3 6   3 7   3 8   3 9   \n",
            "4 0   4 1   4 2   4 3   4 4   4 5   4 6   4 7   4 8   4 9   \n",
            "5 0   5 1   5 2   5 3   5 4   5 5   5 6   5 7   5 8   5 9   \n",
            "6 0   6 1   6 2   6 3   6 4   6 5   6 6   6 7   6 8   6 9   \n",
            "7 0   7 1   7 2   7 3   7 4   7 5   7 6   7 7   7 8   7 9   \n",
            "8 0   8 1   8 2   8 3   8 4   8 5   8 6   8 7   8 8   8 9   \n",
            "9 0   9 1   9 2   9 3   9 4   9 5   9 6   9 7   9 8   9 9   \n"
          ]
        }
      ],
      "source": [
        "level = 10\n",
        "for i in range(10):\n",
        "    for j in range(10):\n",
        "        # if(i>=j):\n",
        "        #     print(\"* \", end=\" \")\n",
        "        # else:\n",
        "        #     print(\"  \", end=\" \")\n",
        "\n",
        "        print(i,j, end=\"   \")\n",
        "    print()"
      ]
    },
    {
      "cell_type": "code",
      "execution_count": 8,
      "metadata": {},
      "outputs": [
        {
          "name": "stdout",
          "output_type": "stream",
          "text": [
            "* \n",
            "* * \n",
            "* * * \n",
            "* * * * \n",
            "* * * * * \n",
            "* * * * * * \n",
            "* * * * * * * \n",
            "* * * * * * * * \n",
            "* * * * * * * * * \n",
            "* * * * * * * * * * \n"
          ]
        }
      ],
      "source": [
        "level = 10\n",
        "\n",
        "for i in range(level):\n",
        "    print('* '*(i+1))"
      ]
    },
    {
      "cell_type": "code",
      "execution_count": 9,
      "metadata": {},
      "outputs": [
        {
          "name": "stdout",
          "output_type": "stream",
          "text": [
            "* * * * * * * * * * \n",
            "* * * * * * * * * \n",
            "* * * * * * * * \n",
            "* * * * * * * \n",
            "* * * * * * \n",
            "* * * * * \n",
            "* * * * \n",
            "* * * \n",
            "* * \n",
            "* \n"
          ]
        }
      ],
      "source": [
        "level = 10\n",
        "for i in range(level):\n",
        "    print('* '*(level - i))"
      ]
    },
    {
      "cell_type": "code",
      "execution_count": 10,
      "metadata": {},
      "outputs": [
        {
          "name": "stdout",
          "output_type": "stream",
          "text": [
            "         * \n",
            "        * * \n",
            "       * * * \n",
            "      * * * * \n",
            "     * * * * * \n",
            "    * * * * * * \n",
            "   * * * * * * * \n",
            "  * * * * * * * * \n",
            " * * * * * * * * * \n",
            "* * * * * * * * * * \n"
          ]
        }
      ],
      "source": [
        "level = 10\n",
        "for i in range(level):\n",
        "    print(\" \"*(level-1) + \"* \"*(i+1))\n",
        "    level -= 1"
      ]
    },
    {
      "cell_type": "code",
      "execution_count": 11,
      "metadata": {},
      "outputs": [
        {
          "name": "stdout",
          "output_type": "stream",
          "text": [
            "                  * \n",
            "                * * \n",
            "              * * * \n",
            "            * * * * \n",
            "          * * * * * \n",
            "        * * * * * * \n",
            "      * * * * * * * \n",
            "    * * * * * * * * \n",
            "  * * * * * * * * * \n",
            "* * * * * * * * * * \n"
          ]
        }
      ],
      "source": [
        "level = 10\n",
        "for i in range(level):\n",
        "    print(\"  \"*(level-1) + \"* \"*(i+1))\n",
        "    level -= 1"
      ]
    },
    {
      "cell_type": "code",
      "execution_count": 1,
      "metadata": {},
      "outputs": [
        {
          "name": "stdout",
          "output_type": "stream",
          "text": [
            "--------0----------- 1 2 3 4 5 6 7 8 9 10 \n",
            "--------1----------- 2 3 4 5 6 7 8 9 10 \n",
            "--------2----------- 3 4 5 6 7 8 9 10 \n",
            "--------3----------- 4 5 6 7 8 9 10 \n",
            "--------4----------- 5 6 7 8 9 10 \n",
            "--------5----------- 6 7 8 9 10 \n",
            "--------6----------- 7 8 9 10 \n",
            "--------7----------- 8 9 10 \n",
            "--------8----------- 9 10 \n",
            "--------9----------- 10 \n"
          ]
        }
      ],
      "source": [
        "l = 11\n",
        "\n",
        "for i in range(l-1):\n",
        "    print(f'--------{i}-----------', end=\" \")\n",
        "    for j in range(i+1, l):\n",
        "        print(j, end=\" \")\n",
        "    print()"
      ]
    },
    {
      "cell_type": "code",
      "execution_count": 2,
      "metadata": {},
      "outputs": [
        {
          "name": "stdout",
          "output_type": "stream",
          "text": [
            "--------0----------- 0 1 2 3 4 5 6 7 8 9 \n",
            "--------1----------- 0 1 2 3 4 5 6 7 8 \n",
            "--------2----------- 0 1 2 3 4 5 6 7 \n",
            "--------3----------- 0 1 2 3 4 5 6 \n",
            "--------4----------- 0 1 2 3 4 5 \n",
            "--------5----------- 0 1 2 3 4 \n",
            "--------6----------- 0 1 2 3 \n",
            "--------7----------- 0 1 2 \n",
            "--------8----------- 0 1 \n",
            "--------9----------- 0 \n"
          ]
        }
      ],
      "source": [
        "for i in range(l-1):\n",
        "    print(f'--------{i}-----------', end=\" \")\n",
        "    for j in range(l-i-1):\n",
        "        print(j, end=\" \")\n",
        "    print()"
      ]
    }
  ],
  "metadata": {
    "kernelspec": {
      "display_name": "Python 3",
      "language": "python",
      "name": "python3"
    },
    "language_info": {
      "codemirror_mode": {
        "name": "ipython",
        "version": 3
      },
      "file_extension": ".py",
      "mimetype": "text/x-python",
      "name": "python",
      "nbconvert_exporter": "python",
      "pygments_lexer": "ipython3",
      "version": "3.10.12"
    },
    "vscode": {
      "interpreter": {
        "hash": "f1af8e9e7b81bd0acb2c0a8783f2dbe2b614545b4102e8f472ef55e374047c4b"
      }
    }
  },
  "nbformat": 4,
  "nbformat_minor": 4
}
