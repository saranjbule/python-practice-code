{
  "cells": [
    {
      "attachments": {},
      "cell_type": "markdown",
      "metadata": {},
      "source": [
        "<h3>Primitive Data Type"
      ]
    },
    {
      "attachments": {},
      "cell_type": "markdown",
      "metadata": {},
      "source": [
        "Integer Interning"
      ]
    },
    {
      "cell_type": "code",
      "execution_count": 1,
      "metadata": {
        "trusted": true
      },
      "outputs": [
        {
          "name": "stdout",
          "output_type": "stream",
          "text": [
            "139684901404720 139684901404720\n"
          ]
        }
      ],
      "source": [
        "i1 = -5\n",
        "i2 = -5\n",
        "\n",
        "print(id(i1), id(i2))"
      ]
    },
    {
      "cell_type": "code",
      "execution_count": 2,
      "metadata": {
        "trusted": true
      },
      "outputs": [
        {
          "name": "stdout",
          "output_type": "stream",
          "text": [
            "139684837225136 139684837224912\n"
          ]
        }
      ],
      "source": [
        "# interning range for integer is -5 to 256\n",
        "i1 = -15\n",
        "i2 = -15\n",
        "\n",
        "print(id(i1), id(i2)) # not in range -5...256 so no caching/ pre-loading via compiler"
      ]
    },
    {
      "attachments": {},
      "cell_type": "markdown",
      "metadata": {},
      "source": [
        "String Interning"
      ]
    },
    {
      "cell_type": "code",
      "execution_count": 16,
      "metadata": {
        "trusted": true
      },
      "outputs": [
        {
          "name": "stdout",
          "output_type": "stream",
          "text": [
            "139684836629808 139684836629808\n"
          ]
        }
      ],
      "source": [
        "s = 'saranj_bule12' # seems likes an identifer/ function name so caching is performed by compiler \n",
        "s1 = 'saranj_bule12'\n",
        "print(id(s), id(s1))"
      ]
    },
    {
      "cell_type": "code",
      "execution_count": 4,
      "metadata": {},
      "outputs": [
        {
          "name": "stdout",
          "output_type": "stream",
          "text": [
            "True\n"
          ]
        }
      ],
      "source": [
        "s = 'sarannj_sjhsdfsdhfs_sfjhdsfsdjfjdhkjjfshjksdf_sfjdshfdsjffjdshfsddhjf_ffhsdkfsdhfhdsjkfh_sd_SDFDSF12322321312'\n",
        "s1 = 'sarannj_sjhsdfsdhfs_sfjhdsfsdjfjdhkjjfshjksdf_sfjdshfdsjffjdshfsddhjf_ffhsdkfsdhfhdsjkfh_sd_SDFDSF12322321312'\n",
        "\n",
        "print(s is s1) # length of string doesn't matter for interning until it seems like identifer"
      ]
    },
    {
      "cell_type": "code",
      "execution_count": 5,
      "metadata": {},
      "outputs": [
        {
          "name": "stdout",
          "output_type": "stream",
          "text": [
            "139684785219632 139684785218864\n"
          ]
        }
      ],
      "source": [
        "s = 'saranj bule'\n",
        "s1 = 'saranj bule'\n",
        "print(id(s), id(s1))"
      ]
    },
    {
      "attachments": {},
      "cell_type": "markdown",
      "metadata": {},
      "source": [
        "Other Primitive Data type"
      ]
    },
    {
      "cell_type": "code",
      "execution_count": 6,
      "metadata": {},
      "outputs": [
        {
          "name": "stdout",
          "output_type": "stream",
          "text": [
            "139684837225392 139684837225680 False\n"
          ]
        }
      ],
      "source": [
        "f1 = 1.2\n",
        "f2 = 1.2\n",
        "print(id(f1), id(f2), f1 is f2)"
      ]
    },
    {
      "cell_type": "code",
      "execution_count": 7,
      "metadata": {},
      "outputs": [
        {
          "name": "stdout",
          "output_type": "stream",
          "text": [
            "False\n"
          ]
        }
      ],
      "source": [
        "c1 = 1+2j\n",
        "c2 = 1+2j\n",
        "\n",
        "print(c1 is c2)"
      ]
    },
    {
      "cell_type": "code",
      "execution_count": 8,
      "metadata": {},
      "outputs": [
        {
          "name": "stdout",
          "output_type": "stream",
          "text": [
            "94276740052000 94276740052000 94276740051968 94276740051968 94276740096992 94276740096992\n"
          ]
        }
      ],
      "source": [
        "x = True # True, False and None are created only once in a life time of a python program so caching is performed\n",
        "y = False\n",
        "z = None\n",
        "p = True\n",
        "q = False\n",
        "r = None\n",
        "\n",
        "print(id(x), id(p), id(y), id(q), id(z), id(r))"
      ]
    },
    {
      "attachments": {},
      "cell_type": "markdown",
      "metadata": {},
      "source": [
        "<h3>Non primitive Data Type"
      ]
    },
    {
      "attachments": {},
      "cell_type": "markdown",
      "metadata": {},
      "source": [
        "<i>Non primitive data type are not intern in python irrespective of mutable or immutable"
      ]
    },
    {
      "cell_type": "code",
      "execution_count": 9,
      "metadata": {
        "trusted": true
      },
      "outputs": [
        {
          "name": "stdout",
          "output_type": "stream",
          "text": [
            "139684785223488 139684785260160\n"
          ]
        }
      ],
      "source": [
        "l = [1, 2]\n",
        "l1 = [1, 2]\n",
        "print(id(l), id(l1))"
      ]
    },
    {
      "cell_type": "code",
      "execution_count": 10,
      "metadata": {},
      "outputs": [
        {
          "name": "stdout",
          "output_type": "stream",
          "text": [
            "True\n"
          ]
        }
      ],
      "source": [
        "l = [1, 2]\n",
        "l1 = l # referencing to same object i.e., l (shallow copy)\n",
        "\n",
        "print(l is l1)"
      ]
    },
    {
      "cell_type": "code",
      "execution_count": 11,
      "metadata": {
        "trusted": true
      },
      "outputs": [
        {
          "name": "stdout",
          "output_type": "stream",
          "text": [
            "139684836387840 139684836388544\n"
          ]
        }
      ],
      "source": [
        "t1 = (1, 2) \n",
        "t = (1, 2)\n",
        "print(id(t), id(t1))"
      ]
    },
    {
      "cell_type": "code",
      "execution_count": 12,
      "metadata": {
        "trusted": true
      },
      "outputs": [
        {
          "name": "stdout",
          "output_type": "stream",
          "text": [
            "139684784944960 139684836456384\n"
          ]
        }
      ],
      "source": [
        "d = {}\n",
        "d1 = {}\n",
        "print(id(d), id(d1))"
      ]
    },
    {
      "cell_type": "code",
      "execution_count": 17,
      "metadata": {},
      "outputs": [
        {
          "name": "stdout",
          "output_type": "stream",
          "text": [
            "False\n"
          ]
        }
      ],
      "source": [
        "s1 = {1, 2}\n",
        "s2 = {1, 2}\n",
        "\n",
        "print(s1 is s2)"
      ]
    },
    {
      "cell_type": "code",
      "execution_count": 14,
      "metadata": {},
      "outputs": [
        {
          "name": "stdout",
          "output_type": "stream",
          "text": [
            "False\n"
          ]
        }
      ],
      "source": [
        "f1 = frozenset(s1)\n",
        "f2 = frozenset(s1)\n",
        "\n",
        "print(f1 is f2)"
      ]
    }
  ],
  "metadata": {
    "kernelspec": {
      "display_name": "Python 3",
      "language": "python",
      "name": "python3"
    },
    "language_info": {
      "codemirror_mode": {
        "name": "ipython",
        "version": 3
      },
      "file_extension": ".py",
      "mimetype": "text/x-python",
      "name": "python",
      "nbconvert_exporter": "python",
      "pygments_lexer": "ipython3",
      "version": "3.10.12"
    },
    "vscode": {
      "interpreter": {
        "hash": "f1af8e9e7b81bd0acb2c0a8783f2dbe2b614545b4102e8f472ef55e374047c4b"
      }
    }
  },
  "nbformat": 4,
  "nbformat_minor": 4
}
