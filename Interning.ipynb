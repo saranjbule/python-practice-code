{
  "cells": [
    {
      "cell_type": "code",
      "execution_count": 5,
      "metadata": {
        "trusted": true
      },
      "outputs": [
        {
          "name": "stdout",
          "output_type": "stream",
          "text": [
            "53048008 53048008\n"
          ]
        }
      ],
      "source": [
        "s = 'saranjbule' #seem likes identifer to caching is performed by compiler \n",
        "s1 = 'saranjbule'\n",
        "print(id(s), id(s1))"
      ]
    },
    {
      "cell_type": "code",
      "execution_count": 2,
      "metadata": {},
      "outputs": [
        {
          "name": "stdout",
          "output_type": "stream",
          "text": [
            "2751049449584 2751049464560\n"
          ]
        }
      ],
      "source": [
        "s = 'saranj bule'\n",
        "s1 = 'saranj bule'\n",
        "print(id(s), id(s1))"
      ]
    },
    {
      "cell_type": "code",
      "execution_count": 11,
      "metadata": {
        "trusted": true
      },
      "outputs": [
        {
          "name": "stdout",
          "output_type": "stream",
          "text": [
            "52837208 53083008\n"
          ]
        }
      ],
      "source": [
        "l = [1, 2]\n",
        "l1 = [1, 2]\n",
        "print(id(l), id(l1))"
      ]
    },
    {
      "cell_type": "code",
      "execution_count": 1,
      "metadata": {
        "trusted": true
      },
      "outputs": [
        {
          "name": "stdout",
          "output_type": "stream",
          "text": [
            "2751049652160 2751049701184\n"
          ]
        }
      ],
      "source": [
        "t1 = (1, 2)\n",
        "t = (1, 2)\n",
        "print(id(t), id(t1))"
      ]
    },
    {
      "cell_type": "code",
      "execution_count": 13,
      "metadata": {
        "trusted": true
      },
      "outputs": [
        {
          "name": "stdout",
          "output_type": "stream",
          "text": [
            "51321448 51321496\n"
          ]
        }
      ],
      "source": [
        "d = {}\n",
        "d1 ={}\n",
        "print(id(d), id(d1))"
      ]
    },
    {
      "cell_type": "code",
      "execution_count": 1,
      "metadata": {
        "trusted": true
      },
      "outputs": [
        {
          "name": "stdout",
          "output_type": "stream",
          "text": [
            "8538736 8538736\n"
          ]
        }
      ],
      "source": [
        "i1 = -5\n",
        "i2 = -5\n",
        "\n",
        "print(id(i1), id(i2))"
      ]
    },
    {
      "cell_type": "code",
      "execution_count": 2,
      "metadata": {
        "trusted": true
      },
      "outputs": [
        {
          "name": "stdout",
          "output_type": "stream",
          "text": [
            "45939216 32172600\n"
          ]
        }
      ],
      "source": [
        "i1 = -15 # not in range -5 256 so no caching\n",
        "i2 = -15\n",
        "\n",
        "print(id(i1), id(i2))"
      ]
    }
  ],
  "metadata": {
    "kernelspec": {
      "display_name": "Python 3",
      "language": "python",
      "name": "python3"
    },
    "language_info": {
      "codemirror_mode": {
        "name": "ipython",
        "version": 3
      },
      "file_extension": ".py",
      "mimetype": "text/x-python",
      "name": "python",
      "nbconvert_exporter": "python",
      "pygments_lexer": "ipython3",
      "version": "3.10.9"
    },
    "vscode": {
      "interpreter": {
        "hash": "f1af8e9e7b81bd0acb2c0a8783f2dbe2b614545b4102e8f472ef55e374047c4b"
      }
    }
  },
  "nbformat": 4,
  "nbformat_minor": 4
}
