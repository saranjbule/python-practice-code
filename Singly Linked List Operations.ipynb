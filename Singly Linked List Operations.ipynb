{
 "cells": [
  {
   "cell_type": "code",
   "execution_count": 1,
   "metadata": {},
   "outputs": [],
   "source": [
    "class Node:\n",
    "    def __init__(self, val, next=None):\n",
    "        self.val = val\n",
    "        self.next = next"
   ]
  },
  {
   "cell_type": "markdown",
   "metadata": {},
   "source": [
    "Create A Linked List"
   ]
  },
  {
   "cell_type": "code",
   "execution_count": 2,
   "metadata": {},
   "outputs": [],
   "source": [
    "def createLL():\n",
    "    ip = [int(i) for i in input().split()]\n",
    "\n",
    "    head = tail = None\n",
    "\n",
    "    for i in ip:\n",
    "        n = Node(i)\n",
    "\n",
    "        if head is None:\n",
    "            head = tail = n\n",
    "        else:\n",
    "            tail.next = n\n",
    "            tail = n\n",
    "\n",
    "    return head"
   ]
  },
  {
   "cell_type": "markdown",
   "metadata": {},
   "source": [
    "Printing a Linked List"
   ]
  },
  {
   "cell_type": "code",
   "execution_count": 3,
   "metadata": {},
   "outputs": [],
   "source": [
    "def printLL(head):\n",
    "    while head is not None:\n",
    "        print(head.val, end=' => ')\n",
    "        head = head.next\n",
    "\n",
    "    print(None)"
   ]
  },
  {
   "cell_type": "markdown",
   "metadata": {},
   "source": [
    "Length of a Linked List"
   ]
  },
  {
   "cell_type": "code",
   "execution_count": 4,
   "metadata": {},
   "outputs": [],
   "source": [
    "def lengthLL(head):\n",
    "    length = 0\n",
    "\n",
    "    while head:\n",
    "        length += 1\n",
    "        head = head.next\n",
    "\n",
    "    return length"
   ]
  },
  {
   "cell_type": "markdown",
   "metadata": {},
   "source": [
    "Printing ith node of a Linked List"
   ]
  },
  {
   "cell_type": "code",
   "execution_count": 47,
   "metadata": {},
   "outputs": [],
   "source": [
    "def printNodeI(head, k):\n",
    "    s = 0\n",
    "\n",
    "    if k < 0 or k >= lengthLL(head):\n",
    "        return 'Out of Index Input'\n",
    "\n",
    "    while head:\n",
    "        if s == k:\n",
    "            return head.val\n",
    "        \n",
    "        s += 1\n",
    "        head = head.next"
   ]
  },
  {
   "cell_type": "markdown",
   "metadata": {},
   "source": [
    "Inserting at a ith node of a Linked List"
   ]
  },
  {
   "cell_type": "code",
   "execution_count": 51,
   "metadata": {},
   "outputs": [],
   "source": [
    "def insertLL(head, i, val):\n",
    "    if i < 0 or i > lengthLL(head):\n",
    "        return 'Out of Index Input'\n",
    "    \n",
    "    n = Node(val)\n",
    "\n",
    "    if i == 0:\n",
    "        n.next = head\n",
    "        return n # new head\n",
    "    \n",
    "    s = 1\n",
    "    curr = head\n",
    "\n",
    "    while curr:\n",
    "        next = curr.next\n",
    "\n",
    "        if i == s:\n",
    "            curr.next = n\n",
    "            n.next = next\n",
    "            break\n",
    "            \n",
    "        s += 1\n",
    "        curr = next\n",
    "\n",
    "    return head"
   ]
  },
  {
   "cell_type": "markdown",
   "metadata": {},
   "source": [
    "Deleting a node of a Linked List"
   ]
  },
  {
   "cell_type": "code",
   "execution_count": 65,
   "metadata": {},
   "outputs": [],
   "source": [
    "def deleteLL(head, i):\n",
    "    if i < 0 or i >= lengthLL(head):\n",
    "        return 'Out of Index Input'\n",
    "    \n",
    "    curr = head\n",
    "\n",
    "    if i == 0:\n",
    "        next = curr.next\n",
    "        curr.next = None \n",
    "        return next # new head\n",
    "    \n",
    "    s = 1\n",
    "    while curr:\n",
    "        next = curr.next\n",
    "        if i == s:\n",
    "            nextToNext = next.next\n",
    "            next.next = None\n",
    "            curr.next = nextToNext\n",
    "            break\n",
    "\n",
    "        s += 1\n",
    "        curr = next\n",
    "            \n",
    "    return head"
   ]
  },
  {
   "cell_type": "markdown",
   "metadata": {},
   "source": [
    "No need to delete as non referencing node will automatically gets garbage collected by garbage collector."
   ]
  },
  {
   "cell_type": "markdown",
   "metadata": {},
   "source": [
    "Printing using Recursion"
   ]
  },
  {
   "cell_type": "code",
   "execution_count": 73,
   "metadata": {},
   "outputs": [],
   "source": [
    "def printLLR(head):\n",
    "    if head is None:\n",
    "        print('None')\n",
    "        return\n",
    "    \n",
    "    print(head.val, end=\" => \")\n",
    "\n",
    "    printLLR(head.next)"
   ]
  },
  {
   "cell_type": "markdown",
   "metadata": {},
   "source": [
    "Inserting at ith postition using Recursion"
   ]
  },
  {
   "cell_type": "code",
   "execution_count": 118,
   "metadata": {},
   "outputs": [],
   "source": [
    "def insertR(head, i, val):\n",
    "    if i<0:\n",
    "        return head\n",
    "    \n",
    "    if i == 0:\n",
    "        n = Node(val)\n",
    "        n.next = head\n",
    "        return n\n",
    "\n",
    "    if head is None:\n",
    "        return head\n",
    "\n",
    "    rightLL = insertR(head.next, i-1, val)\n",
    "    head.next = rightLL\n",
    "\n",
    "    return head"
   ]
  },
  {
   "cell_type": "markdown",
   "metadata": {},
   "source": [
    "Condition head is None is below if i == 0 block bcz for empty list i.e., adding a single node"
   ]
  },
  {
   "cell_type": "markdown",
   "metadata": {},
   "source": [
    "Deleting a node using recursion"
   ]
  },
  {
   "cell_type": "code",
   "execution_count": 132,
   "metadata": {},
   "outputs": [],
   "source": [
    "def deleteLLR(head, i):\n",
    "    if head is None or i<0:\n",
    "        return head\n",
    "    \n",
    "    if i == 0:\n",
    "        next = head.next\n",
    "        head.next = None\n",
    "        return next\n",
    "    \n",
    "    rightLL = deleteLLR(head.next, i-1)\n",
    "    head.next = rightLL\n",
    "    return head"
   ]
  },
  {
   "cell_type": "markdown",
   "metadata": {},
   "source": [
    "Finding a Node in Linkedlist"
   ]
  },
  {
   "cell_type": "code",
   "execution_count": 36,
   "metadata": {},
   "outputs": [],
   "source": [
    "def find(h, k):\n",
    "    i = 0\n",
    "    \n",
    "    while h is not None:\n",
    "        if h.val == k:\n",
    "            return i\n",
    "        \n",
    "        i += 1\n",
    "        h = h.next\n",
    "\n",
    "    return -1"
   ]
  },
  {
   "cell_type": "markdown",
   "metadata": {},
   "source": [
    "Append last n node in Front"
   ]
  },
  {
   "cell_type": "code",
   "execution_count": 160,
   "metadata": {},
   "outputs": [],
   "source": [
    "def appendNFront(head, n):\n",
    "    l = lengthLL(head)\n",
    "\n",
    "    if n < 1 or n >= l:\n",
    "        return head\n",
    "    \n",
    "    i = l-n\n",
    "    s = 1\n",
    "    curr = head\n",
    "    newHead = None\n",
    "\n",
    "    while curr.next is not None:\n",
    "        next = curr.next\n",
    "\n",
    "        if s == i:\n",
    "            newHead = next\n",
    "            curr.next = None\n",
    "\n",
    "        curr = next\n",
    "        s += 1\n",
    "    \n",
    "    curr.next = head\n",
    "\n",
    "    return newHead"
   ]
  },
  {
   "cell_type": "code",
   "execution_count": 161,
   "metadata": {},
   "outputs": [
    {
     "name": "stdout",
     "output_type": "stream",
     "text": [
      "1 => 2 => 3 => None\n"
     ]
    }
   ],
   "source": [
    "head = createLL()\n",
    "printLL(head)"
   ]
  },
  {
   "cell_type": "code",
   "execution_count": 166,
   "metadata": {},
   "outputs": [
    {
     "name": "stdout",
     "output_type": "stream",
     "text": [
      "1 => 2 => 3 => None\n"
     ]
    }
   ],
   "source": [
    "head = appendNFront(head, 2)\n",
    "printLL(head)"
   ]
  },
  {
   "cell_type": "markdown",
   "metadata": {},
   "source": [
    "Eliminate Duplicate in sorted Linked List"
   ]
  },
  {
   "cell_type": "code",
   "execution_count": 180,
   "metadata": {},
   "outputs": [],
   "source": [
    "def removeDuplicate(head):\n",
    "    curr = head\n",
    "\n",
    "    while curr is not None and curr.next is not None:\n",
    "        next = curr.next\n",
    "\n",
    "        while next is not None and curr.val == next.val:\n",
    "            nextToNext = next.next\n",
    "            next.next = None\n",
    "            next = nextToNext\n",
    "\n",
    "        curr.next = next\n",
    "        curr = next\n",
    "\n",
    "    return head"
   ]
  },
  {
   "cell_type": "markdown",
   "metadata": {},
   "source": [
    "Printing from last in LinkeList"
   ]
  },
  {
   "cell_type": "code",
   "execution_count": 199,
   "metadata": {},
   "outputs": [],
   "source": [
    "def reversePrint(head):\n",
    "    if head is None:\n",
    "        return\n",
    "    \n",
    "    reversePrint(head.next)\n",
    "    print(head.val, end=\" \")"
   ]
  },
  {
   "cell_type": "markdown",
   "metadata": {},
   "source": [
    "- Time Complexity : O(n)\n",
    "- Space Complexity : O(n)"
   ]
  },
  {
   "cell_type": "code",
   "execution_count": 225,
   "metadata": {},
   "outputs": [],
   "source": [
    "def reversePrint2(head):\n",
    "    l = lengthLL(head)\n",
    "\n",
    "    for i in range(l):\n",
    "        curr = head\n",
    "\n",
    "        for _ in range(l-i-1):\n",
    "            curr = curr.next\n",
    "        \n",
    "        print(curr.val, end=\" \")"
   ]
  },
  {
   "cell_type": "markdown",
   "metadata": {},
   "source": [
    "- Time Complexity O(n^2)\n",
    "- Space Complexity O(1)"
   ]
  },
  {
   "cell_type": "markdown",
   "metadata": {},
   "source": [
    "Reverse a linkedlist Using Iteration"
   ]
  },
  {
   "cell_type": "code",
   "execution_count": 228,
   "metadata": {},
   "outputs": [],
   "source": [
    "def reverseLL(head):\n",
    "    curr = head\n",
    "    prev = None\n",
    "\n",
    "    while curr is not None:\n",
    "        next = curr.next\n",
    "        curr.next = prev\n",
    "\n",
    "        prev = curr\n",
    "        curr = next\n",
    "\n",
    "    return prev"
   ]
  },
  {
   "cell_type": "markdown",
   "metadata": {},
   "source": [
    "Reverse a linkedlist Using Recursion"
   ]
  },
  {
   "cell_type": "code",
   "execution_count": 24,
   "metadata": {},
   "outputs": [],
   "source": [
    "def reverseLLR(head):\n",
    "    if head is None or head.next is None:\n",
    "        return head\n",
    "    \n",
    "    rightLL = reverseLLR(head.next)\n",
    "\n",
    "    tail = rightLL\n",
    "\n",
    "    while tail.next is not None:\n",
    "        tail = tail.next\n",
    "\n",
    "    tail.next = head\n",
    "    head.next = None\n",
    "\n",
    "    return rightLL"
   ]
  },
  {
   "cell_type": "code",
   "execution_count": 95,
   "metadata": {},
   "outputs": [],
   "source": [
    "def reverseLLR2(head):\n",
    "    if head is None or head.next is None:\n",
    "        return head, head\n",
    "    \n",
    "    rH, rT = reverseLLR2(head.next)\n",
    "\n",
    "    head.next = None\n",
    "    rT.next = head\n",
    "\n",
    "    return rH, head"
   ]
  },
  {
   "cell_type": "code",
   "execution_count": 30,
   "metadata": {},
   "outputs": [],
   "source": [
    "def reverseLLR3(head):\n",
    "    if head is None or head.next is None:\n",
    "        return head\n",
    "    \n",
    "    rightLL = reverseLLR3(head.next)\n",
    "\n",
    "    tail = head.next\n",
    "    tail.next = head\n",
    "    head.next = None\n",
    "\n",
    "    return rightLL"
   ]
  },
  {
   "cell_type": "markdown",
   "metadata": {},
   "source": [
    "Create a LinkedList using existing Linkedlist"
   ]
  },
  {
   "cell_type": "code",
   "execution_count": 62,
   "metadata": {},
   "outputs": [],
   "source": [
    "def createNewLL(head):\n",
    "    head2 = None\n",
    "    prev = None\n",
    "\n",
    "    while head:\n",
    "        n = Node(head.val)\n",
    "        \n",
    "        if head2 is None:\n",
    "            head2 = n\n",
    "        else:\n",
    "            prev.next = n\n",
    "        \n",
    "        prev = n\n",
    "        head = head.next\n",
    "\n",
    "    return head2"
   ]
  },
  {
   "cell_type": "code",
   "execution_count": 65,
   "metadata": {},
   "outputs": [],
   "source": [
    "h3 = reverseLL(head) # not in place reverse"
   ]
  },
  {
   "cell_type": "markdown",
   "metadata": {},
   "source": [
    "Check Plaindrome"
   ]
  },
  {
   "cell_type": "markdown",
   "metadata": {},
   "source": [
    "Creating a copy of linkedlist and applying in-place reverse on it  "
   ]
  },
  {
   "cell_type": "code",
   "execution_count": 67,
   "metadata": {},
   "outputs": [],
   "source": [
    "def palindromeLL(head1, head2):\n",
    "    while head1 and head2:\n",
    "        if head1.val != head2.val:\n",
    "            return False\n",
    "\n",
    "        head1 = head1.next\n",
    "        head2 = head2.next\n",
    "\n",
    "    return True\n",
    "        "
   ]
  },
  {
   "cell_type": "code",
   "execution_count": 76,
   "metadata": {},
   "outputs": [],
   "source": [
    "def checkPalindrome(head):\n",
    "    l = lengthLL(head)\n",
    "\n",
    "    if l<2:\n",
    "        return True\n",
    "\n",
    "    s = 0\n",
    "    mid = l//2\n",
    "\n",
    "    partitionHead = createTwoLL(head, mid)\n",
    "    reverseHead = reverseLL(partitionHead)\n",
    "\n",
    "    while head and reverseHead:\n",
    "        if head.val != reverseHead.val:\n",
    "            return False\n",
    "\n",
    "        head = head.next\n",
    "        reverseHead = reverseHead.next\n",
    "\n",
    "    return True\n"
   ]
  },
  {
   "cell_type": "code",
   "execution_count": 77,
   "metadata": {},
   "outputs": [],
   "source": [
    "def createTwoLL(head, mid):\n",
    "    s = 1\n",
    "\n",
    "    while s <= mid:\n",
    "        next = head.next\n",
    "        \n",
    "        if s == mid:\n",
    "            head.next = None\n",
    "\n",
    "        head = next\n",
    "        s += 1\n",
    "\n",
    "    return head"
   ]
  },
  {
   "cell_type": "markdown",
   "metadata": {},
   "source": [
    "Mid Point in Linkedlist in Single pass Floyd's tortise and rabbit"
   ]
  },
  {
   "cell_type": "code",
   "execution_count": 69,
   "metadata": {},
   "outputs": [],
   "source": [
    "def getMid(head):\n",
    "    if head is None:\n",
    "        return head\n",
    "\n",
    "    slow = fast = head\n",
    "\n",
    "    while fast.next is not None and fast.next.next is not None: # fast.next is true then check for fast.next.next else stop\n",
    "        slow = slow.next\n",
    "        fast = fast.next.next\n",
    "\n",
    "    return slow"
   ]
  },
  {
   "cell_type": "markdown",
   "metadata": {},
   "source": [
    "Merge Two Sorted Linkedlist"
   ]
  },
  {
   "cell_type": "code",
   "execution_count": 75,
   "metadata": {},
   "outputs": [],
   "source": [
    "def mergeTwo(h1, h2):\n",
    "    head = tail = None\n",
    "\n",
    "    while h1 is not None and h2 is not None:\n",
    "        if h1.val < h2.val:\n",
    "            if head is None:\n",
    "                head = tail = h1\n",
    "            else:\n",
    "                tail.next = h1\n",
    "                tail = h1\n",
    "\n",
    "            h1 = h1.next\n",
    "        else:\n",
    "            if head is None:\n",
    "                head = tail = h2\n",
    "            else:\n",
    "                tail.next = h2\n",
    "                tail = h2\n",
    "\n",
    "            h2 = h2.next\n",
    "\n",
    "    if h1 is not None:\n",
    "        tail.next = h1\n",
    "\n",
    "    if h2 is not None:\n",
    "        tail.next = h2\n",
    "\n",
    "    return head"
   ]
  },
  {
   "cell_type": "markdown",
   "metadata": {},
   "source": [
    "Merge Sort"
   ]
  },
  {
   "cell_type": "code",
   "execution_count": 100,
   "metadata": {},
   "outputs": [],
   "source": [
    "def mergeSort(head):\n",
    "    if head is None or head.next is None:\n",
    "        return head\n",
    "    \n",
    "    mid = getMid(head) # return middle element\n",
    "\n",
    "    next = mid.next\n",
    "    mid.next = None\n",
    "\n",
    "    left = mergeSort(head)\n",
    "    right = mergeSort(next)\n",
    "\n",
    "    h = mergeTwo(left, right)\n",
    "\n",
    "    return h"
   ]
  },
  {
   "cell_type": "markdown",
   "metadata": {},
   "source": [
    "Even after Odd Linkeslist"
   ]
  },
  {
   "cell_type": "code",
   "execution_count": 5,
   "metadata": {},
   "outputs": [],
   "source": [
    "def evenAfOdd(head):\n",
    "    curr = head\n",
    "    evenHead = oddHead = evenTail = oddTail = None\n",
    "\n",
    "    while curr is not None:\n",
    "        if curr.val % 2 == 0:\n",
    "            if evenHead is None:\n",
    "                evenHead = curr\n",
    "                evenTail = curr\n",
    "            else:\n",
    "                evenTail.next = curr\n",
    "                evenTail = curr\n",
    "        else:\n",
    "            if oddHead is None:\n",
    "                oddHead = curr\n",
    "                oddTail = curr\n",
    "            else:\n",
    "                oddTail.next = curr\n",
    "                oddTail = curr\n",
    "\n",
    "        curr = curr.next\n",
    "\n",
    "    if evenHead:\n",
    "        evenTail.next = None\n",
    "\n",
    "    if oddHead:\n",
    "        oddTail.next = evenHead\n",
    "        return oddHead\n",
    "    else:\n",
    "        return evenHead"
   ]
  },
  {
   "cell_type": "markdown",
   "metadata": {},
   "source": [
    "Delete N Nodes after M Nodes"
   ]
  },
  {
   "cell_type": "code",
   "execution_count": 36,
   "metadata": {},
   "outputs": [],
   "source": [
    "def deleteM(head, m, n):\n",
    "    curr = head\n",
    "    counter = 0\n",
    "\n",
    "    while curr is not None:\n",
    "        while curr is not None and counter < m-1:\n",
    "            counter += 1\n",
    "            curr = curr.next\n",
    "\n",
    "\n",
    "        tail = curr\n",
    "        counter = 0\n",
    "\n",
    "        while curr is not None and counter < n+1:\n",
    "            counter += 1\n",
    "            curr = curr.next\n",
    "        \n",
    "        tail2 = curr\n",
    "        tail.next = tail2\n",
    "        counter = 0\n",
    "\n",
    "    return head"
   ]
  }
 ],
 "metadata": {
  "kernelspec": {
   "display_name": "Python 3",
   "language": "python",
   "name": "python3"
  },
  "language_info": {
   "codemirror_mode": {
    "name": "ipython",
    "version": 3
   },
   "file_extension": ".py",
   "mimetype": "text/x-python",
   "name": "python",
   "nbconvert_exporter": "python",
   "pygments_lexer": "ipython3",
   "version": "3.10.12"
  }
 },
 "nbformat": 4,
 "nbformat_minor": 2
}
