{
 "cells": [
  {
   "cell_type": "code",
   "execution_count": 2,
   "metadata": {},
   "outputs": [],
   "source": [
    "class Node:\n",
    "    def __init__(self, val, next=None):\n",
    "        self.val = val\n",
    "        self.next = next"
   ]
  },
  {
   "cell_type": "markdown",
   "metadata": {},
   "source": [
    "Create A Linked List"
   ]
  },
  {
   "cell_type": "code",
   "execution_count": 3,
   "metadata": {},
   "outputs": [],
   "source": [
    "def createLinkedList():\n",
    "    HEAD = None\n",
    "    TAIL = None\n",
    "\n",
    "    while True:\n",
    "        n = int(input())\n",
    "\n",
    "        if n == -1:\n",
    "            break\n",
    "\n",
    "        curr = Node(n)\n",
    "\n",
    "        if HEAD is None:\n",
    "            HEAD = curr\n",
    "            TAIL = curr\n",
    "        else:\n",
    "            TAIL.next = curr\n",
    "            TAIL = curr\n",
    "\n",
    "    return HEAD\n"
   ]
  },
  {
   "cell_type": "code",
   "execution_count": 4,
   "metadata": {},
   "outputs": [],
   "source": [
    "def createLinkedList2():\n",
    "    HEAD = None\n",
    "    TAIL = None\n",
    "\n",
    "    ip = [int(i) for i in input().split()]\n",
    "\n",
    "    for n in ip:\n",
    "        if n == -1:\n",
    "            break\n",
    "\n",
    "        curr = Node(n)\n",
    "\n",
    "        if HEAD is None:\n",
    "            HEAD = curr\n",
    "            TAIL = curr\n",
    "        else:\n",
    "            TAIL.next = curr\n",
    "            TAIL = curr\n",
    "\n",
    "    return HEAD"
   ]
  },
  {
   "cell_type": "code",
   "execution_count": 1,
   "metadata": {},
   "outputs": [],
   "source": [
    "def createLL():\n",
    "    ip = [int(i) for i in input().split()]\n",
    "    head = tail = None\n",
    "\n",
    "    for i in ip:\n",
    "        n = Node(i)\n",
    "\n",
    "        if head is None:\n",
    "            head = tail = n\n",
    "\n",
    "        tail.next = n\n",
    "        tail = n\n",
    "\n",
    "    return head"
   ]
  },
  {
   "cell_type": "markdown",
   "metadata": {},
   "source": [
    "Printing a Linked List"
   ]
  },
  {
   "cell_type": "code",
   "execution_count": 5,
   "metadata": {},
   "outputs": [],
   "source": [
    "def printLinkedList(h):\n",
    "    while h is not None:\n",
    "        print(h.val, end=\" => \")\n",
    "        h = h.next\n",
    "    print(\"NONE\")"
   ]
  },
  {
   "cell_type": "code",
   "execution_count": 10,
   "metadata": {},
   "outputs": [],
   "source": [
    "head = createLinkedList()"
   ]
  },
  {
   "cell_type": "code",
   "execution_count": 11,
   "metadata": {},
   "outputs": [
    {
     "name": "stdout",
     "output_type": "stream",
     "text": [
      "10 => 20 => 30 => NONE\n"
     ]
    }
   ],
   "source": [
    "printLinkedList(head)"
   ]
  },
  {
   "cell_type": "code",
   "execution_count": 12,
   "metadata": {},
   "outputs": [],
   "source": [
    "head = createLinkedList2()"
   ]
  },
  {
   "cell_type": "code",
   "execution_count": 13,
   "metadata": {},
   "outputs": [
    {
     "name": "stdout",
     "output_type": "stream",
     "text": [
      "1 => 2 => 3 => 4 => 5 => NONE\n"
     ]
    }
   ],
   "source": [
    "printLinkedList(head)"
   ]
  },
  {
   "cell_type": "markdown",
   "metadata": {},
   "source": [
    "Length of a Linked List"
   ]
  },
  {
   "cell_type": "code",
   "execution_count": 6,
   "metadata": {},
   "outputs": [],
   "source": [
    "def length(h):\n",
    "    l = 0\n",
    "\n",
    "    while h is not None:\n",
    "        l += 1\n",
    "        h = h.next\n",
    "\n",
    "    return l"
   ]
  },
  {
   "cell_type": "code",
   "execution_count": 15,
   "metadata": {},
   "outputs": [
    {
     "data": {
      "text/plain": [
       "5"
      ]
     },
     "execution_count": 15,
     "metadata": {},
     "output_type": "execute_result"
    }
   ],
   "source": [
    "length(head)"
   ]
  },
  {
   "cell_type": "markdown",
   "metadata": {},
   "source": [
    "Printing ith node of a Linked List"
   ]
  },
  {
   "cell_type": "code",
   "execution_count": 16,
   "metadata": {},
   "outputs": [],
   "source": [
    "def printIthNode(h, k):\n",
    "    i = 0\n",
    "    while h is not None:\n",
    "        if i == k:\n",
    "            return h\n",
    "\n",
    "        h = h.next\n",
    "        i += 1"
   ]
  },
  {
   "cell_type": "code",
   "execution_count": 17,
   "metadata": {},
   "outputs": [],
   "source": [
    "ele = printIthNode(head, 2)"
   ]
  },
  {
   "cell_type": "code",
   "execution_count": 18,
   "metadata": {},
   "outputs": [
    {
     "data": {
      "text/plain": [
       "3"
      ]
     },
     "execution_count": 18,
     "metadata": {},
     "output_type": "execute_result"
    }
   ],
   "source": [
    "ele.val"
   ]
  },
  {
   "cell_type": "markdown",
   "metadata": {},
   "source": [
    "Inserting at a ith node of a Linked List"
   ]
  },
  {
   "cell_type": "code",
   "execution_count": 19,
   "metadata": {},
   "outputs": [],
   "source": [
    "def insertAtIthNode(head, index, data):\n",
    "    if index<0 or index>=length(head):\n",
    "        print(f'Out of Index to insert {index} node')\n",
    "        return head \n",
    "    \n",
    "    if index == 0:\n",
    "        n = Node(data, head)\n",
    "        return n\n",
    "\n",
    "    n = Node(data)\n",
    "    i = 0\n",
    "\n",
    "    while head is not None:\n",
    "        if i == index:\n",
    "            rightLL = head.next\n",
    "            head.next = n\n",
    "            n.next = rightLL\n",
    "            break\n",
    "        \n",
    "        i += 1\n",
    "        head = head.next"
   ]
  },
  {
   "cell_type": "code",
   "execution_count": 20,
   "metadata": {},
   "outputs": [
    {
     "name": "stdout",
     "output_type": "stream",
     "text": [
      "10 => 1 => 2 => 3 => 4 => 5 => NONE\n"
     ]
    }
   ],
   "source": [
    "head = insertAtIthNode(head, 0, 10)\n",
    "printLinkedList(head)"
   ]
  },
  {
   "cell_type": "code",
   "execution_count": 21,
   "metadata": {},
   "outputs": [
    {
     "name": "stdout",
     "output_type": "stream",
     "text": [
      "10 => 1 => 2 => 3 => 400 => 4 => 5 => NONE\n"
     ]
    }
   ],
   "source": [
    "insertAtIthNode(head, 3, 400)\n",
    "printLinkedList(head)"
   ]
  },
  {
   "cell_type": "code",
   "execution_count": 22,
   "metadata": {},
   "outputs": [
    {
     "name": "stdout",
     "output_type": "stream",
     "text": [
      "10 => 1 => 2 => 3 => 3 => 400 => 4 => 5 => NONE\n"
     ]
    }
   ],
   "source": [
    "insertAtIthNode(head, 2, 3)\n",
    "printLinkedList(head)"
   ]
  },
  {
   "cell_type": "markdown",
   "metadata": {},
   "source": [
    "Deleting a node of a Linked List"
   ]
  },
  {
   "cell_type": "code",
   "execution_count": 23,
   "metadata": {},
   "outputs": [],
   "source": [
    "def deleteNode(head, index):\n",
    "    if index<0 or index>=length(head):\n",
    "        print('Out of Index')\n",
    "        return head\n",
    "\n",
    "    i = 0\n",
    "    prev = None\n",
    "    curr = head\n",
    "    \n",
    "    while curr is not None:\n",
    "        if index == 0:\n",
    "            next = curr.next\n",
    "            del curr\n",
    "            return next\n",
    "        elif i == index:\n",
    "            prev.next = curr.next\n",
    "            del curr\n",
    "            return head\n",
    "\n",
    "        i += 1\n",
    "        prev = curr\n",
    "        curr = curr.next"
   ]
  },
  {
   "cell_type": "code",
   "execution_count": 24,
   "metadata": {},
   "outputs": [],
   "source": [
    "head = deleteNode(head, 0)"
   ]
  },
  {
   "cell_type": "code",
   "execution_count": 25,
   "metadata": {},
   "outputs": [
    {
     "name": "stdout",
     "output_type": "stream",
     "text": [
      "1 => 2 => 3 => 3 => 400 => 4 => 5 => NONE\n"
     ]
    }
   ],
   "source": [
    "printLinkedList(head)"
   ]
  },
  {
   "cell_type": "code",
   "execution_count": 26,
   "metadata": {},
   "outputs": [],
   "source": [
    "head = deleteNode(head, 4)"
   ]
  },
  {
   "cell_type": "code",
   "execution_count": 27,
   "metadata": {},
   "outputs": [
    {
     "name": "stdout",
     "output_type": "stream",
     "text": [
      "1 => 3 => 3 => 4 => 5 => NONE\n"
     ]
    }
   ],
   "source": [
    "head = deleteNode(head, 1)\n",
    "printLinkedList(head)"
   ]
  },
  {
   "cell_type": "code",
   "execution_count": 28,
   "metadata": {},
   "outputs": [
    {
     "name": "stdout",
     "output_type": "stream",
     "text": [
      "1 => 3 => 4 => 5 => NONE\n"
     ]
    }
   ],
   "source": [
    "head = deleteNode(head, 2)\n",
    "printLinkedList(head)"
   ]
  },
  {
   "cell_type": "markdown",
   "metadata": {},
   "source": [
    "Priting using Recursion"
   ]
  },
  {
   "cell_type": "code",
   "execution_count": 29,
   "metadata": {},
   "outputs": [],
   "source": [
    "def printingLL(head):\n",
    "    if head is None:\n",
    "        return\n",
    "    \n",
    "    print(head.val)\n",
    "\n",
    "    printingLL(head.next)\n",
    "    "
   ]
  },
  {
   "cell_type": "code",
   "execution_count": 30,
   "metadata": {},
   "outputs": [
    {
     "name": "stdout",
     "output_type": "stream",
     "text": [
      "1\n",
      "3\n",
      "4\n",
      "5\n"
     ]
    }
   ],
   "source": [
    "printingLL(head)"
   ]
  },
  {
   "cell_type": "markdown",
   "metadata": {},
   "source": [
    "Inserting at ith postition using Recursion"
   ]
  },
  {
   "cell_type": "code",
   "execution_count": 31,
   "metadata": {},
   "outputs": [],
   "source": [
    "def insertingInLL(head, i, data):\n",
    "    if i < 0:\n",
    "        return head\n",
    "    \n",
    "    if i == 0:\n",
    "        n = Node(data, head)\n",
    "        return n\n",
    "    \n",
    "    if head is None:\n",
    "        return head\n",
    "\n",
    "    rightLL = insertingInLL(head.next, i-1, data)\n",
    "    head.next = rightLL\n",
    "    return head"
   ]
  },
  {
   "cell_type": "markdown",
   "metadata": {},
   "source": [
    "Condition head is None is below if i == 0 block bcz for empty list i.e., adding a single node"
   ]
  },
  {
   "cell_type": "code",
   "execution_count": 32,
   "metadata": {},
   "outputs": [
    {
     "name": "stdout",
     "output_type": "stream",
     "text": [
      "1 => 2 => NONE\n",
      "100 => 1 => 2 => NONE\n",
      "100 => 1 => 2 => NONE\n",
      "100 => 1 => 2 => 40 => NONE\n",
      "100 => 1 => 2 => 40 => NONE\n"
     ]
    }
   ],
   "source": [
    "head = createLinkedList2()\n",
    "printLinkedList(head)\n",
    "\n",
    "head = insertingInLL(head, 0, 100)\n",
    "printLinkedList(head)\n",
    "\n",
    "head = insertingInLL(head, -1, 10)\n",
    "printLinkedList(head)\n",
    "\n",
    "head = insertingInLL(head, 3, 40)\n",
    "printLinkedList(head)\n",
    "\n",
    "head = insertingInLL(head, 5, 50)\n",
    "printLinkedList(head)\n",
    "\n"
   ]
  },
  {
   "cell_type": "code",
   "execution_count": 33,
   "metadata": {},
   "outputs": [
    {
     "name": "stdout",
     "output_type": "stream",
     "text": [
      "50 => NONE\n"
     ]
    }
   ],
   "source": [
    "head = insertingInLL(None, 0, 50)\n",
    "printLinkedList(head)\n"
   ]
  },
  {
   "cell_type": "markdown",
   "metadata": {},
   "source": [
    "Deleting a node using recursion"
   ]
  },
  {
   "cell_type": "code",
   "execution_count": 34,
   "metadata": {},
   "outputs": [],
   "source": [
    "def deletingNode(head, i):\n",
    "    if i < 0 or head is None:\n",
    "        return head\n",
    "    \n",
    "    if i == 0:\n",
    "        next = head.next\n",
    "        del head\n",
    "        return next\n",
    "\n",
    "    rightLL = deletingNode(head.next, i-1)\n",
    "    head.next = rightLL\n",
    "    return head"
   ]
  },
  {
   "cell_type": "code",
   "execution_count": 35,
   "metadata": {},
   "outputs": [
    {
     "name": "stdout",
     "output_type": "stream",
     "text": [
      "1 => 3 => 5 => 6 => NONE\n",
      "1 => 5 => 6 => NONE\n",
      "5 => 6 => NONE\n"
     ]
    }
   ],
   "source": [
    "head = createLinkedList2()\n",
    "printLinkedList(head)\n",
    "\n",
    "head = deletingNode(head, 1)\n",
    "printLinkedList(head)\n",
    "\n",
    "head = deletingNode(head, 0)\n",
    "printLinkedList(head)"
   ]
  },
  {
   "cell_type": "markdown",
   "metadata": {},
   "source": [
    "Finding a Node in Linkedlist"
   ]
  },
  {
   "cell_type": "code",
   "execution_count": 36,
   "metadata": {},
   "outputs": [],
   "source": [
    "def find(h, k):\n",
    "    i = 0 \n",
    "    while h is not None:\n",
    "        if h.val == k:\n",
    "            return i\n",
    "        \n",
    "        i += 1\n",
    "        h = h.next\n",
    "\n",
    "    return -1"
   ]
  },
  {
   "cell_type": "code",
   "execution_count": 37,
   "metadata": {},
   "outputs": [
    {
     "name": "stdout",
     "output_type": "stream",
     "text": [
      "1 => 5 => NONE\n"
     ]
    }
   ],
   "source": [
    "head = createLinkedList2()\n",
    "printLinkedList(head)\n"
   ]
  },
  {
   "cell_type": "code",
   "execution_count": 38,
   "metadata": {},
   "outputs": [
    {
     "data": {
      "text/plain": [
       "-1"
      ]
     },
     "execution_count": 38,
     "metadata": {},
     "output_type": "execute_result"
    }
   ],
   "source": [
    "find(head, 200)"
   ]
  },
  {
   "cell_type": "markdown",
   "metadata": {},
   "source": [
    "Append last n node in Front"
   ]
  },
  {
   "cell_type": "code",
   "execution_count": 60,
   "metadata": {},
   "outputs": [],
   "source": [
    "head = createLinkedList2()"
   ]
  },
  {
   "cell_type": "code",
   "execution_count": 61,
   "metadata": {},
   "outputs": [
    {
     "name": "stdout",
     "output_type": "stream",
     "text": [
      "10 => 20 => 30 => NONE\n"
     ]
    }
   ],
   "source": [
    "printLinkedList(head)"
   ]
  },
  {
   "cell_type": "code",
   "execution_count": 62,
   "metadata": {},
   "outputs": [],
   "source": [
    "l = length(head)"
   ]
  },
  {
   "cell_type": "code",
   "execution_count": 63,
   "metadata": {},
   "outputs": [],
   "source": [
    "def appendToFirst(head, n):\n",
    "    if n>0 and n<l:\n",
    "        e = l - n\n",
    "        s = 1\n",
    "        tail = head\n",
    "        head2 = None\n",
    "\n",
    "        while s<=e:\n",
    "            if s == e:\n",
    "                head2 = tail.next\n",
    "                tail.next = None\n",
    "                tail = head2\n",
    "            else:\n",
    "                tail = tail.next\n",
    "            s += 1\n",
    "        \n",
    "        while tail.next is not None:\n",
    "            tail = tail.next\n",
    "\n",
    "        tail.next = head\n",
    "\n",
    "        return head2\n",
    "    \n",
    "    return 'Invalid Input'\n"
   ]
  },
  {
   "cell_type": "code",
   "execution_count": 64,
   "metadata": {},
   "outputs": [
    {
     "name": "stdout",
     "output_type": "stream",
     "text": [
      "20 => 30 => 10 => NONE\n"
     ]
    }
   ],
   "source": [
    "h = appendToFirst(head, 2)\n",
    "printLinkedList(h)"
   ]
  },
  {
   "cell_type": "markdown",
   "metadata": {},
   "source": [
    "Eliminate Duplicate in sorted Linked List"
   ]
  },
  {
   "cell_type": "code",
   "execution_count": 100,
   "metadata": {},
   "outputs": [
    {
     "name": "stdout",
     "output_type": "stream",
     "text": [
      "1 => 1 => 1 => 2 => 2 => 2 => 2 => 3 => 3 => 3 => 3 => 3 => 4 => 4 => 4 => 4 => 4 => 5 => NONE\n"
     ]
    }
   ],
   "source": [
    "head = createLinkedList2()\n",
    "printLinkedList(head)"
   ]
  },
  {
   "cell_type": "code",
   "execution_count": 103,
   "metadata": {},
   "outputs": [],
   "source": [
    "def eliminateDuplicate(h):\n",
    "    curr = h\n",
    "    prev = None\n",
    "\n",
    "    while curr is not None:\n",
    "        if prev is not None:\n",
    "            duplicate = False\n",
    "            while prev.val == curr.val:\n",
    "                duplicate = True\n",
    "                curr = curr.next\n",
    "                \n",
    "            if duplicate:\n",
    "                prev.next = curr.next\n",
    "                prev = None\n",
    "        else:\n",
    "            prev = curr\n",
    "            curr = curr.next"
   ]
  },
  {
   "cell_type": "code",
   "execution_count": 104,
   "metadata": {},
   "outputs": [
    {
     "ename": "KeyboardInterrupt",
     "evalue": "",
     "output_type": "error",
     "traceback": [
      "\u001b[0;31m---------------------------------------------------------------------------\u001b[0m",
      "\u001b[0;31mKeyboardInterrupt\u001b[0m                         Traceback (most recent call last)",
      "\u001b[1;32m/home/saranj/Mine/python-practice-code/Singly Linked List Operations.ipynb Cell 54\u001b[0m line \u001b[0;36m1\n\u001b[0;32m----> <a href='vscode-notebook-cell:/home/saranj/Mine/python-practice-code/Singly%20Linked%20List%20Operations.ipynb#Y112sZmlsZQ%3D%3D?line=0'>1</a>\u001b[0m eliminateDuplicate(head)\n",
      "\u001b[1;32m/home/saranj/Mine/python-practice-code/Singly Linked List Operations.ipynb Cell 54\u001b[0m line \u001b[0;36m8\n\u001b[1;32m      <a href='vscode-notebook-cell:/home/saranj/Mine/python-practice-code/Singly%20Linked%20List%20Operations.ipynb#Y112sZmlsZQ%3D%3D?line=5'>6</a>\u001b[0m \u001b[39mif\u001b[39;00m prev \u001b[39mis\u001b[39;00m \u001b[39mnot\u001b[39;00m \u001b[39mNone\u001b[39;00m:\n\u001b[1;32m      <a href='vscode-notebook-cell:/home/saranj/Mine/python-practice-code/Singly%20Linked%20List%20Operations.ipynb#Y112sZmlsZQ%3D%3D?line=6'>7</a>\u001b[0m     duplicate \u001b[39m=\u001b[39m \u001b[39mFalse\u001b[39;00m\n\u001b[0;32m----> <a href='vscode-notebook-cell:/home/saranj/Mine/python-practice-code/Singly%20Linked%20List%20Operations.ipynb#Y112sZmlsZQ%3D%3D?line=7'>8</a>\u001b[0m     \u001b[39mwhile\u001b[39;00m prev\u001b[39m.\u001b[39mval \u001b[39m==\u001b[39m curr\u001b[39m.\u001b[39mval:\n\u001b[1;32m      <a href='vscode-notebook-cell:/home/saranj/Mine/python-practice-code/Singly%20Linked%20List%20Operations.ipynb#Y112sZmlsZQ%3D%3D?line=8'>9</a>\u001b[0m         duplicate \u001b[39m=\u001b[39m \u001b[39mTrue\u001b[39;00m\n\u001b[1;32m     <a href='vscode-notebook-cell:/home/saranj/Mine/python-practice-code/Singly%20Linked%20List%20Operations.ipynb#Y112sZmlsZQ%3D%3D?line=9'>10</a>\u001b[0m         curr \u001b[39m=\u001b[39m curr\u001b[39m.\u001b[39mnext\n",
      "\u001b[0;31mKeyboardInterrupt\u001b[0m: "
     ]
    }
   ],
   "source": [
    "eliminateDuplicate(head)"
   ]
  },
  {
   "cell_type": "code",
   "execution_count": null,
   "metadata": {},
   "outputs": [
    {
     "name": "stdout",
     "output_type": "stream",
     "text": [
      "1 => 2 => 2 => 2 => 3 => NONE\n"
     ]
    }
   ],
   "source": [
    "printLinkedList(head)"
   ]
  },
  {
   "cell_type": "code",
   "execution_count": null,
   "metadata": {},
   "outputs": [],
   "source": []
  }
 ],
 "metadata": {
  "kernelspec": {
   "display_name": "Python 3",
   "language": "python",
   "name": "python3"
  },
  "language_info": {
   "codemirror_mode": {
    "name": "ipython",
    "version": 3
   },
   "file_extension": ".py",
   "mimetype": "text/x-python",
   "name": "python",
   "nbconvert_exporter": "python",
   "pygments_lexer": "ipython3",
   "version": "3.10.12"
  }
 },
 "nbformat": 4,
 "nbformat_minor": 2
}
