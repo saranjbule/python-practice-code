{
 "cells": [
  {
   "cell_type": "code",
   "execution_count": 9,
   "metadata": {},
   "outputs": [
    {
     "name": "stdout",
     "output_type": "stream",
     "text": [
      "Hello Saranj\n"
     ]
    }
   ],
   "source": [
    "print('Hello Saranj')"
   ]
  },
  {
   "cell_type": "code",
   "execution_count": 10,
   "metadata": {},
   "outputs": [],
   "source": [
    "x, y, z = 'saranj', 1, True\n",
    "# number of variables/ identifier == number of values,\n",
    "# else it throws an error."
   ]
  },
  {
   "cell_type": "code",
   "execution_count": 11,
   "metadata": {},
   "outputs": [
    {
     "name": "stdout",
     "output_type": "stream",
     "text": [
      "saranj 1 True\n"
     ]
    }
   ],
   "source": [
    "print(x, y, z)"
   ]
  },
  {
   "cell_type": "code",
   "execution_count": 2,
   "metadata": {},
   "outputs": [
    {
     "ename": "TypeError",
     "evalue": "cannot unpack non-iterable int object",
     "output_type": "error",
     "traceback": [
      "\u001b[0;31m---------------------------------------------------------------------------\u001b[0m",
      "\u001b[0;31mTypeError\u001b[0m                                 Traceback (most recent call last)",
      "Cell \u001b[0;32mIn[2], line 1\u001b[0m\n\u001b[0;32m----> 1\u001b[0m x, y \u001b[39m=\u001b[39m \u001b[39m0\u001b[39m\n",
      "\u001b[0;31mTypeError\u001b[0m: cannot unpack non-iterable int object"
     ]
    }
   ],
   "source": [
    "x, y = 0\n"
   ]
  },
  {
   "cell_type": "code",
   "execution_count": null,
   "metadata": {},
   "outputs": [
    {
     "ename": "ValueError",
     "evalue": "not enough values to unpack (expected 2, got 1)",
     "output_type": "error",
     "traceback": [
      "\u001b[0;31m---------------------------------------------------------------------------\u001b[0m",
      "\u001b[0;31mValueError\u001b[0m                                Traceback (most recent call last)",
      "Cell \u001b[0;32mIn[8], line 1\u001b[0m\n\u001b[0;32m----> 1\u001b[0m x, y \u001b[39m=\u001b[39m \u001b[39m'\u001b[39m\u001b[39mn\u001b[39m\u001b[39m'\u001b[39m\n",
      "\u001b[0;31mValueError\u001b[0m: not enough values to unpack (expected 2, got 1)"
     ]
    }
   ],
   "source": [
    "x, y = 'n' # unpacking"
   ]
  },
  {
   "cell_type": "code",
   "execution_count": null,
   "metadata": {},
   "outputs": [
    {
     "name": "stdout",
     "output_type": "stream",
     "text": [
      "n []\n"
     ]
    }
   ],
   "source": [
    "x, *y = 'n'\n",
    "print(x, y)"
   ]
  },
  {
   "cell_type": "code",
   "execution_count": 7,
   "metadata": {},
   "outputs": [
    {
     "name": "stdout",
     "output_type": "stream",
     "text": [
      "n ['K', 'i', 'n', 'g']\n"
     ]
    }
   ],
   "source": [
    "x, *y = 'nKing'\n",
    "print(x, y)"
   ]
  },
  {
   "cell_type": "code",
   "execution_count": 4,
   "metadata": {},
   "outputs": [],
   "source": [
    "x = y = z = 'new'"
   ]
  },
  {
   "cell_type": "code",
   "execution_count": null,
   "metadata": {},
   "outputs": [
    {
     "name": "stdout",
     "output_type": "stream",
     "text": [
      "new new new\n"
     ]
    }
   ],
   "source": [
    "print(x, y, z)"
   ]
  },
  {
   "cell_type": "code",
   "execution_count": null,
   "metadata": {},
   "outputs": [
    {
     "name": "stdout",
     "output_type": "stream",
     "text": [
      "140457838449968 140457838449968 140457838449968\n"
     ]
    }
   ],
   "source": [
    "print(id(x), id(y), id(z)) # interning as it seems like identifier"
   ]
  },
  {
   "cell_type": "code",
   "execution_count": null,
   "metadata": {},
   "outputs": [],
   "source": [
    "x = 'saranj', 'bule', 13, True # packing"
   ]
  },
  {
   "cell_type": "code",
   "execution_count": null,
   "metadata": {},
   "outputs": [
    {
     "name": "stdout",
     "output_type": "stream",
     "text": [
      "('saranj', 'bule', 13, True) <class 'tuple'>\n"
     ]
    }
   ],
   "source": [
    "print(x, type(x))"
   ]
  },
  {
   "cell_type": "code",
   "execution_count": null,
   "metadata": {},
   "outputs": [],
   "source": [
    "a = ['saranj', 1, True] # packing"
   ]
  },
  {
   "cell_type": "code",
   "execution_count": null,
   "metadata": {},
   "outputs": [],
   "source": [
    "a0, *a1 = a # Unpack a Collection = unpacking"
   ]
  },
  {
   "cell_type": "code",
   "execution_count": null,
   "metadata": {},
   "outputs": [
    {
     "name": "stdout",
     "output_type": "stream",
     "text": [
      "['saranj', 1, True] saranj [1, True]\n"
     ]
    }
   ],
   "source": [
    "print(a, a0, a1)"
   ]
  },
  {
   "cell_type": "code",
   "execution_count": null,
   "metadata": {},
   "outputs": [
    {
     "name": "stdout",
     "output_type": "stream",
     "text": [
      "[]\n"
     ]
    }
   ],
   "source": [
    "b = list()\n",
    "print(b)"
   ]
  },
  {
   "cell_type": "code",
   "execution_count": null,
   "metadata": {},
   "outputs": [
    {
     "name": "stdout",
     "output_type": "stream",
     "text": [
      "3\n"
     ]
    }
   ],
   "source": [
    "c = int('3')\n",
    "print(c)"
   ]
  },
  {
   "cell_type": "code",
   "execution_count": 1,
   "metadata": {},
   "outputs": [
    {
     "ename": "ValueError",
     "evalue": "invalid literal for int() with base 10: '3.0'",
     "output_type": "error",
     "traceback": [
      "\u001b[0;31m---------------------------------------------------------------------------\u001b[0m",
      "\u001b[0;31mValueError\u001b[0m                                Traceback (most recent call last)",
      "Cell \u001b[0;32mIn[1], line 1\u001b[0m\n\u001b[0;32m----> 1\u001b[0m c1 \u001b[39m=\u001b[39m \u001b[39mint\u001b[39;49m(\u001b[39m'\u001b[39;49m\u001b[39m3.0\u001b[39;49m\u001b[39m'\u001b[39;49m)\n\u001b[1;32m      2\u001b[0m \u001b[39mprint\u001b[39m(c1)\n\u001b[1;32m      3\u001b[0m \u001b[39m# Python tries to convert string to an integer, \u001b[39;00m\n\u001b[1;32m      4\u001b[0m \u001b[39m# but it fails because `3.0` is not a valid representation of an integer. \u001b[39;00m\n",
      "\u001b[0;31mValueError\u001b[0m: invalid literal for int() with base 10: '3.0'"
     ]
    }
   ],
   "source": [
    "c1 = int('3.0')\n",
    "print(c1)\n",
    "\n",
    "# Python tries to convert string to an integer, \n",
    "# but it fails because `3.0` is not a valid representation of an integer. "
   ]
  },
  {
   "cell_type": "code",
   "execution_count": null,
   "metadata": {},
   "outputs": [
    {
     "name": "stdout",
     "output_type": "stream",
     "text": [
      "3\n"
     ]
    }
   ],
   "source": [
    "c1 = int(float('3.0')) # 3.0 (str -> float) => 3 (float -> int)\n",
    "print(c1)"
   ]
  },
  {
   "cell_type": "code",
   "execution_count": null,
   "metadata": {},
   "outputs": [
    {
     "name": "stdout",
     "output_type": "stream",
     "text": [
      "3\n"
     ]
    }
   ],
   "source": [
    "c1 = int(3.0)\n",
    "print(c1)"
   ]
  },
  {
   "attachments": {},
   "cell_type": "markdown",
   "metadata": {},
   "source": [
    "String Formating"
   ]
  },
  {
   "cell_type": "code",
   "execution_count": null,
   "metadata": {},
   "outputs": [
    {
     "name": "stdout",
     "output_type": "stream",
     "text": [
      "I am saranj , True 3699\n",
      "x='saranj' y = True\n"
     ]
    }
   ],
   "source": [
    "x = 'saranj'\n",
    "y = True\n",
    "\n",
    "print(f'I am {x} , {y} 3699')\n",
    "\n",
    "print(f'{x=} {y = }')"
   ]
  },
  {
   "cell_type": "code",
   "execution_count": null,
   "metadata": {},
   "outputs": [
    {
     "name": "stdout",
     "output_type": "stream",
     "text": [
      "40 is smaller than 100.\n"
     ]
    }
   ],
   "source": [
    "x = 40\n",
    "y = 100\n",
    "print(f'{x} is {\"greater\" if x > y else \"smaller\"} than {y}.')"
   ]
  },
  {
   "cell_type": "code",
   "execution_count": null,
   "metadata": {},
   "outputs": [
    {
     "name": "stdout",
     "output_type": "stream",
     "text": [
      "Integer -10 is less to 0\n"
     ]
    }
   ],
   "source": [
    "a = -10\n",
    "print(f'Integer {a} is {\"greater\" if a > 0 else \"less\" if a <0 else \"equal\"} to 0')"
   ]
  },
  {
   "attachments": {},
   "cell_type": "markdown",
   "metadata": {},
   "source": [
    "Shallow Vs Deep Copy"
   ]
  },
  {
   "cell_type": "code",
   "execution_count": null,
   "metadata": {},
   "outputs": [
    {
     "name": "stdout",
     "output_type": "stream",
     "text": [
      "[1, 2, 3] [1, 2, 3]\n",
      "140069961143680 140069961143680\n",
      "True\n"
     ]
    }
   ],
   "source": [
    "arr = [1, 2]\n",
    "\n",
    "# shallow copy\n",
    "\n",
    "arr0 = arr # pointing to same memory reference i.e., memory address\n",
    "\n",
    "arr0.append(3)\n",
    "\n",
    "print(arr, arr0)\n",
    "print(id(arr), id(arr0))\n",
    "print(arr is arr0)"
   ]
  },
  {
   "cell_type": "code",
   "execution_count": null,
   "metadata": {},
   "outputs": [],
   "source": [
    "x = y = z = {} # circular reference i.e, shallow copy"
   ]
  },
  {
   "cell_type": "code",
   "execution_count": null,
   "metadata": {},
   "outputs": [
    {
     "name": "stdout",
     "output_type": "stream",
     "text": [
      "{'k': 'v'} {'k': 'v'} {'k': 'v'}\n"
     ]
    }
   ],
   "source": [
    "x['k'] = 'v'\n",
    "\n",
    "print(x, y, z)"
   ]
  },
  {
   "cell_type": "code",
   "execution_count": null,
   "metadata": {},
   "outputs": [
    {
     "name": "stdout",
     "output_type": "stream",
     "text": [
      "140457348654272 140457348401728 140457348404928 140457348650624\n",
      "[1, 2, 3] [1, 2, 3] [1, 2, 3] [1, 2, 3]\n"
     ]
    }
   ],
   "source": [
    "# deep copy \n",
    "# create a new object\n",
    "\n",
    "arr1 = list(arr) # list constructor \n",
    "arr2 = arr[:] # list slicing\n",
    "arr3 = arr.copy() # list build-in copy method\n",
    "\n",
    "print(id(arr), id(arr1), id(arr2), id(arr3))\n",
    "print(arr, arr1, arr2, arr3)"
   ]
  },
  {
   "cell_type": "code",
   "execution_count": null,
   "metadata": {},
   "outputs": [
    {
     "name": "stdout",
     "output_type": "stream",
     "text": [
      "10\n",
      "0\n",
      "1\n",
      "2\n",
      "2\n"
     ]
    }
   ],
   "source": [
    "i = 10\n",
    "print(i)\n",
    "\n",
    "for i in range(3): # loop's do not create any scope\n",
    "    print(i)\n",
    "\n",
    "print(i) # hence alter the global value"
   ]
  },
  {
   "cell_type": "code",
   "execution_count": null,
   "metadata": {},
   "outputs": [
    {
     "name": "stdout",
     "output_type": "stream",
     "text": [
      "0\n",
      "1\n",
      "2\n",
      "100 [None, None, None]\n"
     ]
    }
   ],
   "source": [
    "i = 100\n",
    "\n",
    "j = [print(i) for i in range(3)] # list comprehension create's a scope.\n",
    "\n",
    "print(i, j)"
   ]
  },
  {
   "cell_type": "code",
   "execution_count": null,
   "metadata": {},
   "outputs": [
    {
     "name": "stdout",
     "output_type": "stream",
     "text": [
      "i = 'a' z = ['b', 'c']\n",
      "i = 'x' z = ['y', 'z']\n"
     ]
    }
   ],
   "source": [
    "x = (('a', 'b', 'c'), ('x', 'y', 'z'))\n",
    "\n",
    "for i, *z in x:\n",
    "    print(f'{i = } {z = }')\n",
    "# *var always return list of iterable"
   ]
  },
  {
   "cell_type": "code",
   "execution_count": null,
   "metadata": {},
   "outputs": [
    {
     "name": "stdout",
     "output_type": "stream",
     "text": [
      "10 9 8 7 6 5 4 3 2 1 "
     ]
    }
   ],
   "source": [
    "for i in range(10, 0, -1):\n",
    "    print(i, end=\" \")"
   ]
  },
  {
   "attachments": {},
   "cell_type": "markdown",
   "metadata": {},
   "source": [
    "Scoping"
   ]
  },
  {
   "cell_type": "code",
   "execution_count": null,
   "metadata": {},
   "outputs": [
    {
     "name": "stdout",
     "output_type": "stream",
     "text": [
      "[1]\n"
     ]
    }
   ],
   "source": [
    "def change(a): # function scope\n",
    "    a = [2] # local scope\n",
    "\n",
    "arr = [1] # global scope\n",
    "\n",
    "change(arr)\n",
    "\n",
    "print(arr)"
   ]
  },
  {
   "cell_type": "code",
   "execution_count": null,
   "metadata": {},
   "outputs": [
    {
     "name": "stdout",
     "output_type": "stream",
     "text": [
      "[1, 2]\n"
     ]
    }
   ],
   "source": [
    "def change(a): # function scope\n",
    "    a.append(2) # build-in method change the original list\n",
    "\n",
    "arr = [1] # global scope\n",
    "\n",
    "change(arr)\n",
    "\n",
    "print(arr)"
   ]
  },
  {
   "cell_type": "code",
   "execution_count": null,
   "metadata": {},
   "outputs": [
    {
     "name": "stdout",
     "output_type": "stream",
     "text": [
      "[12]\n"
     ]
    }
   ],
   "source": [
    "def change(a): # function scope\n",
    "    a = [12]\n",
    "    return a\n",
    "\n",
    "arr = [1] # global scope\n",
    "\n",
    "arr = change(arr)\n",
    "\n",
    "print(arr)"
   ]
  },
  {
   "cell_type": "code",
   "execution_count": null,
   "metadata": {},
   "outputs": [
    {
     "name": "stdout",
     "output_type": "stream",
     "text": [
      "[]\n",
      "[2]\n",
      "----\n",
      "[2]\n",
      "[2, 2]\n",
      "----\n",
      "[10]\n",
      "[10, 2]\n",
      "----\n",
      "[2, 2]\n",
      "[2, 2, 2]\n",
      "----\n",
      "[15]\n",
      "[15, 2]\n",
      "----\n"
     ]
    }
   ],
   "source": [
    "def f(a=[]): # in python everything is an object, f is an object of function class \n",
    "    print(a) # which have default parameter as an attribute \n",
    "    a.append(2) # hence alterning the orignal list in default parameter i.e., a\n",
    "    print(a)\n",
    "    print('----')\n",
    "\n",
    "f()\n",
    "f()\n",
    "f([10])\n",
    "f()\n",
    "f([15])"
   ]
  },
  {
   "cell_type": "code",
   "execution_count": null,
   "metadata": {},
   "outputs": [
    {
     "name": "stdout",
     "output_type": "stream",
     "text": [
      "[2]\n",
      "[2]\n"
     ]
    }
   ],
   "source": [
    "def f(a=None): # None is created only once throughout the life-time of the program\n",
    "    a = a or []\n",
    "    a.append(2)\n",
    "    # if a is None:\n",
    "    #     a = []\n",
    "    #     a.append(2)\n",
    "    print(a)\n",
    "\n",
    "f()\n",
    "f()"
   ]
  },
  {
   "cell_type": "code",
   "execution_count": null,
   "metadata": {},
   "outputs": [
    {
     "name": "stdout",
     "output_type": "stream",
     "text": [
      "True\n",
      "[1, 2, 3] [1, 2]\n",
      "False\n"
     ]
    }
   ],
   "source": [
    "x = [1, 2]\n",
    "x_copy = x\n",
    "print(x is x_copy)\n",
    "x = x+[3]\n",
    "print(x, x_copy)\n",
    "print(x is x_copy)"
   ]
  },
  {
   "cell_type": "code",
   "execution_count": null,
   "metadata": {},
   "outputs": [
    {
     "name": "stdout",
     "output_type": "stream",
     "text": [
      "True\n",
      "[1, 2, 3] [1, 2, 3]\n",
      "True\n"
     ]
    }
   ],
   "source": [
    "x = [1, 2]\n",
    "x_copy = x\n",
    "print(x is x_copy)\n",
    "x += [3]\n",
    "print(x, x_copy)\n",
    "print(x is x_copy)\n"
   ]
  },
  {
   "cell_type": "code",
   "execution_count": null,
   "metadata": {},
   "outputs": [
    {
     "name": "stdout",
     "output_type": "stream",
     "text": [
      "[[1, 2, [5, 6]], [3, 4]] [[1, 2, [5, 6]], [3, 4]] False True\n"
     ]
    }
   ],
   "source": [
    "x = [[1, 2], [3, 4]]\n",
    "\n",
    "y = x.copy()\n",
    "\n",
    "x[0].append([5, 6])\n",
    "\n",
    "print(x, y, x is y, x[0] is y[0])"
   ]
  },
  {
   "cell_type": "code",
   "execution_count": null,
   "metadata": {},
   "outputs": [
    {
     "name": "stdout",
     "output_type": "stream",
     "text": [
      "[[1, 2, [5, 6]], [3, 4]] [[1, 2], [3, 4]]\n"
     ]
    }
   ],
   "source": [
    "import copy\n",
    "\n",
    "x = [[1, 2], [3, 4]]\n",
    "\n",
    "y = copy.deepcopy(x) # for deepcopy of all the nested array\n",
    "\n",
    "x[0].append([5, 6])\n",
    "\n",
    "print(x, y)"
   ]
  },
  {
   "cell_type": "code",
   "execution_count": null,
   "metadata": {},
   "outputs": [
    {
     "name": "stdout",
     "output_type": "stream",
     "text": [
      "[[1, 2, [5, 6]], [3, 4]] [[1, 2], [3, 4]]\n"
     ]
    }
   ],
   "source": [
    "x = [[1, 2], [3, 4]]\n",
    "\n",
    "y = [i[:] for i in x] # i[:] or i.copy() or list(i)\n",
    "\n",
    "x[0].append([5, 6])\n",
    "\n",
    "print(x, y)"
   ]
  },
  {
   "cell_type": "code",
   "execution_count": null,
   "metadata": {},
   "outputs": [
    {
     "name": "stdout",
     "output_type": "stream",
     "text": [
      "10\n"
     ]
    }
   ],
   "source": [
    "x = 10\n",
    "def f():\n",
    "    print(x)\n",
    "\n",
    "f()\n"
   ]
  },
  {
   "cell_type": "code",
   "execution_count": null,
   "metadata": {},
   "outputs": [
    {
     "ename": "UnboundLocalError",
     "evalue": "local variable 'x' referenced before assignment",
     "output_type": "error",
     "traceback": [
      "\u001b[0;31m---------------------------------------------------------------------------\u001b[0m",
      "\u001b[0;31mUnboundLocalError\u001b[0m                         Traceback (most recent call last)",
      "Cell \u001b[0;32mIn[11], line 6\u001b[0m\n\u001b[1;32m      3\u001b[0m     \u001b[39mprint\u001b[39m(x)\n\u001b[1;32m      4\u001b[0m     x\u001b[39m=\u001b[39m\u001b[39m1\u001b[39m\n\u001b[0;32m----> 6\u001b[0m f()\n",
      "Cell \u001b[0;32mIn[11], line 3\u001b[0m, in \u001b[0;36mf\u001b[0;34m()\u001b[0m\n\u001b[1;32m      2\u001b[0m \u001b[39mdef\u001b[39;00m \u001b[39mf\u001b[39m():\n\u001b[0;32m----> 3\u001b[0m     \u001b[39mprint\u001b[39m(x)\n\u001b[1;32m      4\u001b[0m     x\u001b[39m=\u001b[39m\u001b[39m1\u001b[39m\n",
      "\u001b[0;31mUnboundLocalError\u001b[0m: local variable 'x' referenced before assignment"
     ]
    }
   ],
   "source": [
    "x = 10\n",
    "def f():\n",
    "    print(x)\n",
    "    x=1\n",
    "\n",
    "f()\n"
   ]
  },
  {
   "cell_type": "code",
   "execution_count": null,
   "metadata": {},
   "outputs": [
    {
     "ename": "UnboundLocalError",
     "evalue": "local variable 'x' referenced before assignment",
     "output_type": "error",
     "traceback": [
      "\u001b[0;31m---------------------------------------------------------------------------\u001b[0m",
      "\u001b[0;31mUnboundLocalError\u001b[0m                         Traceback (most recent call last)",
      "Cell \u001b[0;32mIn[12], line 6\u001b[0m\n\u001b[1;32m      3\u001b[0m     x\u001b[39m+\u001b[39m\u001b[39m=\u001b[39m\u001b[39m1\u001b[39m\n\u001b[1;32m      4\u001b[0m     \u001b[39mprint\u001b[39m(x)\n\u001b[0;32m----> 6\u001b[0m f()\n",
      "Cell \u001b[0;32mIn[12], line 3\u001b[0m, in \u001b[0;36mf\u001b[0;34m()\u001b[0m\n\u001b[1;32m      2\u001b[0m \u001b[39mdef\u001b[39;00m \u001b[39mf\u001b[39m():\n\u001b[0;32m----> 3\u001b[0m     x\u001b[39m+\u001b[39m\u001b[39m=\u001b[39m\u001b[39m1\u001b[39m\n\u001b[1;32m      4\u001b[0m     \u001b[39mprint\u001b[39m(x)\n",
      "\u001b[0;31mUnboundLocalError\u001b[0m: local variable 'x' referenced before assignment"
     ]
    }
   ],
   "source": [
    "x = 10\n",
    "def f():\n",
    "    x+=1\n",
    "    print(x)\n",
    "\n",
    "f()"
   ]
  },
  {
   "cell_type": "code",
   "execution_count": null,
   "metadata": {},
   "outputs": [
    {
     "name": "stdout",
     "output_type": "stream",
     "text": [
      "11\n"
     ]
    }
   ],
   "source": [
    "x = 10\n",
    "def f():\n",
    "    global x\n",
    "    x+=1\n",
    "    print(x)\n",
    "\n",
    "f()"
   ]
  },
  {
   "attachments": {},
   "cell_type": "markdown",
   "metadata": {},
   "source": [
    "Set operation"
   ]
  },
  {
   "cell_type": "code",
   "execution_count": null,
   "metadata": {},
   "outputs": [],
   "source": [
    "s1 = {1, 5, 3, 7}\n",
    "s2 = {7, 2, 1}"
   ]
  },
  {
   "cell_type": "code",
   "execution_count": null,
   "metadata": {},
   "outputs": [
    {
     "data": {
      "text/plain": [
       "{3, 5}"
      ]
     },
     "execution_count": 5,
     "metadata": {},
     "output_type": "execute_result"
    }
   ],
   "source": [
    "s1 - s2 # difference"
   ]
  },
  {
   "cell_type": "code",
   "execution_count": null,
   "metadata": {},
   "outputs": [
    {
     "data": {
      "text/plain": [
       "{1, 2, 3, 5, 7}"
      ]
     },
     "execution_count": 6,
     "metadata": {},
     "output_type": "execute_result"
    }
   ],
   "source": [
    "s1 | s2 # union"
   ]
  },
  {
   "cell_type": "code",
   "execution_count": null,
   "metadata": {},
   "outputs": [
    {
     "data": {
      "text/plain": [
       "{1, 7}"
      ]
     },
     "execution_count": 7,
     "metadata": {},
     "output_type": "execute_result"
    }
   ],
   "source": [
    "s1 & s2 # intersection"
   ]
  },
  {
   "cell_type": "code",
   "execution_count": null,
   "metadata": {},
   "outputs": [],
   "source": [
    "x = (1, 2, 3)\n",
    "y = (4, 5)\n"
   ]
  },
  {
   "cell_type": "code",
   "execution_count": null,
   "metadata": {},
   "outputs": [
    {
     "name": "stdout",
     "output_type": "stream",
     "text": [
      "(1, 2, 3, 4, 5)\n"
     ]
    }
   ],
   "source": [
    "x = x+y # tuple is immutable datatype but adding tuple to tuple is allowed\n",
    "print(x)"
   ]
  },
  {
   "cell_type": "code",
   "execution_count": null,
   "metadata": {},
   "outputs": [
    {
     "name": "stdout",
     "output_type": "stream",
     "text": [
      "(1, 2, 3, 4, 5)\n"
     ]
    }
   ],
   "source": [
    "x+=y\n",
    "print(x)"
   ]
  },
  {
   "cell_type": "code",
   "execution_count": 9,
   "metadata": {},
   "outputs": [
    {
     "name": "stdout",
     "output_type": "stream",
     "text": [
      "0 --- False --- <class 'int'>\n",
      "() --- False --- <class 'tuple'>\n",
      "[] --- False --- <class 'list'>\n",
      "{} --- False --- <class 'dict'>\n",
      "False --- False --- <class 'bool'>\n",
      " --- False --- <class 'str'>\n",
      "None --- False --- <class 'NoneType'>\n",
      "<function f at 0x7f0294184ee0> --- True --- <class 'function'>\n",
      "<function <lambda> at 0x7f0294187e20> --- True --- <class 'function'>\n",
      "<class '__main__.C'> --- True --- <class 'type'>\n"
     ]
    }
   ],
   "source": [
    "def f():\n",
    "    return\n",
    "\n",
    "class C:\n",
    "    pass\n",
    "\n",
    "for i in (0, (), [], {}, False, '', None, f, lambda x: x+1, C):\n",
    "    print(i, '---', bool(i), '---', type(i))"
   ]
  },
  {
   "cell_type": "markdown",
   "metadata": {},
   "source": [
    "Decorator"
   ]
  },
  {
   "cell_type": "code",
   "execution_count": null,
   "metadata": {},
   "outputs": [],
   "source": [
    "def f(func):\n",
    "    def wrapper(*args, **kwargs):\n",
    "        print('start')\n",
    "        func(*args, **kwargs)\n",
    "        print('end')\n",
    "\n",
    "    return wrapper\n",
    "\n",
    "@f # f(greet(a, b=2))\n",
    "def greet(a, b=2):\n",
    "    print('heello', a, b)"
   ]
  },
  {
   "cell_type": "code",
   "execution_count": null,
   "metadata": {},
   "outputs": [
    {
     "name": "stdout",
     "output_type": "stream",
     "text": [
      "start\n",
      "heello saranj 2\n",
      "end\n"
     ]
    }
   ],
   "source": [
    "greet('saranj')"
   ]
  },
  {
   "cell_type": "code",
   "execution_count": null,
   "metadata": {},
   "outputs": [
    {
     "name": "stdout",
     "output_type": "stream",
     "text": [
      "start\n",
      "heello saranj bule\n",
      "end\n"
     ]
    }
   ],
   "source": [
    "greet('saranj', 'bule')"
   ]
  },
  {
   "cell_type": "code",
   "execution_count": null,
   "metadata": {},
   "outputs": [
    {
     "name": "stdout",
     "output_type": "stream",
     "text": [
      "Start\n",
      "End\n",
      "15\n"
     ]
    }
   ],
   "source": [
    "def decorator_func(func):\n",
    "    def wrapper(*args, **kwargs):\n",
    "        print('Start')\n",
    "        val = func(*args, **kwargs)\n",
    "        print('End')\n",
    "        return val\n",
    "    return wrapper\n",
    "\n",
    "@decorator_func\n",
    "def add(x, y):\n",
    "    return x+y\n",
    "\n",
    "print(add(10, 5))\n"
   ]
  },
  {
   "cell_type": "markdown",
   "metadata": {},
   "source": [
    "To reduce memory fragmentation and for performance optimization, python tuples are reused, i.e., the memory id of previously cleared tuple of same size is reused by new one."
   ]
  },
  {
   "cell_type": "code",
   "execution_count": 1,
   "metadata": {},
   "outputs": [
    {
     "name": "stdout",
     "output_type": "stream",
     "text": [
      "140291575525504\n",
      "140291575525504\n"
     ]
    }
   ],
   "source": [
    "x = (1, 2)\n",
    "print(id(x))\n",
    "del x\n",
    "y = (2, 4)\n",
    "print(id(y))"
   ]
  }
 ],
 "metadata": {
  "kernelspec": {
   "display_name": "Python 3",
   "language": "python",
   "name": "python3"
  },
  "language_info": {
   "codemirror_mode": {
    "name": "ipython",
    "version": 3
   },
   "file_extension": ".py",
   "mimetype": "text/x-python",
   "name": "python",
   "nbconvert_exporter": "python",
   "pygments_lexer": "ipython3",
   "version": "3.10.12"
  },
  "orig_nbformat": 4,
  "vscode": {
   "interpreter": {
    "hash": "f1af8e9e7b81bd0acb2c0a8783f2dbe2b614545b4102e8f472ef55e374047c4b"
   }
  }
 },
 "nbformat": 4,
 "nbformat_minor": 2
}
