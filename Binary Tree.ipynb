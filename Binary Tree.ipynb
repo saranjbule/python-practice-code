{
 "cells": [
  {
   "cell_type": "code",
   "execution_count": 4,
   "metadata": {},
   "outputs": [],
   "source": [
    "class Node:\n",
    "    def __init__(self, data):\n",
    "        self.data = data\n",
    "        self.left = None\n",
    "        self.right = None\n"
   ]
  },
  {
   "cell_type": "code",
   "execution_count": 5,
   "metadata": {},
   "outputs": [],
   "source": [
    "n1 = Node(1)\n",
    "n2 = Node(2)\n",
    "n3 = Node(3)\n",
    "n4 = Node(4)\n",
    "n5 = Node(5)"
   ]
  },
  {
   "cell_type": "code",
   "execution_count": 6,
   "metadata": {},
   "outputs": [],
   "source": [
    "n1.left = n2\n",
    "n1.right = n3\n",
    "n2.left = n4\n",
    "n2.right = n5"
   ]
  },
  {
   "cell_type": "code",
   "execution_count": 7,
   "metadata": {},
   "outputs": [],
   "source": [
    "def printTree(root):\n",
    "    if root is None:\n",
    "        return \n",
    "    print(root.data)\n",
    "    printTree(root.left)\n",
    "    printTree(root.right)\n"
   ]
  },
  {
   "cell_type": "code",
   "execution_count": 8,
   "metadata": {},
   "outputs": [
    {
     "name": "stdout",
     "output_type": "stream",
     "text": [
      "1\n",
      "2\n",
      "4\n",
      "5\n",
      "3\n"
     ]
    }
   ],
   "source": [
    "printTree(n1)"
   ]
  },
  {
   "cell_type": "code",
   "execution_count": 9,
   "metadata": {},
   "outputs": [],
   "source": [
    "def printTrees(root):\n",
    "    if root is None:\n",
    "            return\n",
    "\n",
    "    print(root.data, end=\" => \")\n",
    "\n",
    "    if root.left:\n",
    "        print(f'Left {root.left.data}', end=\", \")\n",
    "\n",
    "    if root.right:\n",
    "        print(f'Right {root.right.data}', end=\", \")\n",
    "\n",
    "    print()\n",
    "\n",
    "    printTrees(root.left)\n",
    "    printTrees(root.right)"
   ]
  },
  {
   "cell_type": "code",
   "execution_count": 10,
   "metadata": {},
   "outputs": [
    {
     "name": "stdout",
     "output_type": "stream",
     "text": [
      "1 => Left 2, Right 3, \n",
      "2 => Left 4, Right 5, \n",
      "4 => \n",
      "5 => \n",
      "3 => \n"
     ]
    }
   ],
   "source": [
    "printTrees(n1)"
   ]
  },
  {
   "cell_type": "code",
   "execution_count": 11,
   "metadata": {},
   "outputs": [],
   "source": [
    "tree={}\n",
    "\n",
    "def createTree(root):\n",
    "    if root is None:\n",
    "        return\n",
    "    \n",
    "    node=[]\n",
    "    if root.left:\n",
    "        node.append(root.left.data)\n",
    "    else:\n",
    "        node.append(None)\n",
    "        \n",
    "    if root.right:\n",
    "        node.append(root.right.data)\n",
    "    else:\n",
    "        node.append(None)\n",
    "    \n",
    "    if node:\n",
    "        tree[root.data] = node\n",
    "\n",
    "    createTree(root.left)\n",
    "    createTree(root.right)"
   ]
  },
  {
   "cell_type": "code",
   "execution_count": 12,
   "metadata": {},
   "outputs": [],
   "source": [
    "createTree(n1)"
   ]
  },
  {
   "cell_type": "code",
   "execution_count": 13,
   "metadata": {},
   "outputs": [
    {
     "name": "stdout",
     "output_type": "stream",
     "text": [
      "{1: [2, 3], 2: [4, 5], 4: [None, None], 5: [None, None], 3: [None, None]}\n"
     ]
    }
   ],
   "source": [
    "print(tree)"
   ]
  },
  {
   "cell_type": "code",
   "execution_count": 14,
   "metadata": {},
   "outputs": [],
   "source": [
    "class Node:\n",
    "    def __init__(self, data):\n",
    "        self.data = data\n",
    "        self.left = None\n",
    "        self.right = None\n",
    "\n",
    "r = None\n",
    "\n",
    "def generateTree():\n",
    "    global r\n",
    "    root = int(input())\n",
    "\n",
    "    if root == -1:\n",
    "        return None\n",
    "\n",
    "    node = Node(root)\n",
    "\n",
    "    if r is None:\n",
    "        r = node\n",
    "\n",
    "    leftTree = generateTree()\n",
    "    rightTree = generateTree()\n",
    "\n",
    "    node.left = leftTree\n",
    "    node.right = rightTree\n",
    "\n",
    "    return r"
   ]
  },
  {
   "cell_type": "code",
   "execution_count": 17,
   "metadata": {},
   "outputs": [
    {
     "name": "stdout",
     "output_type": "stream",
     "text": [
      "1 => \n"
     ]
    }
   ],
   "source": [
    "root = generateTree()\n",
    "printTrees(root)"
   ]
  },
  {
   "cell_type": "code",
   "execution_count": null,
   "metadata": {},
   "outputs": [],
   "source": []
  }
 ],
 "metadata": {
  "kernelspec": {
   "display_name": "Python 3",
   "language": "python",
   "name": "python3"
  },
  "language_info": {
   "codemirror_mode": {
    "name": "ipython",
    "version": 3
   },
   "file_extension": ".py",
   "mimetype": "text/x-python",
   "name": "python",
   "nbconvert_exporter": "python",
   "pygments_lexer": "ipython3",
   "version": "3.10.9 (tags/v3.10.9:1dd9be6, Dec  6 2022, 20:01:21) [MSC v.1934 64 bit (AMD64)]"
  },
  "orig_nbformat": 4,
  "vscode": {
   "interpreter": {
    "hash": "f1af8e9e7b81bd0acb2c0a8783f2dbe2b614545b4102e8f472ef55e374047c4b"
   }
  }
 },
 "nbformat": 4,
 "nbformat_minor": 2
}
