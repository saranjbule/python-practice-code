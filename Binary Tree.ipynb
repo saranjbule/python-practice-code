{
 "cells": [
  {
   "cell_type": "code",
   "execution_count": 1,
   "metadata": {},
   "outputs": [],
   "source": [
    "class Node:\n",
    "    def __init__(self, data, left=None, right=None):\n",
    "        self.data = data\n",
    "        self.left = left\n",
    "        self.right = right"
   ]
  },
  {
   "cell_type": "code",
   "execution_count": 2,
   "metadata": {},
   "outputs": [],
   "source": [
    "n1 = Node(1)\n",
    "n2 = Node(2)\n",
    "n3 = Node(3)\n",
    "n4 = Node(4)\n",
    "n5 = Node(5)\n",
    "n6 = Node(6)\n",
    "n7 = Node(7)\n",
    "n8 = Node(8)\n",
    "n9 = Node(9)"
   ]
  },
  {
   "cell_type": "code",
   "execution_count": 3,
   "metadata": {},
   "outputs": [],
   "source": [
    "n1.left = n2\n",
    "n1.right = n3\n",
    "n2.left = n4\n",
    "n2.right = n5\n",
    "n3.right = n6\n",
    "n5.left = n7\n",
    "n5.right = n8\n",
    "n8.left = n9"
   ]
  },
  {
   "attachments": {},
   "cell_type": "markdown",
   "metadata": {},
   "source": [
    "<h1>Preorder traversal : root > left > right </h1>"
   ]
  },
  {
   "cell_type": "code",
   "execution_count": 6,
   "metadata": {},
   "outputs": [],
   "source": [
    "def preOrderTraversal(root):\n",
    "    if root is None:\n",
    "        return\n",
    "    \n",
    "    print(root.data, end=\" \")\n",
    "    \n",
    "    preOrderTraversal(root.left)\n",
    "    preOrderTraversal(root.right)\n"
   ]
  },
  {
   "cell_type": "code",
   "execution_count": 7,
   "metadata": {},
   "outputs": [
    {
     "name": "stdout",
     "output_type": "stream",
     "text": [
      "1 2 4 5 7 8 9 3 6 "
     ]
    }
   ],
   "source": [
    "preOrderTraversal(n1)"
   ]
  },
  {
   "attachments": {},
   "cell_type": "markdown",
   "metadata": {},
   "source": [
    "<h1>Postorder traversal : left > right > root</h1>"
   ]
  },
  {
   "cell_type": "code",
   "execution_count": 8,
   "metadata": {},
   "outputs": [],
   "source": [
    "def postOrderTraversal(root):\n",
    "    if root is None:\n",
    "        return\n",
    "    \n",
    "    postOrderTraversal(root.left)\n",
    "    postOrderTraversal(root.right)\n",
    "    \n",
    "    print(root.data, end=\" \")"
   ]
  },
  {
   "cell_type": "code",
   "execution_count": 9,
   "metadata": {},
   "outputs": [
    {
     "name": "stdout",
     "output_type": "stream",
     "text": [
      "4 7 9 8 5 2 6 3 1 "
     ]
    }
   ],
   "source": [
    "postOrderTraversal(n1)"
   ]
  },
  {
   "attachments": {},
   "cell_type": "markdown",
   "metadata": {},
   "source": [
    "<h1>Inorder Traversal : left > root > right </h1>"
   ]
  },
  {
   "cell_type": "code",
   "execution_count": 10,
   "metadata": {},
   "outputs": [],
   "source": [
    "def inOrderTraversal(root):\n",
    "    if root is None:\n",
    "        return\n",
    "    \n",
    "    inOrderTraversal(root.left)\n",
    "\n",
    "    print(root.data, end=\" \")\n",
    "    \n",
    "    inOrderTraversal(root.right)"
   ]
  },
  {
   "cell_type": "code",
   "execution_count": 11,
   "metadata": {},
   "outputs": [
    {
     "name": "stdout",
     "output_type": "stream",
     "text": [
      "4 2 7 5 9 8 1 3 6 "
     ]
    }
   ],
   "source": [
    "inOrderTraversal(n1)"
   ]
  },
  {
   "cell_type": "markdown",
   "metadata": {},
   "source": [
    "<h1>Tree Traversal Techniques"
   ]
  },
  {
   "cell_type": "markdown",
   "metadata": {},
   "source": [
    "1. Depth First Search or DFS"
   ]
  },
  {
   "cell_type": "markdown",
   "metadata": {},
   "source": [
    "- Inorder (Left Root Right)\n",
    "- Reverse Inorder (Right Root Left)\n",
    "- Preorder (Root Left Right)\n",
    "- Reverse Preorder (Right Left Root)\n",
    "- Postorder (Left Right Root)\n",
    "- Reverse Postorder (Root Right Left)"
   ]
  },
  {
   "cell_type": "markdown",
   "metadata": {},
   "source": [
    "Order and Reverse order are mirror image of each other"
   ]
  },
  {
   "cell_type": "markdown",
   "metadata": {},
   "source": [
    "2. Level Order Traversal or Breadth First Search or BFS\n"
   ]
  },
  {
   "cell_type": "markdown",
   "metadata": {},
   "source": [
    "- Boundary Traversal\n",
    "- Diagonal Traversal"
   ]
  },
  {
   "cell_type": "code",
   "execution_count": 5,
   "metadata": {},
   "outputs": [
    {
     "name": "stdout",
     "output_type": "stream",
     "text": [
      "data 1 : left 2 , right 3\n",
      "data 2 : left 4 , right 5\n",
      "data 4 : None , None\n",
      "data 5 : left 7 , right 8\n",
      "data 7 : None , None\n",
      "data 8 : left 9 , None\n",
      "data 9 : None , None\n",
      "data 3 : None , right 6\n",
      "data 6 : None , None\n"
     ]
    }
   ],
   "source": [
    "def printDetailedTree(root):\n",
    "    if root is None:\n",
    "        return \n",
    "    \n",
    "    print(f'data {root.data}', end=\" : \")\n",
    "\n",
    "    if root.left:\n",
    "        print(f'left {root.left.data}', end=\" , \")\n",
    "    else:\n",
    "        print(None, end=\" , \")\n",
    "    \n",
    "    if root.right:\n",
    "        print(f'right {root.right.data}')\n",
    "    else:\n",
    "        print(None)\n",
    "\n",
    "    printDetailedTree(root.left)\n",
    "    printDetailedTree(root.right)\n",
    "\n",
    "printDetailedTree(n1)"
   ]
  },
  {
   "cell_type": "code",
   "execution_count": 15,
   "metadata": {},
   "outputs": [],
   "source": [
    "def printTree(root):\n",
    "    if root is None:\n",
    "        return\n",
    "    \n",
    "    print(root.data, end=\" => \")\n",
    "\n",
    "    print(root.left.data if root.left else None, end=\" : \")\n",
    "    print(root.right.data if root.right else None)\n",
    "\n",
    "    printTree(root.left)\n",
    "    printTree(root.right)\n",
    "    "
   ]
  },
  {
   "cell_type": "code",
   "execution_count": 242,
   "metadata": {},
   "outputs": [
    {
     "name": "stdout",
     "output_type": "stream",
     "text": [
      "1 => 2 : 3\n",
      "2 => 4 : 5\n",
      "4 => None : None\n",
      "5 => 7 : 8\n",
      "7 => None : None\n",
      "8 => 9 : None\n",
      "9 => None : None\n",
      "3 => None : 6\n",
      "6 => None : None\n"
     ]
    }
   ],
   "source": [
    "printTree(n1)"
   ]
  },
  {
   "cell_type": "code",
   "execution_count": 6,
   "metadata": {},
   "outputs": [],
   "source": [
    "tree={}\n",
    "\n",
    "def printTree2(root):\n",
    "    if root is None:\n",
    "        return\n",
    "    \n",
    "    node=[]\n",
    "    if root.left:\n",
    "        node.append(root.left.data)\n",
    "    else:\n",
    "        node.append(None)\n",
    "        \n",
    "    if root.right:\n",
    "        node.append(root.right.data)\n",
    "    else:\n",
    "        node.append(None)\n",
    "    \n",
    "    tree[root.data] = node\n",
    "\n",
    "    printTree2(root.left)\n",
    "    printTree2(root.right)"
   ]
  },
  {
   "cell_type": "code",
   "execution_count": 7,
   "metadata": {},
   "outputs": [],
   "source": [
    "printTree2(n1)"
   ]
  },
  {
   "cell_type": "code",
   "execution_count": 8,
   "metadata": {},
   "outputs": [
    {
     "name": "stdout",
     "output_type": "stream",
     "text": [
      "{1: [2, 3], 2: [4, 5], 4: [None, None], 5: [7, 8], 7: [None, None], 8: [9, None], 9: [None, None], 3: [None, 6], 6: [None, None]}\n"
     ]
    }
   ],
   "source": [
    "print(tree)"
   ]
  },
  {
   "cell_type": "code",
   "execution_count": 10,
   "metadata": {},
   "outputs": [],
   "source": [
    "def generateTree():\n",
    "    n = int(input())\n",
    "\n",
    "    if n == -1:\n",
    "        return None\n",
    "\n",
    "    leftNode = generateTree()\n",
    "    rightNode = generateTree()\n",
    "\n",
    "    node = Node(n, leftNode, rightNode)\n",
    "\n",
    "    return node"
   ]
  },
  {
   "cell_type": "code",
   "execution_count": 11,
   "metadata": {},
   "outputs": [],
   "source": [
    "r = generateTree()"
   ]
  },
  {
   "cell_type": "code",
   "execution_count": 16,
   "metadata": {},
   "outputs": [
    {
     "name": "stdout",
     "output_type": "stream",
     "text": [
      "10 => 20 : 30\n",
      "20 => None : None\n",
      "30 => 40 : 50\n",
      "40 => None : None\n",
      "50 => None : None\n"
     ]
    }
   ],
   "source": [
    "printTree(r)"
   ]
  },
  {
   "attachments": {},
   "cell_type": "markdown",
   "metadata": {},
   "source": [
    "<h1>Total Number of Nodes</h1>"
   ]
  },
  {
   "cell_type": "code",
   "execution_count": 20,
   "metadata": {},
   "outputs": [],
   "source": [
    "def totalNodes(root):\n",
    "    if root is None:\n",
    "        return 0\n",
    "\n",
    "    leftCount = totalNodes(root.left)\n",
    "    rightCount = totalNodes(root.right)\n",
    "\n",
    "    return 1+leftCount+rightCount"
   ]
  },
  {
   "cell_type": "code",
   "execution_count": 21,
   "metadata": {},
   "outputs": [
    {
     "data": {
      "text/plain": [
       "5"
      ]
     },
     "execution_count": 21,
     "metadata": {},
     "output_type": "execute_result"
    }
   ],
   "source": [
    "totalNodes(r)"
   ]
  },
  {
   "attachments": {},
   "cell_type": "markdown",
   "metadata": {},
   "source": [
    "<h1>Sum of all the Nodes</h1>"
   ]
  },
  {
   "cell_type": "code",
   "execution_count": 22,
   "metadata": {},
   "outputs": [],
   "source": [
    "def sumNodes(root):\n",
    "    if root is None:\n",
    "        return 0\n",
    "\n",
    "    leftSum = sumNodes(root.left)\n",
    "    rigthSum = sumNodes(root.right)\n",
    "\n",
    "    return root.data + leftSum + rigthSum"
   ]
  },
  {
   "cell_type": "code",
   "execution_count": 23,
   "metadata": {},
   "outputs": [
    {
     "data": {
      "text/plain": [
       "150"
      ]
     },
     "execution_count": 23,
     "metadata": {},
     "output_type": "execute_result"
    }
   ],
   "source": [
    "sumNodes(r)"
   ]
  },
  {
   "attachments": {},
   "cell_type": "markdown",
   "metadata": {},
   "source": [
    "<h1>Largest Node Or Minimum Node</h1>"
   ]
  },
  {
   "cell_type": "code",
   "execution_count": 259,
   "metadata": {},
   "outputs": [],
   "source": [
    "def largestNode2(root):\n",
    "    if root is None:\n",
    "        return -1\n",
    "    \n",
    "    leftV = largestNode2(root.left)\n",
    "    rightV = largestNode2(root.right)\n",
    "\n",
    "    largest = max(root.data, leftV, rightV)\n",
    "    # smallest  = min(root.data, leftV, rightV)\n",
    "    return largest\n"
   ]
  },
  {
   "cell_type": "code",
   "execution_count": 260,
   "metadata": {},
   "outputs": [
    {
     "data": {
      "text/plain": [
       "5"
      ]
     },
     "execution_count": 260,
     "metadata": {},
     "output_type": "execute_result"
    }
   ],
   "source": [
    "largestNode2(r)"
   ]
  },
  {
   "attachments": {},
   "cell_type": "markdown",
   "metadata": {},
   "source": [
    "<h1>Values greater than an element</h1>"
   ]
  },
  {
   "cell_type": "code",
   "execution_count": 276,
   "metadata": {},
   "outputs": [
    {
     "name": "stdout",
     "output_type": "stream",
     "text": [
      "[7, 8, 9, 6]\n"
     ]
    }
   ],
   "source": [
    "elements = []\n",
    "def graterX(root, x):\n",
    "    if root is None:\n",
    "        return\n",
    "\n",
    "    if root.data > x:\n",
    "        elements.append(root.data)\n",
    "\n",
    "    graterX(root.left, x)\n",
    "    graterX(root.right, x)\n",
    "\n",
    "    return elements\n",
    "\n",
    "print(graterX(n1, 5))\n"
   ]
  },
  {
   "attachments": {},
   "cell_type": "markdown",
   "metadata": {},
   "source": [
    "<h1>Height of a tree</h1>"
   ]
  },
  {
   "cell_type": "code",
   "execution_count": 262,
   "metadata": {},
   "outputs": [],
   "source": [
    "\n",
    "def height(root):\n",
    "    if root is None:\n",
    "        return 0\n",
    "    \n",
    "    l = height(root.left)\n",
    "    r = height(root.right)\n",
    "    \n",
    "    return 1+max(l, r)\n"
   ]
  },
  {
   "cell_type": "code",
   "execution_count": 263,
   "metadata": {},
   "outputs": [
    {
     "name": "stdout",
     "output_type": "stream",
     "text": [
      "5\n"
     ]
    }
   ],
   "source": [
    "print(height(n1))"
   ]
  },
  {
   "attachments": {},
   "cell_type": "markdown",
   "metadata": {},
   "source": [
    "<h1>Number of leaf nodes</h1>"
   ]
  },
  {
   "cell_type": "code",
   "execution_count": 264,
   "metadata": {},
   "outputs": [],
   "source": [
    "def leafCount(root):\n",
    "    if root is None:\n",
    "        return 0\n",
    "\n",
    "    if root.left is None and root.right is None:\n",
    "        return 1\n",
    "\n",
    "    l = leafCount(root.left)\n",
    "    r = leafCount(root.right)\n",
    "\n",
    "    return l + r"
   ]
  },
  {
   "cell_type": "code",
   "execution_count": 265,
   "metadata": {},
   "outputs": [
    {
     "data": {
      "text/plain": [
       "4"
      ]
     },
     "execution_count": 265,
     "metadata": {},
     "output_type": "execute_result"
    }
   ],
   "source": [
    "leafCount(n1)"
   ]
  },
  {
   "attachments": {},
   "cell_type": "markdown",
   "metadata": {},
   "source": [
    "<h1>Print Node at depth</h1>"
   ]
  },
  {
   "cell_type": "code",
   "execution_count": 266,
   "metadata": {},
   "outputs": [],
   "source": [
    "def depthNode(root, d):\n",
    "    if root is None:\n",
    "        return\n",
    "    \n",
    "    if d == 0:\n",
    "        print(root.data)\n",
    "\n",
    "    depthNode(root.left, d-1)\n",
    "    depthNode(root.right, d-1)"
   ]
  },
  {
   "cell_type": "code",
   "execution_count": 267,
   "metadata": {},
   "outputs": [
    {
     "name": "stdout",
     "output_type": "stream",
     "text": [
      "4\n",
      "5\n",
      "6\n"
     ]
    }
   ],
   "source": [
    "depthNode(n1, 2)"
   ]
  },
  {
   "cell_type": "code",
   "execution_count": 268,
   "metadata": {},
   "outputs": [],
   "source": [
    "def depthNode2(root, k, d=0):\n",
    "    if root is None:\n",
    "        return\n",
    "\n",
    "    if k == d:\n",
    "        print(root.data, d)\n",
    "\n",
    "    depthNode2(root.left, k, d +1)\n",
    "    depthNode2(root.right, k, d +1)"
   ]
  },
  {
   "cell_type": "code",
   "execution_count": 269,
   "metadata": {},
   "outputs": [
    {
     "name": "stdout",
     "output_type": "stream",
     "text": [
      "4 2\n",
      "5 2\n",
      "6 2\n"
     ]
    }
   ],
   "source": [
    "depthNode2(n1, 2)"
   ]
  },
  {
   "cell_type": "code",
   "execution_count": 270,
   "metadata": {},
   "outputs": [],
   "source": [
    "def depthNode3(root, d=0):\n",
    "    if root is None:\n",
    "        return\n",
    "\n",
    "    print(root.data, d)\n",
    "\n",
    "    depthNode3(root.left, d+1)\n",
    "    depthNode3(root.right, d+1)"
   ]
  },
  {
   "cell_type": "code",
   "execution_count": 271,
   "metadata": {},
   "outputs": [
    {
     "name": "stdout",
     "output_type": "stream",
     "text": [
      "1 0\n",
      "2 1\n",
      "4 2\n",
      "5 2\n",
      "7 3\n",
      "8 3\n",
      "9 4\n",
      "3 1\n",
      "6 2\n"
     ]
    }
   ],
   "source": [
    "depthNode3(n1)"
   ]
  },
  {
   "cell_type": "code",
   "execution_count": 272,
   "metadata": {},
   "outputs": [],
   "source": [
    "ns = []\n",
    "def noSibiling(root):\n",
    "    if root is None:\n",
    "        return\n",
    "    \n",
    "    if root.left == None or root.right == None:\n",
    "        if root.left and root.right:\n",
    "            return\n",
    "\n",
    "        if root.left:\n",
    "            ns.append(root.left.data)\n",
    "        if root.right:\n",
    "            ns.append(root.right.data)\n",
    "\n",
    "    noSibiling(root.left)\n",
    "    noSibiling(root.right)"
   ]
  },
  {
   "cell_type": "code",
   "execution_count": 273,
   "metadata": {},
   "outputs": [],
   "source": [
    "noSibiling(n1)"
   ]
  },
  {
   "cell_type": "code",
   "execution_count": 274,
   "metadata": {},
   "outputs": [
    {
     "name": "stdout",
     "output_type": "stream",
     "text": [
      "[9, 6]\n"
     ]
    }
   ],
   "source": [
    "print(ns)"
   ]
  }
 ],
 "metadata": {
  "kernelspec": {
   "display_name": "Python 3",
   "language": "python",
   "name": "python3"
  },
  "language_info": {
   "codemirror_mode": {
    "name": "ipython",
    "version": 3
   },
   "file_extension": ".py",
   "mimetype": "text/x-python",
   "name": "python",
   "nbconvert_exporter": "python",
   "pygments_lexer": "ipython3",
   "version": "3.10.12"
  },
  "orig_nbformat": 4,
  "vscode": {
   "interpreter": {
    "hash": "f1af8e9e7b81bd0acb2c0a8783f2dbe2b614545b4102e8f472ef55e374047c4b"
   }
  }
 },
 "nbformat": 4,
 "nbformat_minor": 2
}
