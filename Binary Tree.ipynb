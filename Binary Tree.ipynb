{
 "cells": [
  {
   "cell_type": "code",
   "execution_count": 2,
   "metadata": {},
   "outputs": [],
   "source": [
    "class Node:\n",
    "    def __init__(self, data):\n",
    "        self.data = data\n",
    "        self.left = None\n",
    "        self.right = None\n"
   ]
  },
  {
   "cell_type": "code",
   "execution_count": 3,
   "metadata": {},
   "outputs": [],
   "source": [
    "n1 = Node(1)\n",
    "n2 = Node(2)\n",
    "n3 = Node(3)\n",
    "n4 = Node(4)\n",
    "n5 = Node(5)\n",
    "n6 = Node(6)\n",
    "n7 = Node(7)\n",
    "n8 = Node(8)\n",
    "n9 = Node(9)"
   ]
  },
  {
   "cell_type": "code",
   "execution_count": 4,
   "metadata": {},
   "outputs": [],
   "source": [
    "n1.left = n2\n",
    "n1.right = n3\n",
    "n2.left = n4\n",
    "n2.right = n5\n",
    "n3.right = n6\n",
    "n5.left = n7\n",
    "n5.right = n8\n",
    "n8.left = n9"
   ]
  },
  {
   "attachments": {},
   "cell_type": "markdown",
   "metadata": {},
   "source": [
    "<h1>Preorder traversal : root > left > right </h1>"
   ]
  },
  {
   "cell_type": "code",
   "execution_count": 35,
   "metadata": {},
   "outputs": [],
   "source": [
    "def printTree(root):\n",
    "    if root is None:\n",
    "        return \n",
    "    print(root.data)\n",
    "    printTree(root.left)\n",
    "    printTree(root.right)\n"
   ]
  },
  {
   "cell_type": "code",
   "execution_count": 36,
   "metadata": {},
   "outputs": [
    {
     "name": "stdout",
     "output_type": "stream",
     "text": [
      "1\n",
      "2\n",
      "4\n",
      "5\n",
      "7\n",
      "3\n",
      "6\n",
      "8\n",
      "9\n"
     ]
    }
   ],
   "source": [
    "printTree(n1)"
   ]
  },
  {
   "attachments": {},
   "cell_type": "markdown",
   "metadata": {},
   "source": [
    "<h1>Postorder traversal : left > right > root</h1>"
   ]
  },
  {
   "cell_type": "code",
   "execution_count": 6,
   "metadata": {},
   "outputs": [],
   "source": [
    "def printTree(root):\n",
    "    if root is None:\n",
    "        return \n",
    "    printTree(root.left)\n",
    "    printTree(root.right)\n",
    "    print(root.data)"
   ]
  },
  {
   "cell_type": "code",
   "execution_count": 7,
   "metadata": {},
   "outputs": [
    {
     "name": "stdout",
     "output_type": "stream",
     "text": [
      "4\n",
      "5\n",
      "2\n",
      "3\n",
      "1\n"
     ]
    }
   ],
   "source": [
    "printTree(n1)"
   ]
  },
  {
   "attachments": {},
   "cell_type": "markdown",
   "metadata": {},
   "source": [
    "<h1>Inorder Traversal : left > root > right </h1>"
   ]
  },
  {
   "cell_type": "code",
   "execution_count": 8,
   "metadata": {},
   "outputs": [],
   "source": [
    "def printTree(root):\n",
    "    if root is None:\n",
    "        return \n",
    "    printTree(root.left)\n",
    "    print(root.data)\n",
    "    printTree(root.right)"
   ]
  },
  {
   "cell_type": "code",
   "execution_count": 9,
   "metadata": {},
   "outputs": [
    {
     "name": "stdout",
     "output_type": "stream",
     "text": [
      "4\n",
      "2\n",
      "5\n",
      "1\n",
      "3\n"
     ]
    }
   ],
   "source": [
    "printTree(n1)"
   ]
  },
  {
   "cell_type": "code",
   "execution_count": 15,
   "metadata": {},
   "outputs": [],
   "source": [
    "def printTrees(root):\n",
    "    if root is None:\n",
    "            return\n",
    "\n",
    "    print(root.data, end=\" => \")\n",
    "\n",
    "    if root.left:\n",
    "        print(f'Left {root.left.data}', end=\", \")\n",
    "\n",
    "    if root.right:\n",
    "        print(f'Right {root.right.data}', end=\", \")\n",
    "\n",
    "    print()\n",
    "\n",
    "    printTrees(root.left)\n",
    "    printTrees(root.right)"
   ]
  },
  {
   "cell_type": "code",
   "execution_count": 7,
   "metadata": {},
   "outputs": [
    {
     "name": "stdout",
     "output_type": "stream",
     "text": [
      "1 => Left 2, Right 3, \n",
      "2 => Left 4, Right 5, \n",
      "4 => \n",
      "5 => \n",
      "3 => \n"
     ]
    }
   ],
   "source": [
    "printTrees(n1)"
   ]
  },
  {
   "cell_type": "code",
   "execution_count": 8,
   "metadata": {},
   "outputs": [],
   "source": [
    "tree={}\n",
    "\n",
    "def createTree(root):\n",
    "    if root is None:\n",
    "        return\n",
    "    \n",
    "    node=[]\n",
    "    if root.left:\n",
    "        node.append(root.left.data)\n",
    "    else:\n",
    "        node.append(None)\n",
    "        \n",
    "    if root.right:\n",
    "        node.append(root.right.data)\n",
    "    else:\n",
    "        node.append(None)\n",
    "    \n",
    "    if node:\n",
    "        tree[root.data] = node\n",
    "\n",
    "    createTree(root.left)\n",
    "    createTree(root.right)"
   ]
  },
  {
   "cell_type": "code",
   "execution_count": 9,
   "metadata": {},
   "outputs": [],
   "source": [
    "createTree(n1)"
   ]
  },
  {
   "cell_type": "code",
   "execution_count": 10,
   "metadata": {},
   "outputs": [
    {
     "name": "stdout",
     "output_type": "stream",
     "text": [
      "{1: [2, 3], 2: [4, 5], 4: [None, None], 5: [None, None], 3: [None, None]}\n"
     ]
    }
   ],
   "source": [
    "print(tree)"
   ]
  },
  {
   "cell_type": "code",
   "execution_count": 12,
   "metadata": {},
   "outputs": [],
   "source": [
    "class Node:\n",
    "    def __init__(self, data):\n",
    "        self.data = data\n",
    "        self.left = None\n",
    "        self.right = None\n",
    "\n",
    "\n",
    "def generateTree():\n",
    "    rootData = int(input())\n",
    "\n",
    "    if rootData == -1:\n",
    "        return None\n",
    "\n",
    "    root = Node(rootData)\n",
    "\n",
    "    leftTree = generateTree()\n",
    "    rightTree = generateTree()\n",
    "\n",
    "    root.left = leftTree\n",
    "    root.right = rightTree\n",
    "\n",
    "    return root"
   ]
  },
  {
   "cell_type": "code",
   "execution_count": 13,
   "metadata": {},
   "outputs": [],
   "source": [
    "r = generateTree()"
   ]
  },
  {
   "cell_type": "code",
   "execution_count": 16,
   "metadata": {},
   "outputs": [
    {
     "name": "stdout",
     "output_type": "stream",
     "text": [
      "1 => Left 2, Right 3, \n",
      "2 => Left 4, Right 5, \n",
      "4 => \n",
      "5 => \n",
      "3 => \n"
     ]
    }
   ],
   "source": [
    "printTrees(r)"
   ]
  },
  {
   "attachments": {},
   "cell_type": "markdown",
   "metadata": {},
   "source": [
    "<h1>Total Number of Nodes</h1>"
   ]
  },
  {
   "cell_type": "code",
   "execution_count": 9,
   "metadata": {},
   "outputs": [],
   "source": [
    "counter = 0\n",
    "def countNode(root):\n",
    "    if root:\n",
    "        global counter\n",
    "        counter += 1\n",
    "        countNode(root.left)\n",
    "        countNode(root.right)\n",
    "    else:\n",
    "        return"
   ]
  },
  {
   "cell_type": "code",
   "execution_count": 10,
   "metadata": {},
   "outputs": [],
   "source": [
    "countNode(r)"
   ]
  },
  {
   "cell_type": "code",
   "execution_count": 11,
   "metadata": {},
   "outputs": [
    {
     "name": "stdout",
     "output_type": "stream",
     "text": [
      "3\n"
     ]
    }
   ],
   "source": [
    "print(counter)"
   ]
  },
  {
   "cell_type": "code",
   "execution_count": 12,
   "metadata": {},
   "outputs": [],
   "source": [
    "def numNode(root):\n",
    "    if root is None:\n",
    "        return 0\n",
    "\n",
    "    leftCount = numNode(root.left)\n",
    "    rightCount = numNode(root.right)\n",
    "\n",
    "    return 1+leftCount+rightCount"
   ]
  },
  {
   "cell_type": "code",
   "execution_count": 13,
   "metadata": {},
   "outputs": [
    {
     "data": {
      "text/plain": [
       "3"
      ]
     },
     "execution_count": 13,
     "metadata": {},
     "output_type": "execute_result"
    }
   ],
   "source": [
    "numNode(r)"
   ]
  },
  {
   "attachments": {},
   "cell_type": "markdown",
   "metadata": {},
   "source": [
    "<h1>Sum of all the Nodes</h1>"
   ]
  },
  {
   "cell_type": "code",
   "execution_count": 14,
   "metadata": {},
   "outputs": [],
   "source": [
    "def sumNode(root):\n",
    "    if root is None:\n",
    "        return 0\n",
    "\n",
    "    leftSum = sumNode(root.left)\n",
    "    rigthSum = sumNode(root.right)\n",
    "\n",
    "    return root.data + leftSum + rigthSum"
   ]
  },
  {
   "cell_type": "code",
   "execution_count": 15,
   "metadata": {},
   "outputs": [
    {
     "data": {
      "text/plain": [
       "5"
      ]
     },
     "execution_count": 15,
     "metadata": {},
     "output_type": "execute_result"
    }
   ],
   "source": [
    "sumNode(r)"
   ]
  },
  {
   "attachments": {},
   "cell_type": "markdown",
   "metadata": {},
   "source": [
    "<h1>Largest Node</h1>"
   ]
  },
  {
   "cell_type": "code",
   "execution_count": 25,
   "metadata": {},
   "outputs": [],
   "source": [
    "largest = 0\n",
    "def largestNode(root):\n",
    "    global largest\n",
    "    if root is None:\n",
    "        return\n",
    "\n",
    "    if root.data > largest:\n",
    "        largest = root.data\n",
    "\n",
    "    leftSum = largestNode(root.left)\n",
    "    rigthSum = largestNode(root.right)\n",
    "\n"
   ]
  },
  {
   "cell_type": "code",
   "execution_count": 26,
   "metadata": {},
   "outputs": [],
   "source": [
    "largestNode(r)"
   ]
  },
  {
   "cell_type": "code",
   "execution_count": 27,
   "metadata": {},
   "outputs": [
    {
     "name": "stdout",
     "output_type": "stream",
     "text": [
      "5\n"
     ]
    }
   ],
   "source": [
    "print(largest)"
   ]
  },
  {
   "cell_type": "code",
   "execution_count": 34,
   "metadata": {},
   "outputs": [],
   "source": [
    "def largestNode2(root):\n",
    "    if root is None:\n",
    "        return -1\n",
    "    \n",
    "    leftV = largestNode2(root.left)\n",
    "    rightV = largestNode2(root.right)\n",
    "\n",
    "    # if root.data > leftV and root.data > rightV:\n",
    "    #     return root.data\n",
    "    # elif leftV > root.data and leftV > rightV:\n",
    "    #     return leftV\n",
    "    \n",
    "    # return rightV\n",
    "\n",
    "    largest = max(root.data, leftV, rightV)\n",
    "    return largest\n"
   ]
  },
  {
   "cell_type": "code",
   "execution_count": 44,
   "metadata": {},
   "outputs": [
    {
     "ename": "NameError",
     "evalue": "name 'largestNode2' is not defined",
     "output_type": "error",
     "traceback": [
      "\u001b[1;31m---------------------------------------------------------------------------\u001b[0m",
      "\u001b[1;31mNameError\u001b[0m                                 Traceback (most recent call last)",
      "Cell \u001b[1;32mIn[44], line 1\u001b[0m\n\u001b[1;32m----> 1\u001b[0m largestNode2(r)\n",
      "\u001b[1;31mNameError\u001b[0m: name 'largestNode2' is not defined"
     ]
    }
   ],
   "source": [
    "largestNode2(r)"
   ]
  },
  {
   "attachments": {},
   "cell_type": "markdown",
   "metadata": {},
   "source": [
    "<h1>Value grater than an element</h1>"
   ]
  },
  {
   "cell_type": "code",
   "execution_count": 45,
   "metadata": {},
   "outputs": [
    {
     "name": "stdout",
     "output_type": "stream",
     "text": [
      "None\n",
      "[7, 8, 9, 6]\n"
     ]
    }
   ],
   "source": [
    "elements = []\n",
    "def graterX(root, x):\n",
    "    if root is None:\n",
    "        return\n",
    "\n",
    "    if root.data > x:\n",
    "        elements.append(root.data)\n",
    "\n",
    "    graterX(root.left, x)\n",
    "    graterX(root.right, x)\n",
    "\n",
    "print(graterX(n1, 5))\n",
    "print(elements)\n"
   ]
  },
  {
   "attachments": {},
   "cell_type": "markdown",
   "metadata": {},
   "source": [
    "<h1>Height of a tree</h1>"
   ]
  },
  {
   "cell_type": "code",
   "execution_count": 42,
   "metadata": {},
   "outputs": [],
   "source": [
    "\n",
    "def height(root):\n",
    "    if root is None:\n",
    "        return 0\n",
    "    l = height(root.left)\n",
    "    r = height(root.right)\n",
    "    return 1+ max(l, r)\n"
   ]
  },
  {
   "cell_type": "code",
   "execution_count": 43,
   "metadata": {},
   "outputs": [
    {
     "name": "stdout",
     "output_type": "stream",
     "text": [
      "5\n"
     ]
    }
   ],
   "source": [
    "print(height(n1))"
   ]
  },
  {
   "attachments": {},
   "cell_type": "markdown",
   "metadata": {},
   "source": [
    "<h1>Number of leaf nodes</h1>"
   ]
  },
  {
   "cell_type": "code",
   "execution_count": 40,
   "metadata": {},
   "outputs": [],
   "source": [
    "def leafCount(root):\n",
    "    if root is None:\n",
    "        return 0\n",
    "\n",
    "    if root.left is None and root.right is None:\n",
    "        return 1\n",
    "\n",
    "    l = leafCount(root.left)\n",
    "    r = leafCount(root.right)\n",
    "\n",
    "    return l + r"
   ]
  },
  {
   "cell_type": "code",
   "execution_count": 41,
   "metadata": {},
   "outputs": [
    {
     "data": {
      "text/plain": [
       "4"
      ]
     },
     "execution_count": 41,
     "metadata": {},
     "output_type": "execute_result"
    }
   ],
   "source": [
    "leafCount(n1)"
   ]
  },
  {
   "attachments": {},
   "cell_type": "markdown",
   "metadata": {},
   "source": [
    "<h1>Print Node at depth</h1>"
   ]
  },
  {
   "cell_type": "code",
   "execution_count": 47,
   "metadata": {},
   "outputs": [],
   "source": [
    "def depthNode(root, d):\n",
    "    if root is None:\n",
    "        return\n",
    "    \n",
    "    if d == 0:\n",
    "        print(root.data)\n",
    "\n",
    "    depthNode(root.left, d-1)\n",
    "    depthNode(root.right, d-1)"
   ]
  },
  {
   "cell_type": "code",
   "execution_count": 49,
   "metadata": {},
   "outputs": [
    {
     "name": "stdout",
     "output_type": "stream",
     "text": [
      "4\n",
      "5\n",
      "6\n"
     ]
    }
   ],
   "source": [
    "depthNode(n1, 2)"
   ]
  },
  {
   "cell_type": "code",
   "execution_count": 1,
   "metadata": {},
   "outputs": [],
   "source": [
    "def depthNode2(root, k, d =0):\n",
    "    if root is None:\n",
    "        return\n",
    "\n",
    "    if k == d:\n",
    "        print(root.data, d)\n",
    "\n",
    "    depthNode2(root.left, k, d +1)\n",
    "    depthNode2(root.right, k, d +1)"
   ]
  },
  {
   "cell_type": "code",
   "execution_count": 5,
   "metadata": {},
   "outputs": [
    {
     "name": "stdout",
     "output_type": "stream",
     "text": [
      "1 0\n",
      "2 1\n",
      "4 2\n",
      "5 2\n",
      "7 3\n",
      "8 3\n",
      "9 4\n",
      "3 1\n",
      "6 2\n"
     ]
    }
   ],
   "source": [
    "depthNode2(n1, 2)"
   ]
  },
  {
   "cell_type": "code",
   "execution_count": 7,
   "metadata": {},
   "outputs": [],
   "source": [
    "def depthNode3(root, d =0):\n",
    "    if root is None:\n",
    "        return\n",
    "\n",
    "    print(root.data, d)\n",
    "\n",
    "    depthNode3(root.left, d +1)\n",
    "    depthNode3(root.right, d +1)"
   ]
  },
  {
   "cell_type": "code",
   "execution_count": 8,
   "metadata": {},
   "outputs": [
    {
     "name": "stdout",
     "output_type": "stream",
     "text": [
      "1 0\n",
      "2 1\n",
      "4 2\n",
      "5 2\n",
      "7 3\n",
      "8 3\n",
      "9 4\n",
      "3 1\n",
      "6 2\n"
     ]
    }
   ],
   "source": [
    "depthNode3(n1)"
   ]
  },
  {
   "cell_type": "code",
   "execution_count": 9,
   "metadata": {},
   "outputs": [],
   "source": [
    "ns = []\n",
    "def noSibiling(root):\n",
    "    if root is None:\n",
    "        return\n",
    "    \n",
    "    if root.left == None or root.right == None:\n",
    "        if root.left and root.right:\n",
    "            return\n",
    "\n",
    "        if root.left:\n",
    "            ns.append(root.left.data)\n",
    "        if root.right:\n",
    "            ns.append(root.right.data)\n",
    "\n",
    "    noSibiling(root.left)\n",
    "    noSibiling(root.right)"
   ]
  },
  {
   "cell_type": "code",
   "execution_count": 10,
   "metadata": {},
   "outputs": [],
   "source": [
    "noSibiling(n1)"
   ]
  },
  {
   "cell_type": "code",
   "execution_count": 11,
   "metadata": {},
   "outputs": [
    {
     "name": "stdout",
     "output_type": "stream",
     "text": [
      "[9, 6]\n"
     ]
    }
   ],
   "source": [
    "print(ns)"
   ]
  },
  {
   "cell_type": "code",
   "execution_count": null,
   "metadata": {},
   "outputs": [],
   "source": []
  }
 ],
 "metadata": {
  "kernelspec": {
   "display_name": "Python 3",
   "language": "python",
   "name": "python3"
  },
  "language_info": {
   "codemirror_mode": {
    "name": "ipython",
    "version": 3
   },
   "file_extension": ".py",
   "mimetype": "text/x-python",
   "name": "python",
   "nbconvert_exporter": "python",
   "pygments_lexer": "ipython3",
   "version": "3.10.9 (tags/v3.10.9:1dd9be6, Dec  6 2022, 20:01:21) [MSC v.1934 64 bit (AMD64)]"
  },
  "orig_nbformat": 4,
  "vscode": {
   "interpreter": {
    "hash": "f1af8e9e7b81bd0acb2c0a8783f2dbe2b614545b4102e8f472ef55e374047c4b"
   }
  }
 },
 "nbformat": 4,
 "nbformat_minor": 2
}
