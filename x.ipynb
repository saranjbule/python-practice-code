{
 "cells": [
  {
   "cell_type": "code",
   "execution_count": 40,
   "metadata": {},
   "outputs": [],
   "source": [
    "arr = [5, 4, 3, 2, 1]\n",
    "\n",
    "def mergeSort(a):\n",
    "    l = len(a)\n",
    "\n",
    "    if l == 1:\n",
    "        return a\n",
    "    \n",
    "    m = l//2\n",
    "\n",
    "    a1 = mergeSort(a[:m])\n",
    "    a2 = mergeSort(a[m:])\n",
    "\n",
    "    print(a1, a2)\n",
    "\n",
    "    combine(a, a1, a2)\n",
    "\n",
    "def combine(a, a1, a2):\n",
    "    s1 = s2 = i = 0\n",
    "    l1 = len(a1)\n",
    "    l2 = len(a2)\n",
    "\n",
    "    while s1<l1 and s2<l2:\n",
    "        if a1[s1]<a2[s2]:\n",
    "            a[i] = a1[s1]\n",
    "            i += 1\n",
    "            s1 += 1\n",
    "        else:\n",
    "            a[i] = a2[s2]\n",
    "            i+=1\n",
    "            s2+=1\n",
    "\n",
    "    while s1 < l1:\n",
    "        a[i] = a1[s1]\n",
    "        i+=1\n",
    "        s1+=1\n",
    "\n",
    "    while s2 < l2:\n",
    "        a[i] = a2[s2]\n",
    "        i+=1\n",
    "        s2+=1\n",
    "\n"
   ]
  },
  {
   "cell_type": "code",
   "execution_count": 41,
   "metadata": {},
   "outputs": [
    {
     "name": "stdout",
     "output_type": "stream",
     "text": [
      "[5] [4]\n",
      "[2] [1]\n",
      "[3] None\n"
     ]
    },
    {
     "ename": "TypeError",
     "evalue": "object of type 'NoneType' has no len()",
     "output_type": "error",
     "traceback": [
      "\u001b[1;31m---------------------------------------------------------------------------\u001b[0m",
      "\u001b[1;31mTypeError\u001b[0m                                 Traceback (most recent call last)",
      "\u001b[1;32md:\\Mine\\python-practice-code\\x.ipynb Cell 2\u001b[0m line \u001b[0;36m1\n\u001b[1;32m----> <a href='vscode-notebook-cell:/d%3A/Mine/python-practice-code/x.ipynb#X13sZmlsZQ%3D%3D?line=0'>1</a>\u001b[0m mergeSort(arr)\n",
      "\u001b[1;32md:\\Mine\\python-practice-code\\x.ipynb Cell 2\u001b[0m line \u001b[0;36m1\n\u001b[0;32m      <a href='vscode-notebook-cell:/d%3A/Mine/python-practice-code/x.ipynb#X13sZmlsZQ%3D%3D?line=8'>9</a>\u001b[0m m \u001b[39m=\u001b[39m l\u001b[39m/\u001b[39m\u001b[39m/\u001b[39m\u001b[39m2\u001b[39m\n\u001b[0;32m     <a href='vscode-notebook-cell:/d%3A/Mine/python-practice-code/x.ipynb#X13sZmlsZQ%3D%3D?line=10'>11</a>\u001b[0m a1 \u001b[39m=\u001b[39m mergeSort(a[:m])\n\u001b[1;32m---> <a href='vscode-notebook-cell:/d%3A/Mine/python-practice-code/x.ipynb#X13sZmlsZQ%3D%3D?line=11'>12</a>\u001b[0m a2 \u001b[39m=\u001b[39m mergeSort(a[m:])\n\u001b[0;32m     <a href='vscode-notebook-cell:/d%3A/Mine/python-practice-code/x.ipynb#X13sZmlsZQ%3D%3D?line=13'>14</a>\u001b[0m \u001b[39mprint\u001b[39m(a1, a2)\n\u001b[0;32m     <a href='vscode-notebook-cell:/d%3A/Mine/python-practice-code/x.ipynb#X13sZmlsZQ%3D%3D?line=15'>16</a>\u001b[0m combine(a, a1, a2)\n",
      "\u001b[1;32md:\\Mine\\python-practice-code\\x.ipynb Cell 2\u001b[0m line \u001b[0;36m1\n\u001b[0;32m     <a href='vscode-notebook-cell:/d%3A/Mine/python-practice-code/x.ipynb#X13sZmlsZQ%3D%3D?line=11'>12</a>\u001b[0m a2 \u001b[39m=\u001b[39m mergeSort(a[m:])\n\u001b[0;32m     <a href='vscode-notebook-cell:/d%3A/Mine/python-practice-code/x.ipynb#X13sZmlsZQ%3D%3D?line=13'>14</a>\u001b[0m \u001b[39mprint\u001b[39m(a1, a2)\n\u001b[1;32m---> <a href='vscode-notebook-cell:/d%3A/Mine/python-practice-code/x.ipynb#X13sZmlsZQ%3D%3D?line=15'>16</a>\u001b[0m combine(a, a1, a2)\n",
      "\u001b[1;32md:\\Mine\\python-practice-code\\x.ipynb Cell 2\u001b[0m line \u001b[0;36m2\n\u001b[0;32m     <a href='vscode-notebook-cell:/d%3A/Mine/python-practice-code/x.ipynb#X13sZmlsZQ%3D%3D?line=18'>19</a>\u001b[0m s1 \u001b[39m=\u001b[39m s2 \u001b[39m=\u001b[39m i \u001b[39m=\u001b[39m \u001b[39m0\u001b[39m\n\u001b[0;32m     <a href='vscode-notebook-cell:/d%3A/Mine/python-practice-code/x.ipynb#X13sZmlsZQ%3D%3D?line=19'>20</a>\u001b[0m l1 \u001b[39m=\u001b[39m \u001b[39mlen\u001b[39m(a1)\n\u001b[1;32m---> <a href='vscode-notebook-cell:/d%3A/Mine/python-practice-code/x.ipynb#X13sZmlsZQ%3D%3D?line=20'>21</a>\u001b[0m l2 \u001b[39m=\u001b[39m \u001b[39mlen\u001b[39;49m(a2)\n\u001b[0;32m     <a href='vscode-notebook-cell:/d%3A/Mine/python-practice-code/x.ipynb#X13sZmlsZQ%3D%3D?line=22'>23</a>\u001b[0m \u001b[39mwhile\u001b[39;00m s1\u001b[39m<\u001b[39ml1 \u001b[39mand\u001b[39;00m s2\u001b[39m<\u001b[39ml2:\n\u001b[0;32m     <a href='vscode-notebook-cell:/d%3A/Mine/python-practice-code/x.ipynb#X13sZmlsZQ%3D%3D?line=23'>24</a>\u001b[0m     \u001b[39mif\u001b[39;00m a1[s1]\u001b[39m<\u001b[39ma2[s2]:\n",
      "\u001b[1;31mTypeError\u001b[0m: object of type 'NoneType' has no len()"
     ]
    }
   ],
   "source": [
    "mergeSort(arr)"
   ]
  },
  {
   "cell_type": "code",
   "execution_count": null,
   "metadata": {},
   "outputs": [],
   "source": []
  }
 ],
 "metadata": {
  "kernelspec": {
   "display_name": "Python 3",
   "language": "python",
   "name": "python3"
  },
  "language_info": {
   "codemirror_mode": {
    "name": "ipython",
    "version": 3
   },
   "file_extension": ".py",
   "mimetype": "text/x-python",
   "name": "python",
   "nbconvert_exporter": "python",
   "pygments_lexer": "ipython3",
   "version": "3.10.11"
  }
 },
 "nbformat": 4,
 "nbformat_minor": 2
}
