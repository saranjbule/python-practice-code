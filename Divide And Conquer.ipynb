{
 "cells": [
  {
   "cell_type": "markdown",
   "metadata": {},
   "source": [
    "- n^p = (n^p/2)^2\n",
    "\n",
    "- n^10 = (n^5)^2\n",
    "- n^11 = ((n^5)^2)*n"
   ]
  },
  {
   "cell_type": "markdown",
   "metadata": {},
   "source": [
    "- 10^10 = (10^5)*(10^5)\n",
    "- 10^11 = (10^5)*(10^5)*10"
   ]
  },
  {
   "cell_type": "markdown",
   "metadata": {},
   "source": [
    "x^n = \n",
    "- x^(n/2) * x^(n/2) when n is even\n",
    "- x * x^(n/2) * x^(n/2) when n is odd"
   ]
  },
  {
   "cell_type": "code",
   "execution_count": 1,
   "metadata": {},
   "outputs": [],
   "source": [
    "def power(n, p):\n",
    "    if p == 1:\n",
    "        return n\n",
    "    \n",
    "    result = power(n, p//2) # divide \n",
    "\n",
    "    if p%2 == 0:\n",
    "        return result*result # conquer\n",
    "    else:\n",
    "        return result*result*n # conquer"
   ]
  },
  {
   "cell_type": "code",
   "execution_count": 4,
   "metadata": {},
   "outputs": [
    {
     "data": {
      "text/plain": [
       "1024"
      ]
     },
     "execution_count": 4,
     "metadata": {},
     "output_type": "execute_result"
    }
   ],
   "source": [
    "power(2, 10)"
   ]
  },
  {
   "cell_type": "markdown",
   "metadata": {},
   "source": [
    "- Time Complexity : O(logN)\n",
    "- Space Complexity : O(logN)"
   ]
  }
 ],
 "metadata": {
  "kernelspec": {
   "display_name": "Python 3",
   "language": "python",
   "name": "python3"
  },
  "language_info": {
   "codemirror_mode": {
    "name": "ipython",
    "version": 3
   },
   "file_extension": ".py",
   "mimetype": "text/x-python",
   "name": "python",
   "nbconvert_exporter": "python",
   "pygments_lexer": "ipython3",
   "version": "3.10.12"
  }
 },
 "nbformat": 4,
 "nbformat_minor": 2
}
