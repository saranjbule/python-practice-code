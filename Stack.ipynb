{
 "cells": [
  {
   "cell_type": "markdown",
   "metadata": {},
   "source": [
    "Stack is an abstract data structure which is implemented based on concrete data strcutures (array, linkedlists)"
   ]
  },
  {
   "cell_type": "markdown",
   "metadata": {},
   "source": [
    "<b>Operations</b>\n",
    "\n",
    "- PUSH (Inserting into a stack)\n",
    "- POP (Deleting from a stack)\n",
    "- TOP (Accessing the top most element of a stack)\n",
    "- SIZE (Total Element in a stack)\n",
    "- isEmpty (Boolean value to define if stack is empty)\n",
    "<br /><br />\n",
    "- ORDER of operation in stack is LIFO (Last In First Out)"
   ]
  },
  {
   "cell_type": "markdown",
   "metadata": {},
   "source": [
    "All operations are of O(1)"
   ]
  },
  {
   "cell_type": "markdown",
   "metadata": {},
   "source": [
    "<h3>Stack Implementation using Array"
   ]
  },
  {
   "cell_type": "code",
   "execution_count": 37,
   "metadata": {},
   "outputs": [],
   "source": [
    "class Stack:\n",
    "    def __init__(self):\n",
    "        self.__stack = []\n",
    "        self.__size = 0\n",
    "\n",
    "    def push(self, value):\n",
    "        self.__stack.append(value)\n",
    "        self.__size += 1\n",
    "\n",
    "    def pop(self):\n",
    "        topElement = None\n",
    "\n",
    "        if self.isEmpty():\n",
    "            print('ERROR: Stack is empty')\n",
    "        else:\n",
    "            topElement = self.__stack.pop()\n",
    "            self.__size -= 1\n",
    "\n",
    "        return topElement\n",
    "\n",
    "    def top(self):\n",
    "        topElement = None\n",
    "        \n",
    "        if self.isEmpty():\n",
    "            print('ERROR: Stack is empty')\n",
    "        else:\n",
    "            topElement = self.__stack[self.__size - 1]\n",
    "\n",
    "        return topElement\n",
    "\n",
    "    def size(self):\n",
    "        return self.__size\n",
    "\n",
    "    def isEmpty(self):\n",
    "        if self.__size == 0:\n",
    "            return True\n",
    "\n",
    "        return False"
   ]
  },
  {
   "cell_type": "markdown",
   "metadata": {},
   "source": [
    "<h3>Stack Implementation using Linkedlist"
   ]
  },
  {
   "cell_type": "code",
   "execution_count": 107,
   "metadata": {},
   "outputs": [],
   "source": [
    "class Node:\n",
    "    def __init__(self, val, next=None):\n",
    "        self.val = val\n",
    "        self.next = next\n",
    "\n",
    "\n",
    "class Stack:\n",
    "    def __init__(self):\n",
    "        self.__head = None\n",
    "        self.__size = 0\n",
    "\n",
    "    def push(self, value):\n",
    "        n = Node(value)\n",
    "        \n",
    "        n.next = self.__head # n = Node(value, self.__head)\n",
    "        self.__head = n\n",
    "\n",
    "        self.__size += 1\n",
    "\n",
    "    def pop(self):\n",
    "        current_head = self.__head\n",
    "\n",
    "        if self.isEmpty():\n",
    "            print('ERROR: Stack is empty')\n",
    "        else:\n",
    "            self.__head = self.__head.next\n",
    "            self.__size -= 1\n",
    "\n",
    "        return current_head.val\n",
    "\n",
    "    def top(self):\n",
    "        if self.isEmpty():\n",
    "            print('ERROR: Stack is empty')\n",
    "        \n",
    "        return self.__head.val\n",
    "\n",
    "    def size(self):\n",
    "        return self.__size\n",
    "    \n",
    "    def isEmpty(self):\n",
    "        if self.__size == 0 or self.__head is None:\n",
    "            return True\n",
    "        \n",
    "        return False"
   ]
  }
 ],
 "metadata": {
  "kernelspec": {
   "display_name": "Python 3",
   "language": "python",
   "name": "python3"
  },
  "language_info": {
   "codemirror_mode": {
    "name": "ipython",
    "version": 3
   },
   "file_extension": ".py",
   "mimetype": "text/x-python",
   "name": "python",
   "nbconvert_exporter": "python",
   "pygments_lexer": "ipython3",
   "version": "3.10.12"
  }
 },
 "nbformat": 4,
 "nbformat_minor": 2
}
