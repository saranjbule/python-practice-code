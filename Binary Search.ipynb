{
  "cells": [
    {
      "cell_type": "code",
      "execution_count": 1,
      "metadata": {},
      "outputs": [],
      "source": [
        "array = [2, 19, 23, 32, 45, 67, 78, 98, 205]\n",
        "\n",
        "def binarySearchWithRecursion(arr, key, s=0, e=len(array)-1):\n",
        "    if e < s:\n",
        "        return -1\n",
        "    \n",
        "    mid = (s+e)//2\n",
        "\n",
        "    if arr[mid] == key:\n",
        "        return mid\n",
        "    elif arr[mid] > key:\n",
        "        return binarySearchWithRecursion(arr, key, s, mid-1)\n",
        "    else:\n",
        "        return binarySearchWithRecursion(arr, key, mid+1, e)\n",
        "    \n",
        "\n",
        "def binarySearchWithLoop(arr, key):\n",
        "    s = 0 \n",
        "    e = len(arr) - 1\n",
        "\n",
        "    while(s<=e):\n",
        "        mid = (s+e)//2\n",
        "        if arr[mid] == key:\n",
        "            return mid\n",
        "        elif arr[mid] > key:\n",
        "            e = mid - 1\n",
        "        else:\n",
        "            s = mid + 1\n",
        "        \n",
        "    return -1"
      ]
    },
    {
      "cell_type": "code",
      "execution_count": 2,
      "metadata": {},
      "outputs": [
        {
          "data": {
            "text/plain": [
              "8"
            ]
          },
          "execution_count": 2,
          "metadata": {},
          "output_type": "execute_result"
        }
      ],
      "source": [
        "binarySearchWithRecursion(array, 205)"
      ]
    },
    {
      "cell_type": "code",
      "execution_count": 4,
      "metadata": {},
      "outputs": [
        {
          "data": {
            "text/plain": [
              "8"
            ]
          },
          "execution_count": 4,
          "metadata": {},
          "output_type": "execute_result"
        }
      ],
      "source": [
        "binarySearchWithLoop(array, 205)"
      ]
    },
    {
      "cell_type": "markdown",
      "metadata": {},
      "source": [
        "<b>Time and Space Complexity"
      ]
    },
    {
      "cell_type": "markdown",
      "metadata": {},
      "source": [
        "- Recursive Implementation\n",
        "  - Time Complexity = O(logN)\n",
        "  - Space Complexity = O(logN)\n",
        "<br /><br />\n",
        "- Iterative Implementation\n",
        "  - Time Complexity = O(logN)\n",
        "  - Space Complexity = O(1)"
      ]
    },
    {
      "attachments": {},
      "cell_type": "markdown",
      "metadata": {},
      "source": [
        "<h3>Note</h3>\n"
      ]
    },
    {
      "cell_type": "markdown",
      "metadata": {},
      "source": [
        "- Remember to return mid from each half i.e., right return fun(mid+1, e) and left return fun(mid+1, e)"
      ]
    },
    {
      "cell_type": "markdown",
      "metadata": {},
      "source": [
        "- Never keep end as len(arr) because we might fall into a condition of out of index case whenever the key is present at last element."
      ]
    }
  ],
  "metadata": {
    "kernelspec": {
      "display_name": "Python 3",
      "language": "python",
      "name": "python3"
    },
    "language_info": {
      "codemirror_mode": {
        "name": "ipython",
        "version": 3
      },
      "file_extension": ".py",
      "mimetype": "text/x-python",
      "name": "python",
      "nbconvert_exporter": "python",
      "pygments_lexer": "ipython3",
      "version": "3.10.12"
    },
    "vscode": {
      "interpreter": {
        "hash": "f1af8e9e7b81bd0acb2c0a8783f2dbe2b614545b4102e8f472ef55e374047c4b"
      }
    }
  },
  "nbformat": 4,
  "nbformat_minor": 4
}
