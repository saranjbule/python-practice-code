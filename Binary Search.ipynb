{
  "metadata": {
    "language_info": {
      "codemirror_mode": {
        "name": "python",
        "version": 3
      },
      "file_extension": ".py",
      "mimetype": "text/x-python",
      "name": "python",
      "nbconvert_exporter": "python",
      "pygments_lexer": "ipython3",
      "version": "3.8"
    },
    "kernelspec": {
      "name": "python",
      "display_name": "Python (Pyodide)",
      "language": "python"
    }
  },
  "nbformat_minor": 4,
  "nbformat": 4,
  "cells": [
    {
      "cell_type": "code",
      "source": "arr = [21, 3, 23, 4, 6, 45, 6, 7, 89 ,97, 234, 254, 60, 34]\narr.sort()",
      "metadata": {
        "trusted": true
      },
      "execution_count": 1,
      "outputs": []
    },
    {
      "cell_type": "code",
      "source": "def binarySearch(k):\n    s = 0\n    e = len(arr)-1 // Never keep e as len(arr) because we might fall into a condition of out of index case when the k >= max(k)\n    \n    while s<=e:\n        m = (s+e)//2\n        if arr[m] < k:\n            s = m + 1\n        elif arr[m] > k:\n            e = m - 1\n        else:\n            return m\n    return -1",
      "metadata": {
        "trusted": true
      },
      "execution_count": 2,
      "outputs": []
    },
    {
      "cell_type": "code",
      "source": "print(binarySearch(97))",
      "metadata": {
        "trusted": true
      },
      "execution_count": 3,
      "outputs": [
        {
          "name": "stdout",
          "text": "11\n",
          "output_type": "stream"
        }
      ]
    }
  ]
}