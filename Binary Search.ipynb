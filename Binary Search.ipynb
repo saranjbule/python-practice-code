{
  "cells": [
    {
      "cell_type": "code",
      "execution_count": 1,
      "metadata": {
        "trusted": true
      },
      "outputs": [],
      "source": [
        "arr = [21, 3, 23, 4, 6, 45, 6, 7, 89 ,97, 234, 254, 60, 34]\n",
        "arr.sort()"
      ]
    },
    {
      "cell_type": "code",
      "execution_count": 2,
      "metadata": {
        "trusted": true
      },
      "outputs": [],
      "source": [
        "def binarySearch(k):\n",
        "    s = 0\n",
        "    e = len(arr)-1 # Never keep e as len(arr) because we might fall into a condition of out of index case when the k >= max(k)\n",
        "    \n",
        "    while s<=e:\n",
        "        m = (s+e)//2\n",
        "        if arr[m] < k:\n",
        "            s = m + 1\n",
        "        elif arr[m] > k:\n",
        "            e = m - 1\n",
        "        else:\n",
        "            return m\n",
        "    return -1"
      ]
    },
    {
      "cell_type": "code",
      "execution_count": 3,
      "metadata": {
        "trusted": true
      },
      "outputs": [
        {
          "name": "stdout",
          "output_type": "stream",
          "text": [
            "11\n"
          ]
        }
      ],
      "source": [
        "print(binarySearch(97))"
      ]
    }
  ],
  "metadata": {
    "kernelspec": {
      "display_name": "Python 3",
      "language": "python",
      "name": "python3"
    },
    "language_info": {
      "codemirror_mode": {
        "name": "python",
        "version": 3
      },
      "file_extension": ".py",
      "mimetype": "text/x-python",
      "name": "python",
      "nbconvert_exporter": "python",
      "pygments_lexer": "ipython3",
      "version": "3.10.9 (tags/v3.10.9:1dd9be6, Dec  6 2022, 20:01:21) [MSC v.1934 64 bit (AMD64)]"
    },
    "vscode": {
      "interpreter": {
        "hash": "f1af8e9e7b81bd0acb2c0a8783f2dbe2b614545b4102e8f472ef55e374047c4b"
      }
    }
  },
  "nbformat": 4,
  "nbformat_minor": 4
}
