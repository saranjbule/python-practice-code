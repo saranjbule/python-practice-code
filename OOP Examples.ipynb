{
 "cells": [
  {
   "cell_type": "code",
   "execution_count": 9,
   "metadata": {},
   "outputs": [],
   "source": [
    "class fraction:\n",
    "    def __init__(self, n, d):\n",
    "        if d == 0:\n",
    "            raise Exception('Please enter val > 0')\n",
    "        self.n = n\n",
    "        self.d = d\n",
    "\n",
    "    def printFrac(self):\n",
    "        if self.n == 0 or self.d == 1:\n",
    "            print(f'{self.n}')\n",
    "        else:\n",
    "            print(f'{self.n}/{self.d}')\n",
    "\n",
    "    def simplify(self):\n",
    "        s = min(self.n, self.d)\n",
    "        while s > 1:\n",
    "            if self.n%s == 0 and self.d%s == 0:\n",
    "                self.n //= s \n",
    "                self.d //= s\n",
    "            else:\n",
    "                s -= 1\n",
    "        self.printFrac()\n",
    "\n",
    "    def addFraction(self, otherFrac):\n",
    "        self.n = self.n*otherFrac.d + otherFrac.n*self.d\n",
    "        self.d = self.d*otherFrac.d\n",
    "        self.simplify()\n"
   ]
  },
  {
   "cell_type": "code",
   "execution_count": 10,
   "metadata": {},
   "outputs": [
    {
     "name": "stdout",
     "output_type": "stream",
     "text": [
      "40/25\n",
      "8/5\n",
      "20/10\n",
      "2\n",
      "18/5\n"
     ]
    }
   ],
   "source": [
    "f = fraction(40, 25)\n",
    "f.printFrac()\n",
    "f.simplify()\n",
    "\n",
    "f1 = fraction(20, 10)\n",
    "f1.printFrac()\n",
    "f1.simplify()\n",
    "\n",
    "\n",
    "f.addFraction(f1)"
   ]
  },
  {
   "cell_type": "code",
   "execution_count": 3,
   "metadata": {},
   "outputs": [],
   "source": [
    "class Complex:\n",
    "    def __init__(self, real=0, img=0) -> None:\n",
    "        self.real = real\n",
    "        self.img = img\n",
    "\n",
    "    def printComplex(self, operator=None):\n",
    "\n",
    "        if operator:\n",
    "            print(f'{self.real}{operator}{self.img}i')\n",
    "            return\n",
    "\n",
    "        if self.img > 0:\n",
    "            print(f'{self.real}+{self.img}i')\n",
    "        else:\n",
    "            print(f'{self.real}{self.img}i')\n",
    "            \n",
    "    def addComplex(self, otherComplex):\n",
    "        self.real = self.real + otherComplex.real\n",
    "        self.img = self.img + otherComplex.img\n",
    "\n",
    "        self.printComplex()\n",
    "\n",
    "    def multiplyComplex(self, otherComplex):\n",
    "        self.real = (self.real * otherComplex.real) - (self.img * otherComplex.img)\n",
    "        self.real = (self.real * otherComplex.img) + (self.img * otherComplex.real)\n",
    "\n",
    "        self.printComplex()\n",
    "\n",
    "    def conjugateComplex(self):\n",
    "        if self.img > 0:\n",
    "            self.printComplex('-')\n",
    "        else:\n",
    "            self.printComplex('+')\n"
   ]
  },
  {
   "cell_type": "code",
   "execution_count": 4,
   "metadata": {},
   "outputs": [
    {
     "name": "stdout",
     "output_type": "stream",
     "text": [
      "4+5i\n",
      "1+2i\n",
      "5+7i\n",
      "-9+17i\n",
      "-9-17i\n"
     ]
    }
   ],
   "source": [
    "c1 = Complex(4, 5)\n",
    "c2 = Complex(1, 2)\n",
    "\n",
    "c1.printComplex()\n",
    "c2.printComplex()\n",
    "\n",
    "c1.addComplex(c2)\n",
    "c1.multiplyComplex(c2)\n",
    "c1.conjugateComplex()"
   ]
  }
 ],
 "metadata": {
  "kernelspec": {
   "display_name": "Python 3",
   "language": "python",
   "name": "python3"
  },
  "language_info": {
   "codemirror_mode": {
    "name": "ipython",
    "version": 3
   },
   "file_extension": ".py",
   "mimetype": "text/x-python",
   "name": "python",
   "nbconvert_exporter": "python",
   "pygments_lexer": "ipython3",
   "version": "3.10.12"
  },
  "orig_nbformat": 4,
  "vscode": {
   "interpreter": {
    "hash": "f1af8e9e7b81bd0acb2c0a8783f2dbe2b614545b4102e8f472ef55e374047c4b"
   }
  }
 },
 "nbformat": 4,
 "nbformat_minor": 2
}
