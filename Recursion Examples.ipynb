{
 "cells": [
  {
   "cell_type": "code",
   "execution_count": 125,
   "metadata": {},
   "outputs": [],
   "source": [
    "def geometricSum(k):\n",
    "    if k == 0:\n",
    "        return 1\n",
    "    \n",
    "    num = 1/(2**k)\n",
    "    return num + geometricSum(k-1)"
   ]
  },
  {
   "cell_type": "code",
   "execution_count": 126,
   "metadata": {},
   "outputs": [
    {
     "data": {
      "text/plain": [
       "1.9375"
      ]
     },
     "execution_count": 126,
     "metadata": {},
     "output_type": "execute_result"
    }
   ],
   "source": [
    "geometricSum(4)"
   ]
  },
  {
   "cell_type": "code",
   "execution_count": 127,
   "metadata": {},
   "outputs": [],
   "source": [
    "string = 'ecarrace'\n",
    "s = 0\n",
    "e = len(string)-1"
   ]
  },
  {
   "cell_type": "code",
   "execution_count": 128,
   "metadata": {},
   "outputs": [],
   "source": [
    "def palindrome(str, s, e):\n",
    "    if s>=e:\n",
    "        return True\n",
    "    \n",
    "    if str[s] != str[e]:\n",
    "        return False\n",
    "    \n",
    "    return palindrome(str, s+1, e-1)"
   ]
  },
  {
   "cell_type": "code",
   "execution_count": 129,
   "metadata": {},
   "outputs": [
    {
     "data": {
      "text/plain": [
       "True"
      ]
     },
     "execution_count": 129,
     "metadata": {},
     "output_type": "execute_result"
    }
   ],
   "source": [
    "palindrome(string, s, e)"
   ]
  },
  {
   "cell_type": "code",
   "execution_count": 130,
   "metadata": {},
   "outputs": [],
   "source": [
    "def palindrome2(s):\n",
    "    if len(s) == 1 or len(s) == 0:\n",
    "        return True\n",
    "    \n",
    "    if s[0] != s[-1]:\n",
    "        return False\n",
    "        \n",
    "    return palindrome2(s[1:-1])\n"
   ]
  },
  {
   "cell_type": "code",
   "execution_count": 131,
   "metadata": {},
   "outputs": [
    {
     "data": {
      "text/plain": [
       "True"
      ]
     },
     "execution_count": 131,
     "metadata": {},
     "output_type": "execute_result"
    }
   ],
   "source": [
    "palindrome2(string)"
   ]
  },
  {
   "cell_type": "code",
   "execution_count": 132,
   "metadata": {},
   "outputs": [],
   "source": [
    "def sumOfDigit(n, total=0):\n",
    "    if n == 0:\n",
    "        return total\n",
    "\n",
    "    lastDigit = n%10\n",
    "    n //= 10\n",
    "    total += lastDigit\n",
    "\n",
    "    return sumOfDigit(n, total)\n"
   ]
  },
  {
   "cell_type": "code",
   "execution_count": 133,
   "metadata": {},
   "outputs": [
    {
     "data": {
      "text/plain": [
       "8"
      ]
     },
     "execution_count": 133,
     "metadata": {},
     "output_type": "execute_result"
    }
   ],
   "source": [
    "sumOfDigit(521)"
   ]
  },
  {
   "cell_type": "code",
   "execution_count": 134,
   "metadata": {},
   "outputs": [],
   "source": [
    "def multiplication(m, n):\n",
    "    if n == 0:\n",
    "        return 0\n",
    "    \n",
    "    return m + multiplication(m, n-1)"
   ]
  },
  {
   "cell_type": "code",
   "execution_count": 135,
   "metadata": {},
   "outputs": [
    {
     "data": {
      "text/plain": [
       "24"
      ]
     },
     "execution_count": 135,
     "metadata": {},
     "output_type": "execute_result"
    }
   ],
   "source": [
    "multiplication(12, 2)"
   ]
  },
  {
   "cell_type": "code",
   "execution_count": 136,
   "metadata": {},
   "outputs": [],
   "source": [
    "def countNumberOfZero(n, first=True):\n",
    "    if first:\n",
    "        if n == 0:\n",
    "            return 1\n",
    "    \n",
    "    if n == 0:\n",
    "        return 0\n",
    "    \n",
    "    last = n%10\n",
    "    n //= 10\n",
    "\n",
    "    if last == 0:\n",
    "        return 1+countNumberOfZero(n, False)\n",
    "    \n",
    "    return countNumberOfZero(n, False)\n"
   ]
  },
  {
   "cell_type": "code",
   "execution_count": 137,
   "metadata": {},
   "outputs": [
    {
     "data": {
      "text/plain": [
       "0"
      ]
     },
     "execution_count": 137,
     "metadata": {},
     "output_type": "execute_result"
    }
   ],
   "source": [
    "countNumberOfZero(9)"
   ]
  },
  {
   "cell_type": "code",
   "execution_count": 138,
   "metadata": {},
   "outputs": [],
   "source": [
    "def countNumberOfZero2(n):\n",
    "    if n<10:\n",
    "        if n == 0:\n",
    "            return 1\n",
    "        else:\n",
    "            return 0\n",
    "    \n",
    "    \n",
    "    last = n%10\n",
    "    n //= 10\n",
    "\n",
    "    if last == 0:\n",
    "        return 1+countNumberOfZero2(n)\n",
    "    \n",
    "    return countNumberOfZero2(n)\n"
   ]
  },
  {
   "cell_type": "code",
   "execution_count": 139,
   "metadata": {},
   "outputs": [
    {
     "data": {
      "text/plain": [
       "2"
      ]
     },
     "execution_count": 139,
     "metadata": {},
     "output_type": "execute_result"
    }
   ],
   "source": [
    "countNumberOfZero2(100)"
   ]
  },
  {
   "cell_type": "code",
   "execution_count": 140,
   "metadata": {},
   "outputs": [],
   "source": [
    "def stringToInt(s):\n",
    "    l = len(s)\n",
    "\n",
    "    if l == 0:\n",
    "        return 0\n",
    "    \n",
    "    multiplicationFactor = 1\n",
    "    for i in range(l-1):\n",
    "        multiplicationFactor *= 10\n",
    "\n",
    "    integer = ord(s[0])-48 # 48 => ord('0')\n",
    "    \n",
    "    return integer*multiplicationFactor + stringToInt(s[1:])"
   ]
  },
  {
   "cell_type": "code",
   "execution_count": 141,
   "metadata": {},
   "outputs": [
    {
     "data": {
      "text/plain": [
       "121"
      ]
     },
     "execution_count": 141,
     "metadata": {},
     "output_type": "execute_result"
    }
   ],
   "source": [
    "stringToInt('121')"
   ]
  },
  {
   "cell_type": "code",
   "execution_count": 142,
   "metadata": {},
   "outputs": [],
   "source": [
    "def pairStar(s):\n",
    "    l = len(s)\n",
    "\n",
    "    if l == 1:\n",
    "        return s\n",
    "    \n",
    "    if s[0] == s[1]:\n",
    "        return s[0]+'*'+pairStar(s[1:])\n",
    "    \n",
    "    return s[0]+pairStar(s[1:])"
   ]
  },
  {
   "cell_type": "code",
   "execution_count": 143,
   "metadata": {},
   "outputs": [
    {
     "data": {
      "text/plain": [
       "'hel*lo'"
      ]
     },
     "execution_count": 143,
     "metadata": {},
     "output_type": "execute_result"
    }
   ],
   "source": [
    "pairStar('hello')"
   ]
  },
  {
   "cell_type": "code",
   "execution_count": 148,
   "metadata": {},
   "outputs": [
    {
     "data": {
      "text/plain": [
       "'a*a*a*a'"
      ]
     },
     "execution_count": 148,
     "metadata": {},
     "output_type": "execute_result"
    }
   ],
   "source": [
    "pairStar('aaaa')"
   ]
  }
 ],
 "metadata": {
  "kernelspec": {
   "display_name": "Python 3",
   "language": "python",
   "name": "python3"
  },
  "language_info": {
   "codemirror_mode": {
    "name": "ipython",
    "version": 3
   },
   "file_extension": ".py",
   "mimetype": "text/x-python",
   "name": "python",
   "nbconvert_exporter": "python",
   "pygments_lexer": "ipython3",
   "version": "3.10.12"
  }
 },
 "nbformat": 4,
 "nbformat_minor": 2
}
