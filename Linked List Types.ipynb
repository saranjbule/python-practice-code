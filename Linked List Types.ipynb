{
  "cells": [
    {
      "cell_type": "markdown",
      "metadata": {},
      "source": [
        "<h1>Singly Linked List</h1>"
      ]
    },
    {
      "cell_type": "code",
      "execution_count": 1,
      "metadata": {
        "trusted": true
      },
      "outputs": [
        {
          "name": "stdout",
          "output_type": "stream",
          "text": [
            "<__main__.Node object at 0x7f6b9dc04190> <__main__.Node object at 0x7f6b9c2d9c00>\n",
            "<__main__.Node object at 0x7f6b9dc04190> 2 <__main__.Node object at 0x7f6b9c2da2f0>\n",
            "<__main__.Node object at 0x7f6b9c2da2f0> 9 <__main__.Node object at 0x7f6b9c2da290>\n",
            "<__main__.Node object at 0x7f6b9c2da290> 3 <__main__.Node object at 0x7f6b9c2d99c0>\n",
            "<__main__.Node object at 0x7f6b9c2d99c0> 4 <__main__.Node object at 0x7f6b9c2d9c00>\n",
            "<__main__.Node object at 0x7f6b9c2d9c00> 5 None\n"
          ]
        }
      ],
      "source": [
        "class Node:\n",
        "    def __init__(self, val, nxt=None):\n",
        "        self.val = val\n",
        "        self.nxt = nxt\n",
        "        \n",
        "ip = [2, 9, 3, 4, 5]\n",
        "head = None\n",
        "curr = None\n",
        "\n",
        "for i in ip:\n",
        "    n = Node(i)\n",
        "    \n",
        "    if head:\n",
        "        curr.nxt = n\n",
        "    else:\n",
        "        head = n\n",
        "    \n",
        "    curr = n\n",
        "    \n",
        "print(head, curr)\n",
        "\n",
        "while head:\n",
        "    print(head, head.val, head.nxt)\n",
        "    head = head.nxt"
      ]
    },
    {
      "cell_type": "markdown",
      "metadata": {},
      "source": [
        "<h1>Circular Linked List</h1"
      ]
    },
    {
      "cell_type": "code",
      "execution_count": 2,
      "metadata": {
        "trusted": true
      },
      "outputs": [
        {
          "name": "stdout",
          "output_type": "stream",
          "text": [
            "<__main__.Node object at 0x7f6b9dc04610> 2 <__main__.Node object at 0x7f6b9c2d9c00>\n",
            "<__main__.Node object at 0x7f6b9c2d9c00> 9 <__main__.Node object at 0x7f6b9c2d8e80>\n",
            "<__main__.Node object at 0x7f6b9c2d8e80> 3 <__main__.Node object at 0x7f6b9c2da1d0>\n",
            "<__main__.Node object at 0x7f6b9c2da1d0> 4 <__main__.Node object at 0x7f6b9c2da200>\n",
            "<__main__.Node object at 0x7f6b9c2da200> 5 <__main__.Node object at 0x7f6b9dc04610>\n"
          ]
        }
      ],
      "source": [
        "class Node:\n",
        "    def __init__(self, val, nxt=None):\n",
        "        self.val = val\n",
        "        self.nxt = nxt\n",
        "        \n",
        "ip = [2, 9, 3, 4, 5]\n",
        "head = None\n",
        "curr = None\n",
        "\n",
        "for i in ip:\n",
        "    n = Node(i)\n",
        "\n",
        "    if head:\n",
        "        curr.nxt = n\n",
        "    else:\n",
        "        head = n\n",
        "        \n",
        "    curr = n\n",
        "        \n",
        "curr.nxt= head\n",
        "\n",
        "for i in range(len(ip)):\n",
        "    print(head, head.val, head.nxt)\n",
        "    head = head.nxt"
      ]
    },
    {
      "cell_type": "markdown",
      "metadata": {},
      "source": [
        "<h1>Doubly Linked List</h1>"
      ]
    },
    {
      "cell_type": "code",
      "execution_count": 3,
      "metadata": {
        "trusted": true
      },
      "outputs": [
        {
          "name": "stdout",
          "output_type": "stream",
          "text": [
            "<__main__.Node object at 0x7f6b9dbb64d0> <__main__.Node object at 0x7f6b9c2d99f0>\n",
            "<__main__.Node object at 0x7f6b9dbb64d0> None 2 <__main__.Node object at 0x7f6b9c2d9840>\n",
            "<__main__.Node object at 0x7f6b9c2d9840> <__main__.Node object at 0x7f6b9dbb64d0> 9 <__main__.Node object at 0x7f6b9c2d9570>\n",
            "<__main__.Node object at 0x7f6b9c2d9570> <__main__.Node object at 0x7f6b9c2d9840> 3 <__main__.Node object at 0x7f6b9c2d9a20>\n",
            "<__main__.Node object at 0x7f6b9c2d9a20> <__main__.Node object at 0x7f6b9c2d9570> 4 <__main__.Node object at 0x7f6b9c2d99f0>\n",
            "<__main__.Node object at 0x7f6b9c2d99f0> <__main__.Node object at 0x7f6b9c2d9a20> 5 None\n"
          ]
        }
      ],
      "source": [
        "class Node:\n",
        "    def __init__(self, val, pre=None, nxt=None):\n",
        "        self.val = val\n",
        "        self.pre = pre\n",
        "        self.nxt = nxt\n",
        "        \n",
        "ip = [2, 9, 3, 4, 5]\n",
        "head = None\n",
        "curr = None\n",
        "\n",
        "for i in ip:\n",
        "    n = Node(i)\n",
        "    if head:\n",
        "        curr.nxt = n\n",
        "        n.pre = curr\n",
        "    else:\n",
        "        head = n\n",
        "    curr = n\n",
        "\n",
        "print(head, curr)\n",
        "while head:\n",
        "    print(head, head.pre, head.val, head.nxt)\n",
        "    head = head.nxt"
      ]
    },
    {
      "cell_type": "markdown",
      "metadata": {},
      "source": [
        "<h1>Doubly Circular Linked List</h1>"
      ]
    },
    {
      "cell_type": "code",
      "execution_count": 4,
      "metadata": {
        "trusted": true
      },
      "outputs": [
        {
          "name": "stdout",
          "output_type": "stream",
          "text": [
            "<__main__.Node object at 0x7f6b9dbb73d0> <__main__.Node object at 0x7f6b9c2db220>\n",
            "<__main__.Node object at 0x7f6b9dbb73d0> <__main__.Node object at 0x7f6b9c2db220> 2 <__main__.Node object at 0x7f6b9dbb7910>\n",
            "<__main__.Node object at 0x7f6b9dbb7910> <__main__.Node object at 0x7f6b9dbb73d0> 9 <__main__.Node object at 0x7f6b9dbb7c10>\n",
            "<__main__.Node object at 0x7f6b9dbb7c10> <__main__.Node object at 0x7f6b9dbb7910> 3 <__main__.Node object at 0x7f6b9c2d8610>\n",
            "<__main__.Node object at 0x7f6b9c2d8610> <__main__.Node object at 0x7f6b9dbb7c10> 4 <__main__.Node object at 0x7f6b9c2db220>\n",
            "<__main__.Node object at 0x7f6b9c2db220> <__main__.Node object at 0x7f6b9c2d8610> 5 <__main__.Node object at 0x7f6b9dbb73d0>\n"
          ]
        }
      ],
      "source": [
        "class Node:\n",
        "    def __init__(self, val, pre=None, nxt=None):\n",
        "        self.val = val\n",
        "        self.pre = pre\n",
        "        self.nxt = nxt\n",
        "        \n",
        "ip = [2, 9, 3, 4, 5]\n",
        "head = None\n",
        "curr = None\n",
        "\n",
        "for i in ip:\n",
        "    n = Node(i)\n",
        "    if head:\n",
        "        curr.nxt = n\n",
        "        n.pre = curr\n",
        "        curr = n\n",
        "    else:\n",
        "        head = n\n",
        "        curr = n\n",
        "\n",
        "head.pre = curr\n",
        "curr.nxt = head\n",
        "\n",
        "print(head, curr)\n",
        "for i in range(len(ip)):\n",
        "    print(head, head.pre, head.val, head.nxt)\n",
        "    head = head.nxt"
      ]
    }
  ],
  "metadata": {
    "kernelspec": {
      "display_name": "Python 3",
      "language": "python",
      "name": "python3"
    },
    "language_info": {
      "codemirror_mode": {
        "name": "ipython",
        "version": 3
      },
      "file_extension": ".py",
      "mimetype": "text/x-python",
      "name": "python",
      "nbconvert_exporter": "python",
      "pygments_lexer": "ipython3",
      "version": "3.10.12"
    },
    "vscode": {
      "interpreter": {
        "hash": "f1af8e9e7b81bd0acb2c0a8783f2dbe2b614545b4102e8f472ef55e374047c4b"
      }
    }
  },
  "nbformat": 4,
  "nbformat_minor": 4
}
