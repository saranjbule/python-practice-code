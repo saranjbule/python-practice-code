{
 "cells": [
  {
   "cell_type": "code",
   "execution_count": 1,
   "metadata": {},
   "outputs": [],
   "source": [
    "class Student:\n",
    "    orgName = 'LKSHS' # class attribute\n",
    "    def method(self):\n",
    "        self.code = 123 # instance attribute\n",
    "        c = 12 # local attribute"
   ]
  },
  {
   "cell_type": "code",
   "execution_count": 2,
   "metadata": {},
   "outputs": [
    {
     "name": "stdout",
     "output_type": "stream",
     "text": [
      "LKSHS\n",
      "{}\n"
     ]
    }
   ],
   "source": [
    "s1 = Student()\n",
    "print(s1.orgName)\n",
    "print(s1.__dict__)"
   ]
  },
  {
   "cell_type": "code",
   "execution_count": 3,
   "metadata": {},
   "outputs": [
    {
     "name": "stdout",
     "output_type": "stream",
     "text": [
      "{'orgName': 'XX'}\n"
     ]
    }
   ],
   "source": [
    "s2 = Student()\n",
    "s2.orgName = 'XX' # instance attribute\n",
    "\n",
    "print(s2.__dict__)"
   ]
  },
  {
   "cell_type": "code",
   "execution_count": 4,
   "metadata": {},
   "outputs": [
    {
     "name": "stdout",
     "output_type": "stream",
     "text": [
      "{'orgName': 'XX', 'code': 123}\n"
     ]
    }
   ],
   "source": [
    "s2.method()\n",
    "print(s2.__dict__)"
   ]
  },
  {
   "cell_type": "code",
   "execution_count": 5,
   "metadata": {},
   "outputs": [],
   "source": [
    "class Dummy:\n",
    "    def greet():\n",
    "        print('Hello')"
   ]
  },
  {
   "cell_type": "code",
   "execution_count": 6,
   "metadata": {},
   "outputs": [
    {
     "ename": "TypeError",
     "evalue": "Dummy.greet() takes 0 positional arguments but 1 was given",
     "output_type": "error",
     "traceback": [
      "\u001b[1;31m---------------------------------------------------------------------------\u001b[0m",
      "\u001b[1;31mTypeError\u001b[0m                                 Traceback (most recent call last)",
      "Cell \u001b[1;32mIn[6], line 2\u001b[0m\n\u001b[0;32m      1\u001b[0m d \u001b[39m=\u001b[39m Dummy()\n\u001b[1;32m----> 2\u001b[0m d\u001b[39m.\u001b[39;49mgreet()\n",
      "\u001b[1;31mTypeError\u001b[0m: Dummy.greet() takes 0 positional arguments but 1 was given"
     ]
    }
   ],
   "source": [
    "d = Dummy()\n",
    "d.greet()"
   ]
  },
  {
   "cell_type": "code",
   "execution_count": null,
   "metadata": {},
   "outputs": [],
   "source": [
    "class Dummy:\n",
    "    @staticmethod\n",
    "    def greet():\n",
    "        print('Hello')"
   ]
  },
  {
   "cell_type": "code",
   "execution_count": null,
   "metadata": {},
   "outputs": [
    {
     "name": "stdout",
     "output_type": "stream",
     "text": [
      "Hello\n"
     ]
    }
   ],
   "source": [
    "d = Dummy()\n",
    "d.greet()\n"
   ]
  },
  {
   "cell_type": "code",
   "execution_count": null,
   "metadata": {},
   "outputs": [],
   "source": [
    "class Dummy:\n",
    "    @staticmethod\n",
    "    def greet(self):\n",
    "        print('Hello')"
   ]
  },
  {
   "cell_type": "code",
   "execution_count": null,
   "metadata": {},
   "outputs": [
    {
     "ename": "TypeError",
     "evalue": "Dummy.greet() missing 1 required positional argument: 'self'",
     "output_type": "error",
     "traceback": [
      "\u001b[1;31m---------------------------------------------------------------------------\u001b[0m",
      "\u001b[1;31mTypeError\u001b[0m                                 Traceback (most recent call last)",
      "Cell \u001b[1;32mIn[21], line 2\u001b[0m\n\u001b[0;32m      1\u001b[0m d0 \u001b[39m=\u001b[39m Dummy()\n\u001b[1;32m----> 2\u001b[0m d0\u001b[39m.\u001b[39;49mgreet()\n",
      "\u001b[1;31mTypeError\u001b[0m: Dummy.greet() missing 1 required positional argument: 'self'"
     ]
    }
   ],
   "source": [
    "d0 = Dummy()\n",
    "d0.greet()"
   ]
  },
  {
   "cell_type": "code",
   "execution_count": null,
   "metadata": {},
   "outputs": [],
   "source": [
    "class demo:\n",
    "    def __init__(self, v1, v2=None):\n",
    "        self.v1 = v1\n",
    "        self.v2 = v2\n",
    "\n",
    "    @classmethod # factory method\n",
    "    def m(demoClass, v1):\n",
    "        return demoClass(v1, v1*2)"
   ]
  },
  {
   "cell_type": "code",
   "execution_count": null,
   "metadata": {},
   "outputs": [
    {
     "name": "stdout",
     "output_type": "stream",
     "text": [
      "{'v1': 'y', 'v2': None}\n"
     ]
    }
   ],
   "source": [
    "d = demo('y')\n",
    "print(d.__dict__)"
   ]
  },
  {
   "cell_type": "code",
   "execution_count": null,
   "metadata": {},
   "outputs": [
    {
     "name": "stdout",
     "output_type": "stream",
     "text": [
      "{'v1': 'y', 'v2': 'yy'}\n"
     ]
    }
   ],
   "source": [
    "d = demo.m('y')\n",
    "print(d.__dict__)"
   ]
  },
  {
   "cell_type": "code",
   "execution_count": 23,
   "metadata": {},
   "outputs": [],
   "source": [
    "class D:\n",
    "    def __init__(self, n) -> None:\n",
    "        self.__n = n # private attribute\n",
    "\n",
    "    def printing(self):\n",
    "        print(self.__n)\n",
    "\n",
    "d = D('saranj')\n"
   ]
  },
  {
   "cell_type": "code",
   "execution_count": 24,
   "metadata": {},
   "outputs": [
    {
     "name": "stdout",
     "output_type": "stream",
     "text": [
      "{'_D__n': 'saranj'}\n"
     ]
    }
   ],
   "source": [
    "print(d.__dict__)"
   ]
  },
  {
   "cell_type": "code",
   "execution_count": 25,
   "metadata": {},
   "outputs": [
    {
     "ename": "AttributeError",
     "evalue": "'D' object has no attribute 'n'",
     "output_type": "error",
     "traceback": [
      "\u001b[1;31m---------------------------------------------------------------------------\u001b[0m",
      "\u001b[1;31mAttributeError\u001b[0m                            Traceback (most recent call last)",
      "Cell \u001b[1;32mIn[25], line 1\u001b[0m\n\u001b[1;32m----> 1\u001b[0m \u001b[39mprint\u001b[39m(d\u001b[39m.\u001b[39;49mn) \u001b[39m# Accessing private varible is not allowed\u001b[39;00m\n",
      "\u001b[1;31mAttributeError\u001b[0m: 'D' object has no attribute 'n'"
     ]
    }
   ],
   "source": [
    "print(d.n) # Accessing private varible is not allowed"
   ]
  },
  {
   "cell_type": "code",
   "execution_count": 26,
   "metadata": {},
   "outputs": [
    {
     "ename": "AttributeError",
     "evalue": "'D' object has no attribute '__n'",
     "output_type": "error",
     "traceback": [
      "\u001b[1;31m---------------------------------------------------------------------------\u001b[0m",
      "\u001b[1;31mAttributeError\u001b[0m                            Traceback (most recent call last)",
      "Cell \u001b[1;32mIn[26], line 1\u001b[0m\n\u001b[1;32m----> 1\u001b[0m \u001b[39mprint\u001b[39m(d\u001b[39m.\u001b[39;49m__n)\n",
      "\u001b[1;31mAttributeError\u001b[0m: 'D' object has no attribute '__n'"
     ]
    }
   ],
   "source": [
    "print(d.__n)"
   ]
  },
  {
   "cell_type": "code",
   "execution_count": 27,
   "metadata": {},
   "outputs": [
    {
     "name": "stdout",
     "output_type": "stream",
     "text": [
      "saranj\n"
     ]
    }
   ],
   "source": [
    "print(d._D__n) # name mangling # not accepted & not a good practice _ClassName__PrivateAttribute"
   ]
  },
  {
   "cell_type": "code",
   "execution_count": 28,
   "metadata": {},
   "outputs": [
    {
     "name": "stdout",
     "output_type": "stream",
     "text": [
      "saranj\n"
     ]
    }
   ],
   "source": [
    "d.printing()"
   ]
  },
  {
   "cell_type": "code",
   "execution_count": 13,
   "metadata": {},
   "outputs": [],
   "source": [
    "class Shape:\n",
    "    def __init__(self, color, filled):\n",
    "        self.color = color\n",
    "        self.filled = filled\n",
    "\n",
    "class Rectangle(Shape):\n",
    "    def __init__(self, color, filled, length, width):\n",
    "        super().__init__(color, filled)\n",
    "        self.length = length\n",
    "        self.width = width\n",
    "\n",
    "    def printObj(self):\n",
    "        print(self.color, self.filled, self.length, self.width)\n"
   ]
  },
  {
   "cell_type": "code",
   "execution_count": 14,
   "metadata": {},
   "outputs": [],
   "source": [
    "r = Rectangle('black', True, 12, 10)"
   ]
  },
  {
   "cell_type": "code",
   "execution_count": 15,
   "metadata": {},
   "outputs": [
    {
     "data": {
      "text/plain": [
       "{'color': 'black', 'filled': True, 'length': 12, 'width': 10}"
      ]
     },
     "execution_count": 15,
     "metadata": {},
     "output_type": "execute_result"
    }
   ],
   "source": [
    "r.__dict__"
   ]
  },
  {
   "cell_type": "code",
   "execution_count": 16,
   "metadata": {},
   "outputs": [
    {
     "name": "stdout",
     "output_type": "stream",
     "text": [
      "black True 12 10\n"
     ]
    }
   ],
   "source": [
    "r.printObj()"
   ]
  },
  {
   "cell_type": "code",
   "execution_count": 31,
   "metadata": {},
   "outputs": [],
   "source": [
    "class Vehical:\n",
    "    def __init__(self, color, maxSpeed):\n",
    "        self.__color = color\n",
    "        self.__maxSpeed = maxSpeed\n",
    "\n",
    "    def get(self):\n",
    "        print(f'{self.__color} {self.__maxSpeed}')\n",
    "\n",
    "class Car(Vehical):\n",
    "    def __init__(self, color, maxSpeed, gear):\n",
    "        super().__init__(color, maxSpeed)\n",
    "        self.gear = gear\n",
    "\n"
   ]
  },
  {
   "cell_type": "code",
   "execution_count": 32,
   "metadata": {},
   "outputs": [],
   "source": [
    "c = Car('red', 100, 6)"
   ]
  },
  {
   "cell_type": "code",
   "execution_count": 33,
   "metadata": {},
   "outputs": [
    {
     "data": {
      "text/plain": [
       "{'_Vehical__color': 'red', '_Vehical__maxSpeed': 100, 'gear': 6}"
      ]
     },
     "execution_count": 33,
     "metadata": {},
     "output_type": "execute_result"
    }
   ],
   "source": [
    "c.__dict__"
   ]
  },
  {
   "cell_type": "code",
   "execution_count": 37,
   "metadata": {},
   "outputs": [
    {
     "name": "stdout",
     "output_type": "stream",
     "text": [
      "6\n"
     ]
    }
   ],
   "source": [
    "print(c.gear)"
   ]
  },
  {
   "cell_type": "code",
   "execution_count": 38,
   "metadata": {},
   "outputs": [
    {
     "name": "stdout",
     "output_type": "stream",
     "text": [
      "red 100\n"
     ]
    }
   ],
   "source": [
    "c.get()"
   ]
  },
  {
   "cell_type": "code",
   "execution_count": 47,
   "metadata": {},
   "outputs": [],
   "source": [
    "class V:\n",
    "    def __init__(self, color):\n",
    "        self.__color = color\n",
    "\n",
    "    def getColor(self):\n",
    "        return self.__color\n",
    "    \n",
    "    def setColor(self, col):\n",
    "        self.__color = col\n",
    "        return self.__color\n",
    "\n",
    "class C(V):\n",
    "    def __init__(self, color, gear):\n",
    "        super().__init__(color)\n",
    "        self.gear = gear\n",
    "\n",
    "    def printC(self):\n",
    "        print(self.getColor(), self.setColor('Black'), self.gear)"
   ]
  },
  {
   "cell_type": "code",
   "execution_count": 48,
   "metadata": {},
   "outputs": [],
   "source": [
    "c = C('red', 4)"
   ]
  },
  {
   "cell_type": "code",
   "execution_count": 49,
   "metadata": {},
   "outputs": [
    {
     "name": "stdout",
     "output_type": "stream",
     "text": [
      "red Black 4\n"
     ]
    }
   ],
   "source": [
    "c.printC()"
   ]
  },
  {
   "cell_type": "code",
   "execution_count": 50,
   "metadata": {},
   "outputs": [],
   "source": [
    "class Vehical:\n",
    "    def __init__(self, color, maxSpeed):\n",
    "        self.__color = color\n",
    "        self.__maxSpeed = maxSpeed\n",
    "\n",
    "    def printVehical(self):\n",
    "        print(f'{self.__color} {self.__maxSpeed}')\n",
    "\n",
    "class Car(Vehical):\n",
    "    def __init__(self, color, maxSpeed, gear):\n",
    "        super().__init__(color, maxSpeed)\n",
    "        self.__gear = gear\n",
    "\n",
    "    def printCar(self):\n",
    "        super().printVehical()\n",
    "        print(f'{self.__gear}')"
   ]
  },
  {
   "cell_type": "code",
   "execution_count": 51,
   "metadata": {},
   "outputs": [],
   "source": [
    "c = Car('purple', 23, 0)"
   ]
  },
  {
   "cell_type": "code",
   "execution_count": 52,
   "metadata": {},
   "outputs": [
    {
     "name": "stdout",
     "output_type": "stream",
     "text": [
      "purple 23\n",
      "0\n"
     ]
    }
   ],
   "source": [
    "c.printCar()"
   ]
  },
  {
   "cell_type": "code",
   "execution_count": 6,
   "metadata": {},
   "outputs": [],
   "source": [
    "class AParent: \n",
    "    def printSomething(self): \n",
    "        return 'I am ok'\n",
    "\n",
    "class AChild(AParent):\n",
    "    def printSomething(self):\n",
    "        return 'I am not ok'\n"
   ]
  },
  {
   "cell_type": "code",
   "execution_count": 7,
   "metadata": {},
   "outputs": [
    {
     "data": {
      "text/plain": [
       "'I am not ok'"
      ]
     },
     "execution_count": 7,
     "metadata": {},
     "output_type": "execute_result"
    }
   ],
   "source": [
    "a = AChild()\n",
    "a.printSomething() # Method Overriding"
   ]
  },
  {
   "cell_type": "code",
   "execution_count": 8,
   "metadata": {},
   "outputs": [
    {
     "data": {
      "text/plain": [
       "'I am ok'"
      ]
     },
     "execution_count": 8,
     "metadata": {},
     "output_type": "execute_result"
    }
   ],
   "source": [
    "a = AParent()\n",
    "a.printSomething()"
   ]
  },
  {
   "cell_type": "code",
   "execution_count": 12,
   "metadata": {},
   "outputs": [
    {
     "name": "stdout",
     "output_type": "stream",
     "text": [
      "['__class__', '__delattr__', '__dict__', '__dir__', '__doc__', '__eq__', '__format__', '__ge__', '__getattribute__', '__gt__', '__hash__', '__init__', '__init_subclass__', '__le__', '__lt__', '__module__', '__ne__', '__new__', '__reduce__', '__reduce_ex__', '__repr__', '__setattr__', '__sizeof__', '__str__', '__subclasshook__', '__weakref__']\n",
      "<class '__main__.x'>\n",
      "<class 'type'>\n",
      "=============================\n",
      "['__class__', '__delattr__', '__dict__', '__dir__', '__doc__', '__eq__', '__format__', '__ge__', '__getattribute__', '__gt__', '__hash__', '__init__', '__init_subclass__', '__le__', '__lt__', '__module__', '__ne__', '__new__', '__reduce__', '__reduce_ex__', '__repr__', '__setattr__', '__sizeof__', '__str__', '__subclasshook__', '__weakref__']\n",
      "<class 'type'>\n",
      "<class '__main__.y'>\n"
     ]
    }
   ],
   "source": [
    "class x: pass\n",
    "class y(object): pass\n",
    "\n",
    "print(dir(x))\n",
    "print(x)\n",
    "print(type(x))\n",
    "print('=============================')\n",
    "print(dir(y))\n",
    "print(type(y))\n",
    "print(y)"
   ]
  },
  {
   "cell_type": "code",
   "execution_count": 14,
   "metadata": {},
   "outputs": [
    {
     "name": "stdout",
     "output_type": "stream",
     "text": [
      "I am X class\n"
     ]
    }
   ],
   "source": [
    "class X:\n",
    "    def __str__(self):\n",
    "        return 'I am X class'\n",
    "\n",
    "x = X()\n",
    "print(x)"
   ]
  },
  {
   "cell_type": "code",
   "execution_count": 22,
   "metadata": {},
   "outputs": [
    {
     "name": "stdout",
     "output_type": "stream",
     "text": [
      "{'fatherName': 'sanjay', 'childName': 'saranj'}\n",
      "[<class '__main__.Child'>, <class '__main__.Father'>, <class '__main__.Mother'>, <class 'object'>]\n"
     ]
    }
   ],
   "source": [
    "class Mother:\n",
    "    def __init__(self, motherName):\n",
    "        self.motherName = motherName\n",
    "\n",
    "class Father:\n",
    "    def __init__(self, fatherName):\n",
    "        self.fatherName = fatherName\n",
    "\n",
    "class Child(Father, Mother):\n",
    "    def __init__(self, fatherName, motherName, childName):\n",
    "        super().__init__(fatherName)\n",
    "        self.childName = childName\n",
    "\n",
    "    \n",
    "c = Child('sanjay', 'rajshri', 'saranj')\n",
    "\n",
    "print(c.__dict__)\n",
    "print(Child.mro())"
   ]
  },
  {
   "cell_type": "code",
   "execution_count": 28,
   "metadata": {},
   "outputs": [
    {
     "name": "stdout",
     "output_type": "stream",
     "text": [
      "Point at 1 , 2 Point at 2 , 3\n"
     ]
    }
   ],
   "source": [
    "class Point:\n",
    "    def __init__(self, __x, __y):\n",
    "        self.__x = __x\n",
    "        self.__y = __y\n",
    "\n",
    "    def __str__(self):\n",
    "        return f\"Point at {self.__x} , {self.__y}\"\n",
    "\n",
    "    def __add__(self, otherPoint):\n",
    "        return Point(self.__x+otherPoint.__x, self.__y+otherPoint.__y)\n",
    "\n",
    "    def __sub__(self, otherPoint):\n",
    "        return Point(self.__x - otherPoint.__x, self.__y- otherPoint.__y)\n",
    "\n",
    "p = Point(1, 2)\n",
    "p1 = Point(2, 3)\n",
    "\n",
    "print(p, p1)"
   ]
  },
  {
   "cell_type": "code",
   "execution_count": 29,
   "metadata": {},
   "outputs": [
    {
     "name": "stdout",
     "output_type": "stream",
     "text": [
      "Point at 3 , 5\n"
     ]
    }
   ],
   "source": [
    "p3 = p + p1\n",
    "print(p3)"
   ]
  },
  {
   "cell_type": "code",
   "execution_count": 30,
   "metadata": {},
   "outputs": [
    {
     "name": "stdout",
     "output_type": "stream",
     "text": [
      "Point at 2 , 3\n"
     ]
    }
   ],
   "source": [
    "p4 = p3 - p\n",
    "print(p4)"
   ]
  },
  {
   "cell_type": "code",
   "execution_count": 1,
   "metadata": {},
   "outputs": [],
   "source": [
    "from abc import ABC, abstractmethod\n",
    "class vehicle(ABC):\n",
    "    def __init__(self) -> None:\n",
    "        print(\"hello\")\n",
    "\n",
    "    def start(self):\n",
    "        pass"
   ]
  },
  {
   "cell_type": "code",
   "execution_count": 2,
   "metadata": {},
   "outputs": [
    {
     "name": "stdout",
     "output_type": "stream",
     "text": [
      "hello\n"
     ]
    }
   ],
   "source": [
    "v = vehicle()\n"
   ]
  },
  {
   "cell_type": "code",
   "execution_count": 5,
   "metadata": {},
   "outputs": [],
   "source": [
    "from abc import ABC, abstractmethod\n",
    "class vehicle(ABC):\n",
    "    def __init__(self) -> None:\n",
    "        print(\"hello\")\n",
    "\n",
    "    @abstractmethod\n",
    "    def start(self):\n",
    "        pass\n",
    "\n",
    "    def stop(self):\n",
    "        pass"
   ]
  },
  {
   "cell_type": "code",
   "execution_count": 6,
   "metadata": {},
   "outputs": [
    {
     "ename": "TypeError",
     "evalue": "Can't instantiate abstract class vehicle with abstract method start",
     "output_type": "error",
     "traceback": [
      "\u001b[1;31m---------------------------------------------------------------------------\u001b[0m",
      "\u001b[1;31mTypeError\u001b[0m                                 Traceback (most recent call last)",
      "Cell \u001b[1;32mIn[6], line 1\u001b[0m\n\u001b[1;32m----> 1\u001b[0m v \u001b[39m=\u001b[39m vehicle()\n",
      "\u001b[1;31mTypeError\u001b[0m: Can't instantiate abstract class vehicle with abstract method start"
     ]
    }
   ],
   "source": [
    "v = vehicle()"
   ]
  },
  {
   "cell_type": "code",
   "execution_count": 7,
   "metadata": {},
   "outputs": [],
   "source": [
    "from abc import ABC, abstractmethod\n",
    "class Automobile(ABC):\n",
    "    @abstractmethod\n",
    "    def start(self):\n",
    "        pass\n",
    "\n",
    "class Car(Automobile):\n",
    "    def __init__(self, n):\n",
    "        self.n = n\n",
    "\n",
    "    def start(self):\n",
    "        print('car Started')\n",
    "\n",
    "class Truck(Automobile):\n",
    "    def __init__(self, n):\n",
    "        self.n = n"
   ]
  },
  {
   "cell_type": "code",
   "execution_count": 8,
   "metadata": {},
   "outputs": [],
   "source": [
    "c = Car('car')"
   ]
  },
  {
   "cell_type": "code",
   "execution_count": 9,
   "metadata": {},
   "outputs": [
    {
     "name": "stdout",
     "output_type": "stream",
     "text": [
      "car Started\n"
     ]
    }
   ],
   "source": [
    "c.start()"
   ]
  },
  {
   "cell_type": "code",
   "execution_count": 10,
   "metadata": {},
   "outputs": [
    {
     "ename": "TypeError",
     "evalue": "Can't instantiate abstract class Truck with abstract method start",
     "output_type": "error",
     "traceback": [
      "\u001b[1;31m---------------------------------------------------------------------------\u001b[0m",
      "\u001b[1;31mTypeError\u001b[0m                                 Traceback (most recent call last)",
      "Cell \u001b[1;32mIn[10], line 1\u001b[0m\n\u001b[1;32m----> 1\u001b[0m t \u001b[39m=\u001b[39m Truck(\u001b[39m'\u001b[39;49m\u001b[39mTruck\u001b[39;49m\u001b[39m'\u001b[39;49m)\n",
      "\u001b[1;31mTypeError\u001b[0m: Can't instantiate abstract class Truck with abstract method start"
     ]
    }
   ],
   "source": [
    "t = Truck('Truck')\n"
   ]
  }
 ],
 "metadata": {
  "kernelspec": {
   "display_name": "Python 3",
   "language": "python",
   "name": "python3"
  },
  "language_info": {
   "codemirror_mode": {
    "name": "ipython",
    "version": 3
   },
   "file_extension": ".py",
   "mimetype": "text/x-python",
   "name": "python",
   "nbconvert_exporter": "python",
   "pygments_lexer": "ipython3",
   "version": "3.10.9"
  },
  "orig_nbformat": 4,
  "vscode": {
   "interpreter": {
    "hash": "f1af8e9e7b81bd0acb2c0a8783f2dbe2b614545b4102e8f472ef55e374047c4b"
   }
  }
 },
 "nbformat": 4,
 "nbformat_minor": 2
}
