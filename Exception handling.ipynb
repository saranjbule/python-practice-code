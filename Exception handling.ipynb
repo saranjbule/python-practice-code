{
 "cells": [
  {
   "cell_type": "code",
   "execution_count": 2,
   "metadata": {},
   "outputs": [
    {
     "name": "stdout",
     "output_type": "stream",
     "text": [
      "Zero Division error\n"
     ]
    }
   ],
   "source": [
    "# handling multiple exception\n",
    "try:\n",
    "    a = int(input('value of A = '))\n",
    "    b = int(input('value of B = '))\n",
    "    print(a/b)\n",
    "\n",
    "# handles value error exception \n",
    "except ValueError: \n",
    "    print('Enter integer value')\n",
    "\n",
    "# handles divide by zero error exception \n",
    "except ZeroDivisionError:\n",
    "   print('Zero Division error')\n",
    "\n",
    "# handles both the execptions \n",
    "except (ZeroDivisionError, ValueError):\n",
    "  print('Handling both error at a time')\n",
    "\n",
    "# handles all exception\n",
    "except:\n",
    "   print('All Exceptions')"
   ]
  },
  {
   "cell_type": "code",
   "execution_count": 2,
   "metadata": {},
   "outputs": [
    {
     "ename": "ValueError",
     "evalue": "invalid literal for int() with base 10: ''",
     "output_type": "error",
     "traceback": [
      "\u001b[0;31m---------------------------------------------------------------------------\u001b[0m",
      "\u001b[0;31mValueError\u001b[0m                                Traceback (most recent call last)",
      "Cell \u001b[0;32mIn[2], line 5\u001b[0m\n\u001b[1;32m      2\u001b[0m     \u001b[39mpass\u001b[39;00m \u001b[39m# by default take message \u001b[39;00m\n\u001b[1;32m      4\u001b[0m \u001b[39mtry\u001b[39;00m:\n\u001b[0;32m----> 5\u001b[0m     a \u001b[39m=\u001b[39m \u001b[39mint\u001b[39;49m(\u001b[39minput\u001b[39;49m(\u001b[39m'\u001b[39;49m\u001b[39mvalue of A = \u001b[39;49m\u001b[39m'\u001b[39;49m))\n\u001b[1;32m      6\u001b[0m     b \u001b[39m=\u001b[39m \u001b[39mint\u001b[39m(\u001b[39minput\u001b[39m(\u001b[39m'\u001b[39m\u001b[39mvalue of B = \u001b[39m\u001b[39m'\u001b[39m))\n\u001b[1;32m      7\u001b[0m     \u001b[39mif\u001b[39;00m b \u001b[39m==\u001b[39m \u001b[39m0\u001b[39m:\n",
      "\u001b[0;31mValueError\u001b[0m: invalid literal for int() with base 10: ''"
     ]
    }
   ],
   "source": [
    "class MyException(Exception):\n",
    "    pass # by default take message \n",
    "\n",
    "try:\n",
    "    a = int(input('value of A = '))\n",
    "    b = int(input('value of B = '))\n",
    "    if b == 0:\n",
    "        raise MyException('Denominator should not be zero')\n",
    "    else:\n",
    "        print(a/b)\n",
    "except NameError:  \n",
    "    print('Something is fishy')"
   ]
  }
 ],
 "metadata": {
  "kernelspec": {
   "display_name": "Python 3",
   "language": "python",
   "name": "python3"
  },
  "language_info": {
   "codemirror_mode": {
    "name": "ipython",
    "version": 3
   },
   "file_extension": ".py",
   "mimetype": "text/x-python",
   "name": "python",
   "nbconvert_exporter": "python",
   "pygments_lexer": "ipython3",
   "version": "3.10.12"
  },
  "orig_nbformat": 4,
  "vscode": {
   "interpreter": {
    "hash": "cc2a200e1e6dab10c4dc3986f0e7a998296447c993c26561a1bd050a849d8214"
   }
  }
 },
 "nbformat": 4,
 "nbformat_minor": 2
}
