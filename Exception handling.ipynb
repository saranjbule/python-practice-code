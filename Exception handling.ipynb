{
 "cells": [
  {
   "cell_type": "code",
   "execution_count": 1,
   "metadata": {},
   "outputs": [
    {
     "name": "stdout",
     "output_type": "stream",
     "text": [
      "Zero Division error\n"
     ]
    }
   ],
   "source": [
    "# handling multiple exception\n",
    "try:\n",
    "    a = int(input('value of A = '))\n",
    "    b = int(input('value of B = '))\n",
    "    print(a/b)\n",
    "\n",
    "# handles value error exception \n",
    "except ValueError: \n",
    "    print('Enter integer value')\n",
    "\n",
    "# handles divide by zero error exception \n",
    "except ZeroDivisionError:\n",
    "   print('Zero Division error')\n",
    "\n",
    "# handles all the execptions \n",
    "except (ZeroDivisionError, ValueError):\n",
    "  print('Handling both error at a time')"
   ]
  },
  {
   "cell_type": "code",
   "execution_count": 3,
   "metadata": {},
   "outputs": [
    {
     "name": "stdout",
     "output_type": "stream",
     "text": [
      "Enter valid value\n"
     ]
    }
   ],
   "source": [
    "try:\n",
    "    a = int(input('value of A = '))\n",
    "    b = int(input('value of B = '))\n",
    "    print(a/b)\n",
    "except: # handles all the exceptions value error & divide by zero\n",
    "    print('Enter valid value')"
   ]
  },
  {
   "cell_type": "code",
   "execution_count": 11,
   "metadata": {},
   "outputs": [
    {
     "ename": "MyException",
     "evalue": "Denominator should not be zero",
     "output_type": "error",
     "traceback": [
      "\u001b[1;31m---------------------------------------------------------------------------\u001b[0m",
      "\u001b[1;31mMyException\u001b[0m                               Traceback (most recent call last)",
      "Cell \u001b[1;32mIn[11], line 8\u001b[0m\n\u001b[0;32m      6\u001b[0m b \u001b[39m=\u001b[39m \u001b[39mint\u001b[39m(\u001b[39minput\u001b[39m(\u001b[39m'\u001b[39m\u001b[39mvalue of B = \u001b[39m\u001b[39m'\u001b[39m))\n\u001b[0;32m      7\u001b[0m \u001b[39mif\u001b[39;00m b \u001b[39m==\u001b[39m \u001b[39m0\u001b[39m:\n\u001b[1;32m----> 8\u001b[0m     \u001b[39mraise\u001b[39;00m MyException(\u001b[39m'\u001b[39m\u001b[39mDenominator should not be zero\u001b[39m\u001b[39m'\u001b[39m)\n\u001b[0;32m      9\u001b[0m \u001b[39melse\u001b[39;00m:\n\u001b[0;32m     10\u001b[0m     \u001b[39mprint\u001b[39m(a\u001b[39m/\u001b[39mb)\n",
      "\u001b[1;31mMyException\u001b[0m: Denominator should not be zero"
     ]
    }
   ],
   "source": [
    "class MyException(Exception):\n",
    "    pass #by default take message \n",
    "\n",
    "try:\n",
    "    a = int(input('value of A = '))\n",
    "    b = int(input('value of B = '))\n",
    "    if b == 0:\n",
    "        raise MyException('Denominator should not be zero')\n",
    "    else:\n",
    "        print(a/b)\n",
    "except NameError:  \n",
    "    print('Something is fishy')"
   ]
  }
 ],
 "metadata": {
  "kernelspec": {
   "display_name": "Python 3",
   "language": "python",
   "name": "python3"
  },
  "language_info": {
   "codemirror_mode": {
    "name": "ipython",
    "version": 3
   },
   "file_extension": ".py",
   "mimetype": "text/x-python",
   "name": "python",
   "nbconvert_exporter": "python",
   "pygments_lexer": "ipython3",
   "version": "3.10.9"
  },
  "orig_nbformat": 4,
  "vscode": {
   "interpreter": {
    "hash": "cc2a200e1e6dab10c4dc3986f0e7a998296447c993c26561a1bd050a849d8214"
   }
  }
 },
 "nbformat": 4,
 "nbformat_minor": 2
}
