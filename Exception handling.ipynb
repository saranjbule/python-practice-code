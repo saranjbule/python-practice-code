{
 "cells": [
  {
   "cell_type": "code",
   "execution_count": 4,
   "metadata": {},
   "outputs": [
    {
     "ename": "ZeroDivisionError",
     "evalue": "division by zero",
     "output_type": "error",
     "traceback": [
      "\u001b[1;31m---------------------------------------------------------------------------\u001b[0m",
      "\u001b[1;31mZeroDivisionError\u001b[0m                         Traceback (most recent call last)",
      "Cell \u001b[1;32mIn[4], line 4\u001b[0m\n\u001b[0;32m      2\u001b[0m     a \u001b[39m=\u001b[39m \u001b[39mint\u001b[39m(\u001b[39minput\u001b[39m(\u001b[39m'\u001b[39m\u001b[39mvalue of A = \u001b[39m\u001b[39m'\u001b[39m))\n\u001b[0;32m      3\u001b[0m     b \u001b[39m=\u001b[39m \u001b[39mint\u001b[39m(\u001b[39minput\u001b[39m(\u001b[39m'\u001b[39m\u001b[39mvalue of B = \u001b[39m\u001b[39m'\u001b[39m))\n\u001b[1;32m----> 4\u001b[0m     \u001b[39mprint\u001b[39m(a\u001b[39m/\u001b[39;49mb)\n\u001b[0;32m      5\u001b[0m \u001b[39mexcept\u001b[39;00m \u001b[39mValueError\u001b[39;00m:\n\u001b[0;32m      6\u001b[0m     \u001b[39mprint\u001b[39m(\u001b[39m'\u001b[39m\u001b[39mEnter integer value\u001b[39m\u001b[39m'\u001b[39m)\n",
      "\u001b[1;31mZeroDivisionError\u001b[0m: division by zero"
     ]
    }
   ],
   "source": [
    "try:\n",
    "    a = int(input('value of A = '))\n",
    "    b = int(input('value of B = '))\n",
    "    print(a/b)\n",
    "except ValueError: # handles only value error exception \n",
    "    print('Enter integer value')\n",
    "\n",
    "#use multiple exception\n",
    "\n",
    "#except ZeroDivisionError:\n",
    "#    print('Zero Division error')\n",
    "\n",
    "#or\n",
    "#except (ZeroDivisionError, ValueError):\n",
    "#   print('Handling both error at a time')"
   ]
  },
  {
   "cell_type": "code",
   "execution_count": 6,
   "metadata": {},
   "outputs": [
    {
     "name": "stdout",
     "output_type": "stream",
     "text": [
      "Enter valid value\n"
     ]
    }
   ],
   "source": [
    "try:\n",
    "    a = int(input('value of A = '))\n",
    "    b = int(input('value of B = '))\n",
    "    print(a/b)\n",
    "except: # handles all the exceptions value error & divide by zero\n",
    "    print('Enter valid value')"
   ]
  },
  {
   "cell_type": "code",
   "execution_count": 11,
   "metadata": {},
   "outputs": [
    {
     "ename": "MyException",
     "evalue": "Denominator should not be zero",
     "output_type": "error",
     "traceback": [
      "\u001b[1;31m---------------------------------------------------------------------------\u001b[0m",
      "\u001b[1;31mMyException\u001b[0m                               Traceback (most recent call last)",
      "Cell \u001b[1;32mIn[11], line 8\u001b[0m\n\u001b[0;32m      6\u001b[0m b \u001b[39m=\u001b[39m \u001b[39mint\u001b[39m(\u001b[39minput\u001b[39m(\u001b[39m'\u001b[39m\u001b[39mvalue of B = \u001b[39m\u001b[39m'\u001b[39m))\n\u001b[0;32m      7\u001b[0m \u001b[39mif\u001b[39;00m b \u001b[39m==\u001b[39m \u001b[39m0\u001b[39m:\n\u001b[1;32m----> 8\u001b[0m     \u001b[39mraise\u001b[39;00m MyException(\u001b[39m'\u001b[39m\u001b[39mDenominator should not be zero\u001b[39m\u001b[39m'\u001b[39m)\n\u001b[0;32m      9\u001b[0m \u001b[39melse\u001b[39;00m:\n\u001b[0;32m     10\u001b[0m     \u001b[39mprint\u001b[39m(a\u001b[39m/\u001b[39mb)\n",
      "\u001b[1;31mMyException\u001b[0m: Denominator should not be zero"
     ]
    }
   ],
   "source": [
    "class MyException(Exception):\n",
    "    pass #by default take message \n",
    "\n",
    "try:\n",
    "    a = int(input('value of A = '))\n",
    "    b = int(input('value of B = '))\n",
    "    if b == 0:\n",
    "        raise MyException('Denominator should not be zero')\n",
    "    else:\n",
    "        print(a/b)\n",
    "except NameError:  \n",
    "    print('Something is fishy')"
   ]
  },
  {
   "cell_type": "code",
   "execution_count": null,
   "metadata": {},
   "outputs": [],
   "source": []
  }
 ],
 "metadata": {
  "kernelspec": {
   "display_name": "Python 3",
   "language": "python",
   "name": "python3"
  },
  "language_info": {
   "codemirror_mode": {
    "name": "ipython",
    "version": 3
   },
   "file_extension": ".py",
   "mimetype": "text/x-python",
   "name": "python",
   "nbconvert_exporter": "python",
   "pygments_lexer": "ipython3",
   "version": "3.10.9 (tags/v3.10.9:1dd9be6, Dec  6 2022, 20:01:21) [MSC v.1934 64 bit (AMD64)]"
  },
  "orig_nbformat": 4,
  "vscode": {
   "interpreter": {
    "hash": "f1af8e9e7b81bd0acb2c0a8783f2dbe2b614545b4102e8f472ef55e374047c4b"
   }
  }
 },
 "nbformat": 4,
 "nbformat_minor": 2
}
