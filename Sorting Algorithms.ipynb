{
 "cells": [
  {
   "cell_type": "code",
   "execution_count": 15,
   "metadata": {},
   "outputs": [],
   "source": [
    "arr = [4, 8, 2, 19, 1]\n",
    "l = len(arr)"
   ]
  },
  {
   "attachments": {},
   "cell_type": "markdown",
   "metadata": {},
   "source": [
    "<h1>Bubble Sort</h1>"
   ]
  },
  {
   "cell_type": "code",
   "execution_count": 5,
   "metadata": {},
   "outputs": [],
   "source": [
    "for i in range(l-1): # maximum steps requried for bubble sort is n-1 = [no. of elements] - 1 as last single element is by default gets sorted\n",
    "    for j in range(l-1-i): # l-1 as j+1 will go out of index in case of l and -i as last element already contains the sorted list i.e. largest elements\n",
    "        if arr[j] > arr[j+1]:\n",
    "            arr[j], arr[j+1] = arr[j+1], arr[j]"
   ]
  },
  {
   "cell_type": "code",
   "execution_count": 3,
   "metadata": {},
   "outputs": [
    {
     "data": {
      "text/plain": [
       "[1, 2, 4, 8, 19]"
      ]
     },
     "execution_count": 3,
     "metadata": {},
     "output_type": "execute_result"
    }
   ],
   "source": [
    "arr"
   ]
  },
  {
   "cell_type": "code",
   "execution_count": 6,
   "metadata": {},
   "outputs": [],
   "source": [
    "for i in range(l-1):\n",
    "    noSwap = True # if array is already sorted then break the loop as no changes need to be done\n",
    "    \n",
    "    for j in range(l-1-i):\n",
    "        if arr[j] > arr[j+1]:\n",
    "            noSwap = False\n",
    "            arr[j], arr[j+1] = arr[j+1], arr[j]\n",
    "        \n",
    "    if noSwap:\n",
    "        break"
   ]
  },
  {
   "cell_type": "code",
   "execution_count": 7,
   "metadata": {},
   "outputs": [
    {
     "data": {
      "text/plain": [
       "[1, 2, 4, 8, 19]"
      ]
     },
     "execution_count": 7,
     "metadata": {},
     "output_type": "execute_result"
    }
   ],
   "source": [
    "arr"
   ]
  },
  {
   "cell_type": "markdown",
   "metadata": {},
   "source": [
    "Compares adjacent elements and swaps them if they are in the wrong order.\t"
   ]
  },
  {
   "attachments": {},
   "cell_type": "markdown",
   "metadata": {},
   "source": [
    "<h1>Insertion Sort</h1>"
   ]
  },
  {
   "cell_type": "code",
   "execution_count": 13,
   "metadata": {},
   "outputs": [],
   "source": [
    "for i in range(1, l): # till l i.e., length\n",
    "    j = i-1\n",
    "\n",
    "    while j >= 0 and arr[j] > arr[i]:\n",
    "        arr[i], arr[j] = arr[j], arr[i]\n",
    "\n",
    "        j-=1\n",
    "        i-=1\n"
   ]
  },
  {
   "cell_type": "code",
   "execution_count": 14,
   "metadata": {},
   "outputs": [
    {
     "data": {
      "text/plain": [
       "[1, 2, 4, 8, 19]"
      ]
     },
     "execution_count": 14,
     "metadata": {},
     "output_type": "execute_result"
    }
   ],
   "source": [
    "arr"
   ]
  },
  {
   "cell_type": "code",
   "execution_count": 16,
   "metadata": {},
   "outputs": [],
   "source": [
    "for i in range(1, l):\n",
    "    while i>0 and arr[i-1] > arr[i]:\n",
    "        arr[i-1], arr[i] = arr[i], arr[i-1]\n",
    "        i -= 1\n",
    "        "
   ]
  },
  {
   "cell_type": "code",
   "execution_count": 17,
   "metadata": {},
   "outputs": [
    {
     "data": {
      "text/plain": [
       "[1, 2, 4, 8, 19]"
      ]
     },
     "execution_count": 17,
     "metadata": {},
     "output_type": "execute_result"
    }
   ],
   "source": [
    "arr"
   ]
  },
  {
   "cell_type": "markdown",
   "metadata": {},
   "source": [
    "Best time complexity is n as while loop does'nt get execute in case of already sorted elements"
   ]
  },
  {
   "cell_type": "markdown",
   "metadata": {},
   "source": [
    "<h1>Selection Sort"
   ]
  },
  {
   "cell_type": "code",
   "execution_count": null,
   "metadata": {},
   "outputs": [],
   "source": [
    "for i in range(l-1): # maximum steps requried for selection sort is n-1 = [no. of elements] - 1 as last single element is by default get sorted\n",
    "    mini = i\n",
    "    for j in range(i+1, l): # i+1 because i element contains the sorted list i.e. the smallest element\n",
    "        if arr[j] < arr[mini]:\n",
    "            mini = j\n",
    "\n",
    "    if arr[i] != arr[mini]:\n",
    "        arr[i], arr[mini] = arr[mini], arr[i]\n"
   ]
  },
  {
   "cell_type": "code",
   "execution_count": null,
   "metadata": {},
   "outputs": [
    {
     "data": {
      "text/plain": [
       "[1, 2, 4, 8, 19]"
      ]
     },
     "execution_count": 9,
     "metadata": {},
     "output_type": "execute_result"
    }
   ],
   "source": [
    "arr"
   ]
  },
  {
   "cell_type": "markdown",
   "metadata": {},
   "source": [
    "Best Time Complexity is n2 because selection sort will search for minimum element in the remaning array."
   ]
  },
  {
   "cell_type": "markdown",
   "metadata": {},
   "source": [
    "Selection sort divides the array in two halves 1. Unsorted array 2. Sorted array"
   ]
  },
  {
   "cell_type": "markdown",
   "metadata": {},
   "source": [
    "Initially whole array is unsorted"
   ]
  },
  {
   "cell_type": "markdown",
   "metadata": {},
   "source": [
    "Finds the smallest element in the unsorted portion of the list and swaps it with the first element in the unsorted portion.\n"
   ]
  },
  {
   "cell_type": "markdown",
   "metadata": {},
   "source": [
    "<h1>Merge Sort"
   ]
  },
  {
   "cell_type": "code",
   "execution_count": 2,
   "metadata": {},
   "outputs": [],
   "source": [
    "def mergeSort(a):\n",
    "    if len(a) == 1:\n",
    "        return a\n",
    "    \n",
    "    mid = len(a)//2\n",
    "\n",
    "    # divide the array into two halves\n",
    "    a1 = a[:mid]\n",
    "    a2 = a[mid:]\n",
    "\n",
    "    # call recursion on them until they are divided to single element\n",
    "    l = mergeSort(a1)\n",
    "    r = mergeSort(a2)\n",
    "\n",
    "    # merge them into the original list\n",
    "    ans = merge2SortedList(l, r, a)\n",
    "\n",
    "    return ans\n",
    "\n",
    "def merge2SortedList(a1, a2, a):\n",
    "    i = j = k = 0\n",
    "\n",
    "    while i < len(a1) and j < len(a2):\n",
    "        if a1[i] < a2[j]:\n",
    "            a[k] = a1[i]\n",
    "            i += 1\n",
    "            k += 1\n",
    "        else:\n",
    "            a[k] = a2[j]\n",
    "            j += 1\n",
    "            k += 1\n",
    "\n",
    "    # one among the two loop will get execute to fill the remaning elements into the array \n",
    "    while i < len(a1): \n",
    "        a[k] = a1[i]\n",
    "        k += 1\n",
    "        i += 1\n",
    "\n",
    "    while j < len(a2):\n",
    "        a[k] = a2[j]\n",
    "        k += 1\n",
    "        j += 1\n",
    "\n",
    "    return a\n"
   ]
  },
  {
   "cell_type": "code",
   "execution_count": 3,
   "metadata": {},
   "outputs": [],
   "source": [
    "arr = [i for i in range(10, -1, -1)]\n",
    "ans = mergeSort(arr)"
   ]
  },
  {
   "cell_type": "code",
   "execution_count": 4,
   "metadata": {},
   "outputs": [
    {
     "data": {
      "text/plain": [
       "[0, 1, 2, 3, 4, 5, 6, 7, 8, 9, 10]"
      ]
     },
     "execution_count": 4,
     "metadata": {},
     "output_type": "execute_result"
    }
   ],
   "source": [
    "arr"
   ]
  },
  {
   "cell_type": "markdown",
   "metadata": {},
   "source": [
    "<b>Time Complexity of Merge Sort: O(nlogn)"
   ]
  },
  {
   "cell_type": "markdown",
   "metadata": {},
   "source": [
    "1. Divide and conquer: Merge sort works by recursively dividing the unsorted list into halves until each sub-list contains a single element (these are considered \"sorted\"). This takes O(log n) time, as it involves repeated division by 2 until you reach individual elements.\n",
    "\n",
    "2. Merge step: Once the list is broken down into single elements, the algorithm starts merging them back together in pairs, comparing and sorting each pair. This merging step takes O(n) time because it needs to compare each element in both sub-lists.\n",
    "\n",
    "3. Recursion depth and comparison count: The number of merge steps is equal to the number of divisions, which is O(log n). Since each merge step takes O(n) time, the total time complexity becomes O(n log n). This is because the O(n) cost of merging is repeated O(log n) times."
   ]
  },
  {
   "cell_type": "markdown",
   "metadata": {},
   "source": [
    "1. Dividing the array into two halves: O(n) [array slice operation]\n",
    "2. Recursion call: O(n*logn) [dividing into two halves till individual elements]\n",
    "3. Merging two sorted array: O(n)\n",
    "\n",
    "Time Complexity => O(2n) + O(nlogn) => O(n) + O(nlogn) => O(nlogn)"
   ]
  },
  {
   "cell_type": "markdown",
   "metadata": {},
   "source": [
    "<b> Space Complexity of Merge Sort: O(n)"
   ]
  },
  {
   "cell_type": "markdown",
   "metadata": {},
   "source": [
    "Spliting the array into two : O(n)"
   ]
  },
  {
   "cell_type": "markdown",
   "metadata": {},
   "source": [
    "Note: Not all the sub-array are stored into the memory at same time"
   ]
  },
  {
   "cell_type": "markdown",
   "metadata": {},
   "source": [
    "<h1>Quick Sort"
   ]
  },
  {
   "cell_type": "code",
   "execution_count": null,
   "metadata": {},
   "outputs": [],
   "source": [
    "def quickSort(arr, si, ei):\n",
    "    if si >= ei:\n",
    "        return\n",
    "    \n",
    "    p = partition(arr, si, ei)\n",
    "\n",
    "    # call quicksort sort on two partitions\n",
    "    quickSort(arr, si, p-1)\n",
    "    quickSort(arr, p+1, ei)\n",
    "\n",
    "def partition(arr, si, ei):\n",
    "    # 1. place the pivot on the correct place \n",
    "    pivot = arr[si] \n",
    "    pivotIndex = si \n",
    "    \n",
    "    # total element less than the pivot\n",
    "    for i in range(si, ei+1):\n",
    "        if arr[i] < pivot:\n",
    "            pivotIndex += 1\n",
    "\n",
    "    arr[si], arr[pivotIndex] = arr[pivotIndex], arr[si]\n",
    "\n",
    "    # 2. creat the two partition of the array \n",
    "    # where left side is less than the pivot and right side is greater than the pivot\n",
    "    while si < pivotIndex and ei > pivotIndex:\n",
    "        while arr[si] < pivot:\n",
    "            si += 1\n",
    "\n",
    "        while arr[ei] > pivot:\n",
    "            ei -= 1\n",
    "\n",
    "        arr[si], arr[ei] = arr[ei], arr[si]\n",
    "        si += 1\n",
    "        ei -= 1\n",
    "\n",
    "    return pivotIndex\n",
    "    "
   ]
  },
  {
   "cell_type": "code",
   "execution_count": null,
   "metadata": {},
   "outputs": [],
   "source": [
    "quickSort(arr, 0, l-1)"
   ]
  },
  {
   "cell_type": "code",
   "execution_count": null,
   "metadata": {},
   "outputs": [
    {
     "data": {
      "text/plain": [
       "[1, 2, 4, 8, 19]"
      ]
     },
     "execution_count": 4,
     "metadata": {},
     "output_type": "execute_result"
    }
   ],
   "source": [
    "arr"
   ]
  },
  {
   "cell_type": "markdown",
   "metadata": {},
   "source": [
    "<b>Time Complexity of Quicksort: O(nlogn)"
   ]
  },
  {
   "cell_type": "markdown",
   "metadata": {},
   "source": [
    "1. Partition: O(n)\n",
    "<li> Find element less than pivoit: O(n)\n",
    "<li> To place element greater and less than pivot: O(n)"
   ]
  },
  {
   "cell_type": "markdown",
   "metadata": {},
   "source": [
    "2. Recursion Call: O(n*logn) [dividing into two halves 1.less than pivot 2.greater than pivot]"
   ]
  },
  {
   "cell_type": "markdown",
   "metadata": {},
   "source": [
    "<b>Space Complexity of Quick sort: O(logn) [maximum number of steps to split the array]"
   ]
  },
  {
   "cell_type": "markdown",
   "metadata": {},
   "source": [
    "The space complexity is associated with the stack space used for the recursive function calls in the algorithm."
   ]
  },
  {
   "cell_type": "markdown",
   "metadata": {},
   "source": [
    "Since QuickSort typically divides the array into smaller subarrays and processes them individually, the maximum number of simultaneous function calls on the stack is generally limited to O(log n) for a typical implementation.\n",
    "\n",
    "This is because, at each level of recursion, the array size is reduced by a constant factor (usually half) "
   ]
  },
  {
   "cell_type": "markdown",
   "metadata": {},
   "source": [
    "<B> Worst Time Complexity of quick sort: O(n^2)"
   ]
  },
  {
   "cell_type": "markdown",
   "metadata": {},
   "source": [
    "The worst-case scenario for QuickSort occurs when the algorithm consistently selects the pivot element in such a way that it leads to unbalanced partitions. This can happen, for example, if the pivot is always the smallest or largest element in the array, leading to unbalanced partitions in each recursive call. In such a case, QuickSort will make n-1 comparisons in each recursive call, and there will be n-1 recursive calls, resulting in a worst-case time complexity of O(n^2)."
   ]
  },
  {
   "cell_type": "markdown",
   "metadata": {},
   "source": [
    "<b>Solution</b> - Use random pivot at each iteration"
   ]
  }
 ],
 "metadata": {
  "kernelspec": {
   "display_name": "Python 3",
   "language": "python",
   "name": "python3"
  },
  "language_info": {
   "codemirror_mode": {
    "name": "ipython",
    "version": 3
   },
   "file_extension": ".py",
   "mimetype": "text/x-python",
   "name": "python",
   "nbconvert_exporter": "python",
   "pygments_lexer": "ipython3",
   "version": "3.10.12"
  },
  "orig_nbformat": 4,
  "vscode": {
   "interpreter": {
    "hash": "f1af8e9e7b81bd0acb2c0a8783f2dbe2b614545b4102e8f472ef55e374047c4b"
   }
  }
 },
 "nbformat": 4,
 "nbformat_minor": 2
}
