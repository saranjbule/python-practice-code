{
 "cells": [
  {
   "cell_type": "code",
   "execution_count": 4,
   "metadata": {},
   "outputs": [],
   "source": [
    "def towerOfHanoi(n, a, b, c):\n",
    "    if n == 1:\n",
    "        print(f'{n} {a} => {c}') # if only 1 disk put it straight to destination(c) from source(a)\n",
    "        return\n",
    "    \n",
    "    towerOfHanoi(n-1, a, c, b) # for rest of disk (n-1) disks move it from source(a) to helper(b) using destination(c)\n",
    "\n",
    "    print(f'{n} {a} => {c}') # for the n disk (largest disk) in source(a) move it to destination(c)\n",
    "\n",
    "    towerOfHanoi(n-1, b, a, c) # for the n-1 disks in helper(b) move it to c using a"
   ]
  },
  {
   "cell_type": "code",
   "execution_count": 7,
   "metadata": {},
   "outputs": [
    {
     "name": "stdout",
     "output_type": "stream",
     "text": [
      "1 s => d\n"
     ]
    }
   ],
   "source": [
    "towerOfHanoi(1, 's', 'h', 'd')"
   ]
  },
  {
   "cell_type": "code",
   "execution_count": 6,
   "metadata": {},
   "outputs": [
    {
     "name": "stdout",
     "output_type": "stream",
     "text": [
      "1 s => h\n",
      "2 s => d\n",
      "1 h => d\n"
     ]
    }
   ],
   "source": [
    "towerOfHanoi(2, 's', 'h', 'd')"
   ]
  },
  {
   "cell_type": "code",
   "execution_count": 8,
   "metadata": {},
   "outputs": [
    {
     "name": "stdout",
     "output_type": "stream",
     "text": [
      "1 s => d\n",
      "2 s => h\n",
      "1 d => h\n",
      "3 s => d\n",
      "1 h => s\n",
      "2 h => d\n",
      "1 s => d\n"
     ]
    }
   ],
   "source": [
    "towerOfHanoi(3, 's', 'h', 'd')\n"
   ]
  },
  {
   "cell_type": "code",
   "execution_count": 9,
   "metadata": {},
   "outputs": [
    {
     "name": "stdout",
     "output_type": "stream",
     "text": [
      "1 s => h\n",
      "2 s => d\n",
      "1 h => d\n",
      "3 s => h\n",
      "1 d => s\n",
      "2 d => h\n",
      "1 s => h\n",
      "4 s => d\n",
      "1 h => d\n",
      "2 h => s\n",
      "1 d => s\n",
      "3 h => d\n",
      "1 s => h\n",
      "2 s => d\n",
      "1 h => d\n"
     ]
    }
   ],
   "source": [
    "towerOfHanoi(4, 's', 'h', 'd')\n"
   ]
  },
  {
   "cell_type": "markdown",
   "metadata": {},
   "source": [
    "<b>Note</b>\n",
    "- Base case can be\n",
    "- n = 0 where we don't need to do anything just return\n",
    "- n = 1 where we just need to shift 1 disk from source to destination"
   ]
  }
 ],
 "metadata": {
  "kernelspec": {
   "display_name": "Python 3",
   "language": "python",
   "name": "python3"
  },
  "language_info": {
   "codemirror_mode": {
    "name": "ipython",
    "version": 3
   },
   "file_extension": ".py",
   "mimetype": "text/x-python",
   "name": "python",
   "nbconvert_exporter": "python",
   "pygments_lexer": "ipython3",
   "version": "3.10.12"
  }
 },
 "nbformat": 4,
 "nbformat_minor": 2
}
