{
 "cells": [
  {
   "cell_type": "markdown",
   "metadata": {},
   "source": [
    "The try block lets you test a block of code for errors.\n",
    "\n",
    "The except block lets you handle the error.\n",
    "\n",
    "The else block lets you execute code when there is no error.\n",
    "\n",
    "The finally block lets you execute code, regardless of the result of the try-except blocks.\n",
    "\n"
   ]
  },
  {
   "cell_type": "code",
   "execution_count": 1,
   "metadata": {},
   "outputs": [
    {
     "name": "stdout",
     "output_type": "stream",
     "text": [
      "0.5714285714285714\n",
      "Print when no error\n",
      "Print No matter what\n"
     ]
    }
   ],
   "source": [
    "# handling multiple exception\n",
    "try:\n",
    "    a = int(input('value of A = '))\n",
    "    b = int(input('value of B = '))\n",
    "    print(a/b)\n",
    "\n",
    "# handles value error exception \n",
    "except ValueError: \n",
    "    print('Enter integer value')\n",
    "\n",
    "# handles divide by zero error exception \n",
    "except ZeroDivisionError:\n",
    "   print('Zero Division error')\n",
    "\n",
    "# handles both the execptions \n",
    "except (ZeroDivisionError, ValueError):\n",
    "  print('Handling both error at a time')\n",
    "\n",
    "except:\n",
    "   print('handles all types of exceptions')\n",
    "\n",
    "else:\n",
    "   print('Print when no errors')\n",
    "\n",
    "finally:\n",
    "   print('Print no matter what')"
   ]
  },
  {
   "cell_type": "code",
   "execution_count": 1,
   "metadata": {},
   "outputs": [
    {
     "ename": "MyException",
     "evalue": "Denominator should not be zero",
     "output_type": "error",
     "traceback": [
      "\u001b[0;31m---------------------------------------------------------------------------\u001b[0m",
      "\u001b[0;31mMyException\u001b[0m                               Traceback (most recent call last)",
      "\u001b[1;32m/home/saranj/Mine/python-practice-code/Exception Handling.ipynb Cell 3\u001b[0m line \u001b[0;36m9\n\u001b[1;32m      <a href='vscode-notebook-cell:/home/saranj/Mine/python-practice-code/Exception%20Handling.ipynb#W2sZmlsZQ%3D%3D?line=5'>6</a>\u001b[0m b \u001b[39m=\u001b[39m \u001b[39mint\u001b[39m(\u001b[39minput\u001b[39m(\u001b[39m'\u001b[39m\u001b[39mvalue of B = \u001b[39m\u001b[39m'\u001b[39m))\n\u001b[1;32m      <a href='vscode-notebook-cell:/home/saranj/Mine/python-practice-code/Exception%20Handling.ipynb#W2sZmlsZQ%3D%3D?line=7'>8</a>\u001b[0m \u001b[39mif\u001b[39;00m b \u001b[39m==\u001b[39m \u001b[39m0\u001b[39m:\n\u001b[0;32m----> <a href='vscode-notebook-cell:/home/saranj/Mine/python-practice-code/Exception%20Handling.ipynb#W2sZmlsZQ%3D%3D?line=8'>9</a>\u001b[0m     \u001b[39mraise\u001b[39;00m MyException(\u001b[39m'\u001b[39m\u001b[39mDenominator should not be zero\u001b[39m\u001b[39m'\u001b[39m)\n\u001b[1;32m     <a href='vscode-notebook-cell:/home/saranj/Mine/python-practice-code/Exception%20Handling.ipynb#W2sZmlsZQ%3D%3D?line=9'>10</a>\u001b[0m \u001b[39melse\u001b[39;00m:\n\u001b[1;32m     <a href='vscode-notebook-cell:/home/saranj/Mine/python-practice-code/Exception%20Handling.ipynb#W2sZmlsZQ%3D%3D?line=10'>11</a>\u001b[0m     \u001b[39mprint\u001b[39m(a\u001b[39m/\u001b[39mb)\n",
      "\u001b[0;31mMyException\u001b[0m: Denominator should not be zero"
     ]
    }
   ],
   "source": [
    "class MyException(Exception):\n",
    "    pass # by default take message \n",
    "\n",
    "try:\n",
    "    a = int(input('value of A = '))\n",
    "    b = int(input('value of B = '))\n",
    "    \n",
    "    if b == 0:\n",
    "        raise MyException('Denominator should not be zero')\n",
    "    else:\n",
    "        print(a/b)\n",
    "except NameError:  \n",
    "    print('Something is fishy')\n",
    "\n",
    "# except MyException:\n",
    "#     print('My Exception is raised')"
   ]
  }
 ],
 "metadata": {
  "kernelspec": {
   "display_name": "Python 3",
   "language": "python",
   "name": "python3"
  },
  "language_info": {
   "codemirror_mode": {
    "name": "ipython",
    "version": 3
   },
   "file_extension": ".py",
   "mimetype": "text/x-python",
   "name": "python",
   "nbconvert_exporter": "python",
   "pygments_lexer": "ipython3",
   "version": "3.10.12"
  },
  "orig_nbformat": 4,
  "vscode": {
   "interpreter": {
    "hash": "cc2a200e1e6dab10c4dc3986f0e7a998296447c993c26561a1bd050a849d8214"
   }
  }
 },
 "nbformat": 4,
 "nbformat_minor": 2
}
