{
 "cells": [
  {
   "cell_type": "code",
   "execution_count": 69,
   "metadata": {},
   "outputs": [],
   "source": [
    "x = [1, 1, 2, 2, 3, 4, 4, 5, 5]"
   ]
  },
  {
   "cell_type": "code",
   "execution_count": 70,
   "metadata": {},
   "outputs": [],
   "source": [
    "l = len(x)"
   ]
  },
  {
   "cell_type": "code",
   "execution_count": 71,
   "metadata": {},
   "outputs": [
    {
     "name": "stdout",
     "output_type": "stream",
     "text": [
      "3\n"
     ]
    }
   ],
   "source": [
    "if l == 1:\n",
    "    print(x[0])\n",
    "else:\n",
    "    for i in range(l):\n",
    "        if i == 0:\n",
    "            if x[i] != x[i+1]:\n",
    "                print(x[i])\n",
    "                break\n",
    "        elif i == l-1:\n",
    "            if x[i] != x[i-1]:\n",
    "                print(x[i])\n",
    "                break\n",
    "        elif x[i-1] != x[i] and x[i] != x[i+1]:\n",
    "            print(x[i])\n",
    "            break"
   ]
  },
  {
   "cell_type": "code",
   "execution_count": 72,
   "metadata": {},
   "outputs": [],
   "source": [
    "s, c, n = 0, 1, 2\n"
   ]
  },
  {
   "cell_type": "code",
   "execution_count": 73,
   "metadata": {},
   "outputs": [
    {
     "name": "stdout",
     "output_type": "stream",
     "text": [
      "3\n"
     ]
    }
   ],
   "source": [
    "while n < l:\n",
    "    if s == 0:\n",
    "        if x[c] != x[s]:\n",
    "            print(x[s])\n",
    "            break\n",
    "\n",
    "    if n == l-1:\n",
    "        if x[c] != x[n]:\n",
    "            print(x[n]) \n",
    "            break\n",
    "\n",
    "    if x[s] != x[c] and x[c] != x[n]:\n",
    "        print(x[c])\n",
    "        break\n",
    "\n",
    "    s += 1\n",
    "    c += 1\n",
    "    n += 1"
   ]
  }
 ],
 "metadata": {
  "kernelspec": {
   "display_name": "Python 3",
   "language": "python",
   "name": "python3"
  },
  "language_info": {
   "codemirror_mode": {
    "name": "ipython",
    "version": 3
   },
   "file_extension": ".py",
   "mimetype": "text/x-python",
   "name": "python",
   "nbconvert_exporter": "python",
   "pygments_lexer": "ipython3",
   "version": "3.10.12"
  }
 },
 "nbformat": 4,
 "nbformat_minor": 2
}
