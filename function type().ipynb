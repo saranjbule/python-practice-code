{
  "cells": [
    {
      "cell_type": "code",
      "execution_count": 1,
      "metadata": {},
      "outputs": [
        {
          "name": "stdout",
          "output_type": "stream",
          "text": [
            "<class 'str'>\n"
          ]
        }
      ],
      "source": [
        "ip = input()\n",
        "print(type(ip)) # by default return string"
      ]
    },
    {
      "cell_type": "code",
      "execution_count": 2,
      "metadata": {
        "trusted": true
      },
      "outputs": [],
      "source": [
        "a = 1 # int\n",
        "b = 1.1 # float\n",
        "c = 'saranj' # str\n",
        "e = 1 + 2j # complex\n",
        "f = 2e-12 # float"
      ]
    },
    {
      "cell_type": "code",
      "execution_count": 3,
      "metadata": {
        "trusted": true
      },
      "outputs": [
        {
          "name": "stdout",
          "output_type": "stream",
          "text": [
            "<class 'int'> <class 'float'> <class 'str'> <class 'complex'> <class 'float'>\n"
          ]
        }
      ],
      "source": [
        "print(type(a), type(b), type(c), type(e), type(f))"
      ]
    },
    {
      "cell_type": "code",
      "execution_count": 2,
      "metadata": {
        "trusted": true
      },
      "outputs": [],
      "source": [
        "class C:\n",
        "    pass"
      ]
    },
    {
      "cell_type": "code",
      "execution_count": 3,
      "metadata": {},
      "outputs": [],
      "source": [
        "cObj = C()"
      ]
    },
    {
      "cell_type": "code",
      "execution_count": 4,
      "metadata": {},
      "outputs": [
        {
          "name": "stdout",
          "output_type": "stream",
          "text": [
            "<class '__main__.C'> <class 'type'>\n"
          ]
        }
      ],
      "source": [
        "print(type(cObj), type(type(cObj)))"
      ]
    },
    {
      "cell_type": "code",
      "execution_count": 7,
      "metadata": {
        "trusted": true
      },
      "outputs": [
        {
          "name": "stdout",
          "output_type": "stream",
          "text": [
            "<class 'type'>\n"
          ]
        }
      ],
      "source": [
        "print(type(C)) # <class 'type'> type is a meta class\n",
        "# It is the metaclass of all user-defined/ build-in classes in Python. \n",
        "# Every class in Python is an instance of the type class."
      ]
    },
    {
      "cell_type": "code",
      "execution_count": 2,
      "metadata": {},
      "outputs": [
        {
          "name": "stdout",
          "output_type": "stream",
          "text": [
            "<class 'int'> <class 'type'> <class 'type'>\n",
            "<class 'float'> <class 'type'> <class 'type'>\n",
            "<class 'complex'> <class 'type'> <class 'type'>\n",
            "<class 'str'> <class 'type'> <class 'type'>\n",
            "<class 'list'> <class 'type'> <class 'type'>\n",
            "<class 'tuple'> <class 'type'> <class 'type'>\n",
            "<class 'set'> <class 'type'> <class 'type'>\n",
            "<class 'frozenset'> <class 'type'> <class 'type'>\n",
            "<class 'dict'> <class 'type'> <class 'type'>\n",
            "<class 'range'> <class 'type'> <class 'type'>\n",
            "<class 'type'> <class 'type'> <class 'type'>\n",
            "None <class 'NoneType'> <class 'type'>\n"
          ]
        },
        {
          "data": {
            "text/plain": [
              "[None, None, None, None, None, None, None, None, None, None, None, None]"
            ]
          },
          "execution_count": 2,
          "metadata": {},
          "output_type": "execute_result"
        }
      ],
      "source": [
        "[print(i, type(i), type(type(i))) for i in (int, float, complex, str, list, tuple, set, frozenset, dict, range, type, None)] \n",
        "# type is meta class for all. Even for type itself."
      ]
    },
    {
      "cell_type": "code",
      "execution_count": 9,
      "metadata": {
        "trusted": true
      },
      "outputs": [
        {
          "name": "stdout",
          "output_type": "stream",
          "text": [
            "<class 'function'> <class 'type'>\n"
          ]
        }
      ],
      "source": [
        "def A():\n",
        "    pass\n",
        "print(type(A), type(type(A)))"
      ]
    },
    {
      "cell_type": "code",
      "execution_count": 10,
      "metadata": {},
      "outputs": [
        {
          "name": "stdout",
          "output_type": "stream",
          "text": [
            "<class 'function'> <class 'type'>\n"
          ]
        }
      ],
      "source": [
        "lf = lambda x: x+1\n",
        "print(type(lf), type(type(lf)))"
      ]
    },
    {
      "cell_type": "code",
      "execution_count": 11,
      "metadata": {
        "trusted": true
      },
      "outputs": [],
      "source": [
        "g = []\n",
        "h = {}\n",
        "i = ()"
      ]
    },
    {
      "cell_type": "code",
      "execution_count": 12,
      "metadata": {
        "trusted": true
      },
      "outputs": [
        {
          "name": "stdout",
          "output_type": "stream",
          "text": [
            "<class 'list'> <class 'dict'> <class 'tuple'>\n"
          ]
        }
      ],
      "source": [
        "print(type(g), type(h), type(i))"
      ]
    },
    {
      "cell_type": "code",
      "execution_count": 13,
      "metadata": {
        "trusted": true
      },
      "outputs": [
        {
          "name": "stdout",
          "output_type": "stream",
          "text": [
            "<class 'set'>\n"
          ]
        }
      ],
      "source": [
        "j = {1}\n",
        "print(type(j))"
      ]
    },
    {
      "cell_type": "code",
      "execution_count": 14,
      "metadata": {
        "trusted": true
      },
      "outputs": [
        {
          "name": "stdout",
          "output_type": "stream",
          "text": [
            "<class 'list'>\n"
          ]
        }
      ],
      "source": [
        "m = ['s']\n",
        "print(type(m))"
      ]
    },
    {
      "cell_type": "code",
      "execution_count": 15,
      "metadata": {
        "trusted": true
      },
      "outputs": [
        {
          "name": "stdout",
          "output_type": "stream",
          "text": [
            "<class 'str'>\n"
          ]
        }
      ],
      "source": [
        "k = ('1')\n",
        "print(type(k))"
      ]
    },
    {
      "cell_type": "code",
      "execution_count": 16,
      "metadata": {
        "trusted": true
      },
      "outputs": [
        {
          "name": "stdout",
          "output_type": "stream",
          "text": [
            "<class 'int'>\n"
          ]
        }
      ],
      "source": [
        "n = (1)\n",
        "print(type(n))"
      ]
    },
    {
      "cell_type": "code",
      "execution_count": 17,
      "metadata": {
        "trusted": true
      },
      "outputs": [
        {
          "name": "stdout",
          "output_type": "stream",
          "text": [
            "<class 'tuple'> <class 'tuple'>\n"
          ]
        }
      ],
      "source": [
        "l = ('1',) # tuple are differentiated with `,` and not with `()`\n",
        "o = (1, )\n",
        "print(type(l), type(o))"
      ]
    },
    {
      "cell_type": "code",
      "execution_count": 18,
      "metadata": {},
      "outputs": [
        {
          "name": "stdout",
          "output_type": "stream",
          "text": [
            "(12, 'saranj', True) <class 'tuple'>\n"
          ]
        }
      ],
      "source": [
        "q = 12, 'saranj', True\n",
        "print(q, type(q))"
      ]
    },
    {
      "cell_type": "code",
      "execution_count": 19,
      "metadata": {},
      "outputs": [
        {
          "name": "stdout",
          "output_type": "stream",
          "text": [
            "range(0, 2) <class 'range'>\n"
          ]
        }
      ],
      "source": [
        "r = range(2)\n",
        "print(r, type(r))"
      ]
    },
    {
      "cell_type": "code",
      "execution_count": 20,
      "metadata": {},
      "outputs": [
        {
          "name": "stdout",
          "output_type": "stream",
          "text": [
            "<class 'frozenset'> frozenset({2, 'a'})\n"
          ]
        }
      ],
      "source": [
        "u = frozenset(('a', 2))\n",
        "print(type(u), u)"
      ]
    }
  ],
  "metadata": {
    "kernelspec": {
      "display_name": "Python 3",
      "language": "python",
      "name": "python3"
    },
    "language_info": {
      "codemirror_mode": {
        "name": "ipython",
        "version": 3
      },
      "file_extension": ".py",
      "mimetype": "text/x-python",
      "name": "python",
      "nbconvert_exporter": "python",
      "pygments_lexer": "ipython3",
      "version": "3.10.12"
    },
    "vscode": {
      "interpreter": {
        "hash": "f1af8e9e7b81bd0acb2c0a8783f2dbe2b614545b4102e8f472ef55e374047c4b"
      }
    }
  },
  "nbformat": 4,
  "nbformat_minor": 4
}
