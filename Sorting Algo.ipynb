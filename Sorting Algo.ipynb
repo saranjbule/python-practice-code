{
 "cells": [
  {
   "attachments": {},
   "cell_type": "markdown",
   "metadata": {},
   "source": [
    "<h1>Bubble Sort</h1>"
   ]
  },
  {
   "cell_type": "code",
   "execution_count": 2,
   "metadata": {},
   "outputs": [],
   "source": [
    "arr = [4, 8, 2, 19, 1]\n",
    "l = len(arr)"
   ]
  },
  {
   "cell_type": "code",
   "execution_count": 3,
   "metadata": {},
   "outputs": [],
   "source": [
    "for i in range(l): # maximum steps requried for bubble sort is n = no. of elements\n",
    "    for j in range(l - i -1):\n",
    "        if arr[j] > arr[j+1]:\n",
    "            arr[j], arr[j+1] = arr[j+1], arr[j] \n"
   ]
  },
  {
   "cell_type": "code",
   "execution_count": 4,
   "metadata": {},
   "outputs": [],
   "source": [
    "for i in range(l-1):\n",
    "    for j in range(i+1, l):\n",
    "        if arr[i] > arr[j]:\n",
    "            arr[i], arr[j] = arr[j], arr[i]"
   ]
  },
  {
   "attachments": {},
   "cell_type": "markdown",
   "metadata": {},
   "source": [
    "<h1>Insertion Sort</h1>"
   ]
  },
  {
   "cell_type": "code",
   "execution_count": 5,
   "metadata": {},
   "outputs": [],
   "source": [
    "\n",
    "for i in range(l):\n",
    "    k = arr[i]\n",
    "    j = i - 1\n",
    "\n",
    "    while j >= 0 and k < arr[j]:\n",
    "        arr[j+1] = arr[j]\n",
    "        j -= 1\n",
    "\n",
    "    else:\n",
    "        arr[j+1] = k\n"
   ]
  },
  {
   "cell_type": "code",
   "execution_count": 6,
   "metadata": {},
   "outputs": [
    {
     "name": "stdout",
     "output_type": "stream",
     "text": [
      "[1, 2, 4, 8, 19]\n"
     ]
    }
   ],
   "source": [
    "print(arr)"
   ]
  }
 ],
 "metadata": {
  "kernelspec": {
   "display_name": "Python 3",
   "language": "python",
   "name": "python3"
  },
  "language_info": {
   "codemirror_mode": {
    "name": "ipython",
    "version": 3
   },
   "file_extension": ".py",
   "mimetype": "text/x-python",
   "name": "python",
   "nbconvert_exporter": "python",
   "pygments_lexer": "ipython3",
   "version": "3.10.12"
  },
  "orig_nbformat": 4,
  "vscode": {
   "interpreter": {
    "hash": "f1af8e9e7b81bd0acb2c0a8783f2dbe2b614545b4102e8f472ef55e374047c4b"
   }
  }
 },
 "nbformat": 4,
 "nbformat_minor": 2
}
