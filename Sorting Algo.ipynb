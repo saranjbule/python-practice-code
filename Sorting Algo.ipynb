{
 "cells": [
  {
   "cell_type": "code",
   "execution_count": 23,
   "metadata": {},
   "outputs": [],
   "source": [
    "arr = [4, 8, 2, 19, 1]\n",
    "l = len(arr)"
   ]
  },
  {
   "attachments": {},
   "cell_type": "markdown",
   "metadata": {},
   "source": [
    "<h1>Bubble Sort</h1>"
   ]
  },
  {
   "cell_type": "code",
   "execution_count": 2,
   "metadata": {},
   "outputs": [],
   "source": [
    "for i in range(l-1): # maximum steps requried for bubble sort is n-1 = [no. of elements] - 1 \n",
    "    for j in range(l-1-i): # l-1 as j+1 will go out of index in case of l and -i as last element contains the sorted list i.e. largest element\n",
    "        if arr[j] > arr[j+1]:\n",
    "            arr[j], arr[j+1] = arr[j+1], arr[j]"
   ]
  },
  {
   "cell_type": "code",
   "execution_count": 3,
   "metadata": {},
   "outputs": [
    {
     "data": {
      "text/plain": [
       "[1, 2, 4, 8, 19]"
      ]
     },
     "execution_count": 3,
     "metadata": {},
     "output_type": "execute_result"
    }
   ],
   "source": [
    "arr"
   ]
  },
  {
   "cell_type": "markdown",
   "metadata": {},
   "source": [
    "Total iteration required for an array of n elements to get a sorted array is n-1 "
   ]
  },
  {
   "cell_type": "code",
   "execution_count": 4,
   "metadata": {},
   "outputs": [],
   "source": [
    "for i in range(l-1):\n",
    "    didSort = False # if array is already sorted then break the loop as no changes need to be done\n",
    "    for j in range(l-1-i):\n",
    "        if arr[j] > arr[j+1]:\n",
    "            didSort = True\n",
    "            arr[j], arr[j+1] = arr[j+1], arr[j]\n",
    "        \n",
    "    if not didSort:\n",
    "        break"
   ]
  },
  {
   "cell_type": "code",
   "execution_count": 5,
   "metadata": {},
   "outputs": [
    {
     "data": {
      "text/plain": [
       "[1, 2, 4, 8, 19]"
      ]
     },
     "execution_count": 5,
     "metadata": {},
     "output_type": "execute_result"
    }
   ],
   "source": [
    "arr"
   ]
  },
  {
   "cell_type": "markdown",
   "metadata": {},
   "source": [
    "Compares adjacent elements and swaps them if they are in the wrong order.\t"
   ]
  },
  {
   "attachments": {},
   "cell_type": "markdown",
   "metadata": {},
   "source": [
    "<h1>Insertion Sort</h1>"
   ]
  },
  {
   "cell_type": "code",
   "execution_count": 24,
   "metadata": {},
   "outputs": [],
   "source": [
    "for i in range(1, l):\n",
    "    j = i-1\n",
    "\n",
    "    while j >= 0 and arr[j] > arr[i]:\n",
    "        arr[i], arr[j] = arr[j], arr[i]\n",
    "\n",
    "        j-=1\n",
    "        i-=1\n"
   ]
  },
  {
   "cell_type": "code",
   "execution_count": 25,
   "metadata": {},
   "outputs": [
    {
     "data": {
      "text/plain": [
       "[1, 2, 4, 8, 19]"
      ]
     },
     "execution_count": 25,
     "metadata": {},
     "output_type": "execute_result"
    }
   ],
   "source": [
    "arr"
   ]
  },
  {
   "cell_type": "markdown",
   "metadata": {},
   "source": [
    "Best time complexity is n as while loop does'nt get execute in case of already sorted elements"
   ]
  },
  {
   "cell_type": "markdown",
   "metadata": {},
   "source": [
    "<h1>Selection Sort"
   ]
  },
  {
   "cell_type": "code",
   "execution_count": 8,
   "metadata": {},
   "outputs": [],
   "source": [
    "for i in range(l-1): # maximum steps requried for selection sort is n-1 = [no. of elements] - 1 \n",
    "    mini = i\n",
    "    for j in range(i+1, l): # i+1 because i element contains the sorted list i.e. the smallest element\n",
    "        if arr[j] < arr[mini]:\n",
    "            mini = j\n",
    "\n",
    "    if arr[i] != arr[mini]:\n",
    "        arr[i], arr[mini] = arr[mini], arr[i]\n"
   ]
  },
  {
   "cell_type": "code",
   "execution_count": 9,
   "metadata": {},
   "outputs": [
    {
     "data": {
      "text/plain": [
       "[1, 2, 4, 8, 19]"
      ]
     },
     "execution_count": 9,
     "metadata": {},
     "output_type": "execute_result"
    }
   ],
   "source": [
    "arr"
   ]
  },
  {
   "cell_type": "markdown",
   "metadata": {},
   "source": [
    "Best Time Complexity is n2 because selection sort will search for minimum element in the remaning array."
   ]
  },
  {
   "cell_type": "markdown",
   "metadata": {},
   "source": [
    "Selection sort divides the array in two halves 1. Unsorted array 2. Sorted array"
   ]
  },
  {
   "cell_type": "markdown",
   "metadata": {},
   "source": [
    "Initially whole array is unsorted"
   ]
  },
  {
   "cell_type": "markdown",
   "metadata": {},
   "source": [
    "Finds the smallest element in the unsorted portion of the list and swaps it with the first element in the unsorted portion.\n"
   ]
  },
  {
   "cell_type": "markdown",
   "metadata": {},
   "source": [
    "<h1>Merge Sort"
   ]
  },
  {
   "cell_type": "code",
   "execution_count": 1,
   "metadata": {},
   "outputs": [],
   "source": [
    "def mergeSort(a):\n",
    "    if len(a) == 1:\n",
    "        return\n",
    "    \n",
    "    mid = len(a)//2\n",
    "\n",
    "    a1 = a[:mid]\n",
    "    a2 = a[mid:]\n",
    "\n",
    "    mergeSort(a1)\n",
    "    mergeSort(a2)\n",
    "\n",
    "    merge2SortedList(a1, a2, a)\n",
    "\n",
    "def merge2SortedList(a1, a2, a):\n",
    "    i = j = k = 0\n",
    "\n",
    "    while i < len(a1) and j < len(a2):\n",
    "        if a1[i] < a2[j]:\n",
    "            a[k] = a1[i]\n",
    "            i += 1\n",
    "            k += 1\n",
    "        else:\n",
    "            a[k] = a2[j]\n",
    "            j += 1\n",
    "            k += 1\n",
    "\n",
    "    # one among the two loop will get execute to fill the remaning elements into the array \n",
    "\n",
    "    while i < len(a1): \n",
    "        a[k] = a1[i]\n",
    "        k += 1\n",
    "        i += 1\n",
    "\n",
    "    while j < len(a2):\n",
    "        a[k] = a2[j]\n",
    "        k += 1\n",
    "        j += 1\n"
   ]
  },
  {
   "cell_type": "code",
   "execution_count": 44,
   "metadata": {},
   "outputs": [],
   "source": [
    "mergeSort(arr)"
   ]
  },
  {
   "cell_type": "code",
   "execution_count": 45,
   "metadata": {},
   "outputs": [
    {
     "data": {
      "text/plain": [
       "[1, 2, 4, 8, 19]"
      ]
     },
     "execution_count": 45,
     "metadata": {},
     "output_type": "execute_result"
    }
   ],
   "source": [
    "arr"
   ]
  },
  {
   "cell_type": "markdown",
   "metadata": {},
   "source": [
    "<h1>Quick Sort"
   ]
  },
  {
   "cell_type": "code",
   "execution_count": 5,
   "metadata": {},
   "outputs": [],
   "source": [
    "def quickSort(arr, si, ei):\n",
    "    if si >= ei:\n",
    "        return\n",
    "    \n",
    "    p = partition(arr, si, ei)\n",
    "\n",
    "    quickSort(arr, si, p-1)\n",
    "    quickSort(arr, p+1, ei)\n",
    "\n",
    "def partition(arr, si, ei):\n",
    "    pivot = arr[si] \n",
    "    pivotIndex = si \n",
    "    \n",
    "    # total element less than the pivot\n",
    "    for i in range(si, ei+1):\n",
    "        if arr[i] < pivot:\n",
    "            pivotIndex += 1\n",
    "\n",
    "    arr[si], arr[pivotIndex] = arr[pivotIndex], arr[si]\n",
    "\n",
    "    pivot = arr[pivotIndex]\n",
    "\n",
    "    while si < pivotIndex and ei > pivotIndex:\n",
    "        while arr[si] < pivot:\n",
    "            si += 1\n",
    "\n",
    "        while arr[ei] > pivot:\n",
    "            ei -= 1\n",
    "\n",
    "        arr[si], arr[ei] = arr[ei], arr[si]\n",
    "        si += 1\n",
    "        ei -= 1\n",
    "\n",
    "    return pivotIndex\n",
    "    "
   ]
  },
  {
   "cell_type": "code",
   "execution_count": 6,
   "metadata": {},
   "outputs": [],
   "source": [
    "a = [1, 5, 2, 7, 3]"
   ]
  },
  {
   "cell_type": "code",
   "execution_count": 7,
   "metadata": {},
   "outputs": [],
   "source": [
    "quickSort(a, 0, len(a)-1)"
   ]
  },
  {
   "cell_type": "code",
   "execution_count": 8,
   "metadata": {},
   "outputs": [
    {
     "data": {
      "text/plain": [
       "[1, 2, 3, 5, 7]"
      ]
     },
     "execution_count": 8,
     "metadata": {},
     "output_type": "execute_result"
    }
   ],
   "source": [
    "a"
   ]
  }
 ],
 "metadata": {
  "kernelspec": {
   "display_name": "Python 3",
   "language": "python",
   "name": "python3"
  },
  "language_info": {
   "codemirror_mode": {
    "name": "ipython",
    "version": 3
   },
   "file_extension": ".py",
   "mimetype": "text/x-python",
   "name": "python",
   "nbconvert_exporter": "python",
   "pygments_lexer": "ipython3",
   "version": "3.10.12"
  },
  "orig_nbformat": 4,
  "vscode": {
   "interpreter": {
    "hash": "f1af8e9e7b81bd0acb2c0a8783f2dbe2b614545b4102e8f472ef55e374047c4b"
   }
  }
 },
 "nbformat": 4,
 "nbformat_minor": 2
}
