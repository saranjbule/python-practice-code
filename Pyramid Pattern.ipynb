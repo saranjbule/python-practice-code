{
  "metadata": {
    "language_info": {
      "codemirror_mode": {
        "name": "python",
        "version": 3
      },
      "file_extension": ".py",
      "mimetype": "text/x-python",
      "name": "python",
      "nbconvert_exporter": "python",
      "pygments_lexer": "ipython3",
      "version": "3.8"
    },
    "kernelspec": {
      "name": "python",
      "display_name": "Python (Pyodide)",
      "language": "python"
    }
  },
  "nbformat_minor": 4,
  "nbformat": 4,
  "cells": [
    {
      "cell_type": "code",
      "source": "#Hollow Pyramid",
      "metadata": {
        "trusted": true
      },
      "execution_count": null,
      "outputs": []
    },
    {
      "cell_type": "code",
      "source": "ip = 10\nlevel = 2*ip - 1\n\nspace = ip - 1\nstar = 1\n\nfor i in range(ip):\n    for j in range(space):\n        print('  ', end='  ')\n    if star == 1 or star == level:\n        for k in range(star):\n            print('* ', end='  ')\n    else:\n        remain = star - 2\n        print('* ', end='  ')\n        for k in range(remain):\n            print('  ', end='  ')\n        print('* ', end='  ')\n    space -= 1\n    star += 2\n    print()",
      "metadata": {
        "trusted": true
      },
      "execution_count": null,
      "outputs": []
    },
    {
      "cell_type": "code",
      "source": "#Diamond",
      "metadata": {
        "trusted": true
      },
      "execution_count": null,
      "outputs": []
    },
    {
      "cell_type": "code",
      "source": "ip = 10\nlevel = 2*ip - 1\n\nspace = ip - 1\nstar = 1\n\nfor i in range(ip):\n    for j in range(space):\n        print('  ', end='  ')\n    for k in range(star):\n        print('* ', end='  ')\n    \n    space -= 1\n    star += 2\n    print()\n\nspace = 1\nstar = level - 2\nfor i in range(ip):\n    for j in range(space):\n        print('  ', end='  ')\n    for k in range(star):\n        print('* ', end='  ')\n    \n    space += 1\n    star -= 2\n    print()",
      "metadata": {
        "trusted": true
      },
      "execution_count": null,
      "outputs": []
    }
  ]
}