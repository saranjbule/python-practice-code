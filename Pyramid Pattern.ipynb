{
  "cells": [
    {
      "cell_type": "code",
      "execution_count": null,
      "metadata": {
        "trusted": true
      },
      "outputs": [],
      "source": [
        "#Hollow Pyramid"
      ]
    },
    {
      "cell_type": "code",
      "execution_count": 1,
      "metadata": {
        "trusted": true
      },
      "outputs": [
        {
          "name": "stdout",
          "output_type": "stream",
          "text": [
            "                                    *   \n",
            "                                *       *   \n",
            "                            *               *   \n",
            "                        *                       *   \n",
            "                    *                               *   \n",
            "                *                                       *   \n",
            "            *                                               *   \n",
            "        *                                                       *   \n",
            "    *                                                               *   \n",
            "*   *   *   *   *   *   *   *   *   *   *   *   *   *   *   *   *   *   *   \n"
          ]
        }
      ],
      "source": [
        "ip = 10\n",
        "level = 2*ip - 1\n",
        "\n",
        "space = ip - 1\n",
        "star = 1\n",
        "\n",
        "for i in range(ip):\n",
        "    for j in range(space):\n",
        "        print('  ', end='  ')\n",
        "    if star == 1 or star == level:\n",
        "        for k in range(star):\n",
        "            print('* ', end='  ')\n",
        "    else:\n",
        "        remain = star - 2\n",
        "        print('* ', end='  ')\n",
        "        for k in range(remain):\n",
        "            print('  ', end='  ')\n",
        "        print('* ', end='  ')\n",
        "    space -= 1\n",
        "    star += 2\n",
        "    print()"
      ]
    },
    {
      "cell_type": "code",
      "execution_count": null,
      "metadata": {
        "trusted": true
      },
      "outputs": [],
      "source": [
        "#Diamond"
      ]
    },
    {
      "cell_type": "code",
      "execution_count": 2,
      "metadata": {
        "trusted": true
      },
      "outputs": [
        {
          "name": "stdout",
          "output_type": "stream",
          "text": [
            "                                    *   \n",
            "                                *   *   *   \n",
            "                            *   *   *   *   *   \n",
            "                        *   *   *   *   *   *   *   \n",
            "                    *   *   *   *   *   *   *   *   *   \n",
            "                *   *   *   *   *   *   *   *   *   *   *   \n",
            "            *   *   *   *   *   *   *   *   *   *   *   *   *   \n",
            "        *   *   *   *   *   *   *   *   *   *   *   *   *   *   *   \n",
            "    *   *   *   *   *   *   *   *   *   *   *   *   *   *   *   *   *   \n",
            "*   *   *   *   *   *   *   *   *   *   *   *   *   *   *   *   *   *   *   \n",
            "    *   *   *   *   *   *   *   *   *   *   *   *   *   *   *   *   *   \n",
            "        *   *   *   *   *   *   *   *   *   *   *   *   *   *   *   \n",
            "            *   *   *   *   *   *   *   *   *   *   *   *   *   \n",
            "                *   *   *   *   *   *   *   *   *   *   *   \n",
            "                    *   *   *   *   *   *   *   *   *   \n",
            "                        *   *   *   *   *   *   *   \n",
            "                            *   *   *   *   *   \n",
            "                                *   *   *   \n",
            "                                    *   \n",
            "                                        \n"
          ]
        }
      ],
      "source": [
        "ip = 10\n",
        "level = 2*ip - 1\n",
        "\n",
        "space = ip - 1\n",
        "star = 1\n",
        "\n",
        "for i in range(ip):\n",
        "    for j in range(space):\n",
        "        print('  ', end='  ')\n",
        "    for k in range(star):\n",
        "        print('* ', end='  ')\n",
        "    \n",
        "    space -= 1\n",
        "    star += 2\n",
        "    print()\n",
        "\n",
        "space = 1\n",
        "star = level - 2\n",
        "for i in range(ip):\n",
        "    for j in range(space):\n",
        "        print('  ', end='  ')\n",
        "    for k in range(star):\n",
        "        print('* ', end='  ')\n",
        "    \n",
        "    space += 1\n",
        "    star -= 2\n",
        "    print()"
      ]
    }
  ],
  "metadata": {
    "kernelspec": {
      "display_name": "Python 3",
      "language": "python",
      "name": "python3"
    },
    "language_info": {
      "codemirror_mode": {
        "name": "ipython",
        "version": 3
      },
      "file_extension": ".py",
      "mimetype": "text/x-python",
      "name": "python",
      "nbconvert_exporter": "python",
      "pygments_lexer": "ipython3",
      "version": "3.10.9 (tags/v3.10.9:1dd9be6, Dec  6 2022, 20:01:21) [MSC v.1934 64 bit (AMD64)]"
    },
    "vscode": {
      "interpreter": {
        "hash": "f1af8e9e7b81bd0acb2c0a8783f2dbe2b614545b4102e8f472ef55e374047c4b"
      }
    }
  },
  "nbformat": 4,
  "nbformat_minor": 4
}
