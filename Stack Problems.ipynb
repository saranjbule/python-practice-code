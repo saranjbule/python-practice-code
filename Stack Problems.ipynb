{
 "cells": [
  {
   "cell_type": "markdown",
   "metadata": {},
   "source": [
    "Balanced String"
   ]
  },
  {
   "cell_type": "code",
   "execution_count": 83,
   "metadata": {},
   "outputs": [],
   "source": [
    "def checkBalancedString(e):\n",
    "    bracket_mapping = {\n",
    "        '}': '{',\n",
    "        ']': '[',\n",
    "        ')': '(',\n",
    "    }\n",
    "    brackets = set(bracket_mapping.keys()) | set(bracket_mapping.values())\n",
    "\n",
    "    stack = []\n",
    "\n",
    "    for i in e:\n",
    "        if i not in bracket_mapping:\n",
    "            if i in brackets:\n",
    "                stack.append(i)\n",
    "        else:\n",
    "            if stack == []:\n",
    "                return False\n",
    "            else:\n",
    "                lastEle = stack.pop()\n",
    "                if lastEle != bracket_mapping[i]:\n",
    "                    return False\n",
    "    \n",
    "    if stack:\n",
    "        return False\n",
    "\n",
    "    return True"
   ]
  },
  {
   "cell_type": "code",
   "execution_count": 96,
   "metadata": {},
   "outputs": [
    {
     "data": {
      "text/plain": [
       "True"
      ]
     },
     "execution_count": 96,
     "metadata": {},
     "output_type": "execute_result"
    }
   ],
   "source": [
    "checkBalancedString('{{{()}[]}}')"
   ]
  },
  {
   "cell_type": "code",
   "execution_count": 121,
   "metadata": {},
   "outputs": [],
   "source": [
    "def isBalanceStr(exp):\n",
    "    def checkStackEmptyAndLastElement(exp):\n",
    "        if stack == []:\n",
    "            return False\n",
    "                \n",
    "        lastEle = stack.pop()\n",
    "\n",
    "        if lastEle != exp:\n",
    "            return False\n",
    "    \n",
    "        return True\n",
    "\n",
    "    stack = []\n",
    "\n",
    "    for s in exp:\n",
    "        if s in '([{':\n",
    "            stack.append(s)\n",
    "        elif s == ')':\n",
    "            if not checkStackEmptyAndLastElement('('):\n",
    "                return False\n",
    "\n",
    "        elif s == ']':\n",
    "            if not checkStackEmptyAndLastElement('['):\n",
    "                return False\n",
    "\n",
    "        elif s == '}':\n",
    "            if not checkStackEmptyAndLastElement('{'):\n",
    "                return False\n",
    "\n",
    "    if stack:\n",
    "        return False\n",
    "    \n",
    "    return True        "
   ]
  },
  {
   "cell_type": "markdown",
   "metadata": {},
   "source": [
    "Reverse a stack using another stack"
   ]
  },
  {
   "cell_type": "code",
   "execution_count": 157,
   "metadata": {},
   "outputs": [],
   "source": [
    "stack1 = [1, 2, 3, 4]\n",
    "stack2 = []\n",
    "\n",
    "# using inbuild stack i.e., Recursion, implicit using third stack\n",
    "\n",
    "def reverseStack(stack):\n",
    "    if len(stack) == 0:\n",
    "        return \n",
    "    \n",
    "    topEle = stack.pop()\n",
    "    reverseStack(stack)\n",
    "    stack2.append(topEle)"
   ]
  },
  {
   "cell_type": "code",
   "execution_count": 158,
   "metadata": {},
   "outputs": [],
   "source": [
    "reverseStack(stack1)"
   ]
  },
  {
   "cell_type": "code",
   "execution_count": 159,
   "metadata": {},
   "outputs": [
    {
     "data": {
      "text/plain": [
       "([], [1, 2, 3, 4])"
      ]
     },
     "execution_count": 159,
     "metadata": {},
     "output_type": "execute_result"
    }
   ],
   "source": [
    "stack1, stack2"
   ]
  },
  {
   "cell_type": "code",
   "execution_count": 160,
   "metadata": {},
   "outputs": [],
   "source": [
    "while stack2:\n",
    "    le = stack2.pop()\n",
    "    stack1.append(le)"
   ]
  },
  {
   "cell_type": "code",
   "execution_count": 161,
   "metadata": {},
   "outputs": [
    {
     "data": {
      "text/plain": [
       "([4, 3, 2, 1], [])"
      ]
     },
     "execution_count": 161,
     "metadata": {},
     "output_type": "execute_result"
    }
   ],
   "source": [
    "stack1, stack2"
   ]
  }
 ],
 "metadata": {
  "kernelspec": {
   "display_name": "Python 3",
   "language": "python",
   "name": "python3"
  },
  "language_info": {
   "codemirror_mode": {
    "name": "ipython",
    "version": 3
   },
   "file_extension": ".py",
   "mimetype": "text/x-python",
   "name": "python",
   "nbconvert_exporter": "python",
   "pygments_lexer": "ipython3",
   "version": "3.10.12"
  }
 },
 "nbformat": 4,
 "nbformat_minor": 2
}
