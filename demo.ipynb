{
 "cells": [
  {
   "cell_type": "code",
   "execution_count": 9,
   "metadata": {},
   "outputs": [],
   "source": [
    "class fraction:\n",
    "    def __init__(self, n, d):\n",
    "        if d == 0:\n",
    "            raise Exception('Please enter val > 0')\n",
    "        self.n = n\n",
    "        self.d = d\n",
    "\n",
    "    def printFrac(self):\n",
    "        if self.n == 0 or self.d == 1:\n",
    "            print(f'{self.n}')\n",
    "        else:\n",
    "            print(f'{self.n}/{self.d}')\n",
    "\n",
    "    def simplify(self):\n",
    "        s = min(self.n, self.d)\n",
    "        while s > 1:\n",
    "            if self.n%s == 0 and self.d%s == 0:\n",
    "                self.n //= s \n",
    "                self.d //= s\n",
    "            else:\n",
    "                s -= 1\n",
    "        self.printFrac()\n",
    "\n",
    "    def addFraction(self, otherFrac):\n",
    "        self.n = self.n*otherFrac.d + otherFrac.n*self.d\n",
    "        self.d = self.d*otherFrac.d\n",
    "        self.simplify()\n"
   ]
  },
  {
   "cell_type": "code",
   "execution_count": 10,
   "metadata": {},
   "outputs": [
    {
     "name": "stdout",
     "output_type": "stream",
     "text": [
      "40/25\n",
      "8/5\n",
      "20/10\n",
      "2\n",
      "18/5\n"
     ]
    }
   ],
   "source": [
    "f = fraction(40, 25)\n",
    "f.printFrac()\n",
    "f.simplify()\n",
    "\n",
    "f1 = fraction(20, 10)\n",
    "f1.printFrac()\n",
    "f1.simplify()\n",
    "\n",
    "\n",
    "f.addFraction(f1)"
   ]
  },
  {
   "cell_type": "code",
   "execution_count": 13,
   "metadata": {},
   "outputs": [],
   "source": [
    "class Complex:\n",
    "    def __init__(self, real=0, imaginary=0) -> None:\n",
    "        self.real = real\n",
    "        self.imaginary = imaginary\n",
    "\n",
    "    def printComplex(self):\n",
    "        print(f'{self.real} + {self.imaginary}j')\n",
    "    \n",
    "    def add(self, OComplex):\n",
    "        self.real += OComplex.real\n",
    "        self.imaginary += OComplex.imaginary\n",
    "        self.printComplex()\n"
   ]
  },
  {
   "cell_type": "code",
   "execution_count": 14,
   "metadata": {},
   "outputs": [
    {
     "name": "stdout",
     "output_type": "stream",
     "text": [
      "0 + 0j\n",
      "1 + 0j\n",
      "2 + 4j\n",
      "1 + 0j\n",
      "3 + 4j\n"
     ]
    }
   ],
   "source": [
    "c = Complex()\n",
    "c1 = Complex(1)\n",
    "c2 = Complex(2, 4)\n",
    "\n",
    "c.printComplex()\n",
    "c1.printComplex()\n",
    "c2.printComplex()\n",
    "\n",
    "c.add(c1)\n",
    "c1.add(c2)"
   ]
  },
  {
   "cell_type": "code",
   "execution_count": 16,
   "metadata": {},
   "outputs": [
    {
     "data": {
      "text/plain": [
       "{'real': 1, 'imaginary': 0}"
      ]
     },
     "execution_count": 16,
     "metadata": {},
     "output_type": "execute_result"
    }
   ],
   "source": [
    "c.__dict__ "
   ]
  }
 ],
 "metadata": {
  "kernelspec": {
   "display_name": "Python 3",
   "language": "python",
   "name": "python3"
  },
  "language_info": {
   "codemirror_mode": {
    "name": "ipython",
    "version": 3
   },
   "file_extension": ".py",
   "mimetype": "text/x-python",
   "name": "python",
   "nbconvert_exporter": "python",
   "pygments_lexer": "ipython3",
   "version": "3.10.12"
  },
  "orig_nbformat": 4,
  "vscode": {
   "interpreter": {
    "hash": "f1af8e9e7b81bd0acb2c0a8783f2dbe2b614545b4102e8f472ef55e374047c4b"
   }
  }
 },
 "nbformat": 4,
 "nbformat_minor": 2
}
