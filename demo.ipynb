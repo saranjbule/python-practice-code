{
 "cells": [
  {
   "cell_type": "code",
   "execution_count": 43,
   "metadata": {},
   "outputs": [],
   "source": [
    "class fraction:\n",
    "    def __init__(self, n, d):\n",
    "        if d == 0:\n",
    "            raise Exception('Please enter val > 0')\n",
    "        self.n = n\n",
    "        self.d = d\n",
    "\n",
    "    def printFrac(self):\n",
    "        if self.n == 0 or self.d == 1:\n",
    "            print(f'{self.n}')\n",
    "        else:\n",
    "            print(f'{self.n}/{self.d}')\n",
    "\n",
    "    def simplify(self):\n",
    "        s = min(self.n, self.d)\n",
    "        while s > 1:\n",
    "            if self.n%s == 0 and self.d%s == 0:\n",
    "                self.n //= s \n",
    "                self.d //= s\n",
    "            else:\n",
    "                s -= 1\n",
    "        self.printFrac()\n",
    "\n",
    "    def addFraction(self, otherFrac):\n",
    "        self.n = self.n*otherFrac.d + otherFrac.n*self.d\n",
    "        self.d = self.d*otherFrac.d\n",
    "        self.simplify()\n"
   ]
  },
  {
   "cell_type": "code",
   "execution_count": 44,
   "metadata": {},
   "outputs": [
    {
     "name": "stdout",
     "output_type": "stream",
     "text": [
      "40/25\n",
      "8/5\n",
      "20/10\n",
      "2\n",
      "18/5\n"
     ]
    }
   ],
   "source": [
    "f = fraction(40, 25)\n",
    "f.printFrac()\n",
    "f.simplify()\n",
    "\n",
    "f1 = fraction(20, 10)\n",
    "f1.printFrac()\n",
    "f1.simplify()\n",
    "\n",
    "\n",
    "f.addFraction(f1)"
   ]
  },
  {
   "cell_type": "code",
   "execution_count": 64,
   "metadata": {},
   "outputs": [
    {
     "name": "stdout",
     "output_type": "stream",
     "text": [
      "10\n",
      "9\n",
      "8\n",
      "7\n",
      "6\n",
      "5\n",
      "4\n",
      "3\n",
      "2\n"
     ]
    }
   ],
   "source": [
    "for i in range(10, 1, -1):\n",
    "    print(i)"
   ]
  },
  {
   "cell_type": "code",
   "execution_count": 4,
   "metadata": {},
   "outputs": [
    {
     "name": "stdout",
     "output_type": "stream",
     "text": [
      "2 5 [6]\n"
     ]
    }
   ],
   "source": [
    "a = 12\n",
    "b = 30\n",
    "\n",
    "s = min(a, b)\n",
    "ans = []\n",
    "\n",
    "while s > 1 and a > 1 and b > 1:\n",
    "    if a%s == 0 and b%s == 0:\n",
    "        ans.append(s)\n",
    "        a //= s\n",
    "        b //= s\n",
    "    else:\n",
    "        s -= 1\n",
    "\n",
    "print(a, b, ans)"
   ]
  },
  {
   "cell_type": "code",
   "execution_count": 49,
   "metadata": {},
   "outputs": [],
   "source": [
    "class Complex:\n",
    "    def __init__(self, real=0, imaginary=0) -> None:\n",
    "        self.real = real\n",
    "        self.imaginary = imaginary\n",
    "\n",
    "    def printComplex(self):\n",
    "        print(f'{self.real} + {self.imaginary}j')\n",
    "    \n",
    "    def add(self, OComplex):\n",
    "        self.real += OComplex.real\n",
    "        self.imaginary += OComplex.imaginary\n",
    "        self.printComplex()\n"
   ]
  },
  {
   "cell_type": "code",
   "execution_count": 50,
   "metadata": {},
   "outputs": [
    {
     "name": "stdout",
     "output_type": "stream",
     "text": [
      "0+ 0j\n",
      "1+ 0j\n",
      "2+ 4j\n",
      "1+ 0j\n",
      "3+ 4j\n"
     ]
    }
   ],
   "source": [
    "c = Complex()\n",
    "c1 = Complex(1)\n",
    "c2 = Complex(2, 4)\n",
    "\n",
    "c.printComplex()\n",
    "c1.printComplex()\n",
    "c2.printComplex()\n",
    "\n",
    "c.add(c1)\n",
    "c1.add(c2)"
   ]
  },
  {
   "cell_type": "code",
   "execution_count": 5,
   "metadata": {},
   "outputs": [
    {
     "name": "stdout",
     "output_type": "stream",
     "text": [
      "sxrsxnjbules\n"
     ]
    }
   ],
   "source": [
    "string = 'sarsanjbules'\n",
    "l = len(string)\n",
    "\n",
    "def replace(s, c1, c2):\n",
    "    for i in range(l):\n",
    "        if s[i] == c1:\n",
    "            s = s[:i]+c2+s[i+1:]\n",
    "    return s\n",
    "\n",
    "print(replace(string, 'a', 'x'))"
   ]
  },
  {
   "cell_type": "code",
   "execution_count": 12,
   "metadata": {},
   "outputs": [
    {
     "name": "stdout",
     "output_type": "stream",
     "text": [
      "xdlk x adsfx an xx\n"
     ]
    }
   ],
   "source": [
    "string = 'ansdlk ans adsfans an ansans'\n",
    "l = len(string)\n",
    "\n",
    "def replace(s, c1, c2):\n",
    "    for i in range(l):\n",
    "        lc = len(c1)\n",
    "        if l - i == lc:\n",
    "            break\n",
    "\n",
    "        if s[i:i+lc] == c1:\n",
    "            s = s[:i]+c2+s[i+lc:]\n",
    "    return s\n",
    "\n",
    "print(replace(string, 'ans', 'x'))"
   ]
  }
 ],
 "metadata": {
  "kernelspec": {
   "display_name": "Python 3",
   "language": "python",
   "name": "python3"
  },
  "language_info": {
   "codemirror_mode": {
    "name": "ipython",
    "version": 3
   },
   "file_extension": ".py",
   "mimetype": "text/x-python",
   "name": "python",
   "nbconvert_exporter": "python",
   "pygments_lexer": "ipython3",
   "version": "3.10.9"
  },
  "orig_nbformat": 4,
  "vscode": {
   "interpreter": {
    "hash": "f1af8e9e7b81bd0acb2c0a8783f2dbe2b614545b4102e8f472ef55e374047c4b"
   }
  }
 },
 "nbformat": 4,
 "nbformat_minor": 2
}
