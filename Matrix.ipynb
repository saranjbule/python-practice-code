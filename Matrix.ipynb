{
 "cells": [
  {
   "cell_type": "code",
   "execution_count": 13,
   "metadata": {},
   "outputs": [],
   "source": [
    "class Matrix:\n",
    "    def __init__(self, row, col) -> None:\n",
    "        self.row = row\n",
    "        self.col = col\n",
    "\n",
    "    def createMatrix(self):\n",
    "        self.matrix = []\n",
    "        for i in range(self.row):\n",
    "            row = []\n",
    "            for j in range(self.col):\n",
    "                ip = int(input())\n",
    "                row.append(ip)\n",
    "            self.matrix.append(row)\n",
    "        return self.matrix\n",
    "\n",
    "    def printMatrix(self):\n",
    "        for row in self.matrix:\n",
    "            for ele in row:\n",
    "                print(ele, end=\" \")\n",
    "            print()\n",
    "\n",
    "    def checkMatrixAddValid(self, m):\n",
    "        if m.row == self.row and m.col == self.col:\n",
    "            return True\n",
    "        \n",
    "        return False\n",
    "\n",
    "    def addMatrix(self, m2):\n",
    "        validMatrix = self.checkMatrixAddValid(m2)\n",
    "        if validMatrix:\n",
    "            for i in range(self.row):\n",
    "                for j in range(self.col):\n",
    "                    self.matrix[i][j] += m2.matrix[i][j]\n",
    "            \n",
    "            self.printMatrix()\n",
    "        else:\n",
    "            print('Enter Valid Matrix')\n",
    "\n",
    "    def transpose(self):\n",
    "        result = []\n",
    "        for i in range(self.col):\n",
    "            row = []\n",
    "            for j in range(self.row):\n",
    "                row.append(0)\n",
    "            result.append(row)\n",
    "\n",
    "        row = len(result)\n",
    "        col = len(result[0])\n",
    "\n",
    "        for i in range(row):\n",
    "            for j in range(col):\n",
    "                result[i][j] = self.matrix[j][i]\n",
    "\n",
    "        return result"
   ]
  },
  {
   "cell_type": "code",
   "execution_count": 48,
   "metadata": {},
   "outputs": [],
   "source": [
    "m1 = Matrix(3, 2)\n",
    "m2 = Matrix(3, 2)"
   ]
  },
  {
   "cell_type": "code",
   "execution_count": 49,
   "metadata": {},
   "outputs": [
    {
     "data": {
      "text/plain": [
       "[[7, 8], [9, 0], [1, 2]]"
      ]
     },
     "execution_count": 49,
     "metadata": {},
     "output_type": "execute_result"
    }
   ],
   "source": [
    "m1.createMatrix()\n",
    "m2.createMatrix()"
   ]
  },
  {
   "cell_type": "code",
   "execution_count": 50,
   "metadata": {},
   "outputs": [
    {
     "name": "stdout",
     "output_type": "stream",
     "text": [
      "1 2 \n",
      "3 4 \n",
      "5 6 \n",
      "7 8 \n",
      "9 0 \n",
      "1 2 \n"
     ]
    }
   ],
   "source": [
    "m1.printMatrix()\n",
    "m2.printMatrix()"
   ]
  },
  {
   "cell_type": "code",
   "execution_count": 51,
   "metadata": {},
   "outputs": [
    {
     "data": {
      "text/plain": [
       "True"
      ]
     },
     "execution_count": 51,
     "metadata": {},
     "output_type": "execute_result"
    }
   ],
   "source": [
    "m1.checkMatrixAddValid(m2)"
   ]
  },
  {
   "cell_type": "code",
   "execution_count": 52,
   "metadata": {},
   "outputs": [
    {
     "name": "stdout",
     "output_type": "stream",
     "text": [
      "8 10 \n",
      "12 4 \n",
      "6 8 \n"
     ]
    }
   ],
   "source": [
    "m1.addMatrix(m2)"
   ]
  },
  {
   "cell_type": "code",
   "execution_count": 18,
   "metadata": {},
   "outputs": [
    {
     "name": "stdout",
     "output_type": "stream",
     "text": [
      "1 2 \n",
      "3 1 \n",
      "5 6 \n"
     ]
    },
    {
     "data": {
      "text/plain": [
       "[[1, 3, 5], [2, 1, 6]]"
      ]
     },
     "execution_count": 18,
     "metadata": {},
     "output_type": "execute_result"
    }
   ],
   "source": [
    "m = Matrix(3, 2)\n",
    "m.createMatrix()\n",
    "m.printMatrix()\n",
    "m.transpose()"
   ]
  },
  {
   "cell_type": "code",
   "execution_count": 1,
   "metadata": {},
   "outputs": [],
   "source": [
    "m1 = [[1, 2], [3, 4], [5, 6]]\n",
    "m2 = [[1, 2, 3], [4, 5, 6]]\n",
    "\n",
    "m1r = len(m1)\n",
    "m1c = len(m1[0])\n",
    "\n",
    "m2r = len(m2)\n",
    "m2c = len(m2[0])\n",
    "\n",
    "validMatrix = False\n",
    "\n",
    "if m1c == m2r:\n",
    "    validMatrix = True\n",
    "\n",
    "if validMatrix:\n",
    "    result = [[0 for i in range(m2c)]for i in range(m1r)]\n",
    "\n",
    "    for i in range(m1r): # 0 1 2 \n",
    "        for j in range(m2c): # 0 1 2\n",
    "            for k in range(m1c): # 0 1\n",
    "                result[i][j] += m1[i][k]*m2[k][j]\n"
   ]
  },
  {
   "cell_type": "code",
   "execution_count": 2,
   "metadata": {},
   "outputs": [
    {
     "data": {
      "text/plain": [
       "[[9, 12, 15], [19, 26, 33], [29, 40, 51]]"
      ]
     },
     "execution_count": 2,
     "metadata": {},
     "output_type": "execute_result"
    }
   ],
   "source": [
    "result"
   ]
  },
  {
   "cell_type": "markdown",
   "metadata": {},
   "source": [
    "In matrix multiplication R1 X C1 * R2 X C2 \n",
    "\n",
    "<u>Condition :-</u> <br>\n",
    "C1 == R2 has to be equal <br>\n",
    "R1 X C2 final matric result <br>\n",
    "\n",
    "So three loops <br>\n",
    "R1 => C2 => C1 or R2"
   ]
  }
 ],
 "metadata": {
  "kernelspec": {
   "display_name": "Python 3",
   "language": "python",
   "name": "python3"
  },
  "language_info": {
   "codemirror_mode": {
    "name": "ipython",
    "version": 3
   },
   "file_extension": ".py",
   "mimetype": "text/x-python",
   "name": "python",
   "nbconvert_exporter": "python",
   "pygments_lexer": "ipython3",
   "version": "3.10.12"
  },
  "orig_nbformat": 4
 },
 "nbformat": 4,
 "nbformat_minor": 2
}
