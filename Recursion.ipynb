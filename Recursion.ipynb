{
 "cells": [
  {
   "attachments": {},
   "cell_type": "markdown",
   "metadata": {},
   "source": [
    "<p>Factorial function</p>"
   ]
  },
  {
   "cell_type": "code",
   "execution_count": 2,
   "metadata": {},
   "outputs": [
    {
     "name": "stdout",
     "output_type": "stream",
     "text": [
      "24\n"
     ]
    }
   ],
   "source": [
    "fact = 1\n",
    "num = 4\n",
    "for i in range(1, num+1):\n",
    "    fact*=i\n",
    "\n",
    "print(fact)\n"
   ]
  },
  {
   "cell_type": "markdown",
   "metadata": {},
   "source": [
    "Non-Tail Recursion Type"
   ]
  },
  {
   "cell_type": "code",
   "execution_count": 5,
   "metadata": {},
   "outputs": [],
   "source": [
    "def factorial(n): # induction hypothesis \n",
    "    if n == 1: # base case\n",
    "        return 1\n",
    "    return n*factorial(n-1) # induction step"
   ]
  },
  {
   "cell_type": "code",
   "execution_count": 6,
   "metadata": {},
   "outputs": [
    {
     "name": "stdout",
     "output_type": "stream",
     "text": [
      "120\n"
     ]
    }
   ],
   "source": [
    "print(factorial(5))"
   ]
  },
  {
   "cell_type": "markdown",
   "metadata": {},
   "source": [
    "- Time Complexity = O(n)\n",
    "- Space Complexity = O(n)"
   ]
  },
  {
   "cell_type": "markdown",
   "metadata": {},
   "source": [
    "Tail Recursion Type"
   ]
  },
  {
   "cell_type": "code",
   "execution_count": 1,
   "metadata": {},
   "outputs": [],
   "source": [
    "def factorial2(n, a=1):\n",
    "    if n == 1:\n",
    "        return a\n",
    "    \n",
    "    return factorial2(n-1, a*n)"
   ]
  },
  {
   "cell_type": "code",
   "execution_count": 6,
   "metadata": {},
   "outputs": [
    {
     "data": {
      "text/plain": [
       "720"
      ]
     },
     "execution_count": 6,
     "metadata": {},
     "output_type": "execute_result"
    }
   ],
   "source": [
    "factorial2(6)"
   ]
  },
  {
   "cell_type": "markdown",
   "metadata": {},
   "source": [
    "- Time Complexity = O(n)\n",
    "- Space Complexity = O(n)"
   ]
  },
  {
   "cell_type": "markdown",
   "metadata": {},
   "source": [
    "Note: \n",
    "- Tail or Non-Tail both have space complexity of O(n) i.e., size of call stack which hold the recursion function"
   ]
  },
  {
   "cell_type": "markdown",
   "metadata": {},
   "source": [
    "In general, tail recursion is more efficient than non-tail recursion because it can be optimized by the compiler. However, the time complexity and space complexity of both methods are the same."
   ]
  },
  {
   "attachments": {},
   "cell_type": "markdown",
   "metadata": {},
   "source": [
    "<p>Sum of natural number</p>"
   ]
  },
  {
   "cell_type": "code",
   "execution_count": 4,
   "metadata": {},
   "outputs": [
    {
     "name": "stdout",
     "output_type": "stream",
     "text": [
      "55\n"
     ]
    }
   ],
   "source": [
    "s = 0\n",
    "\n",
    "for i in range(11):\n",
    "    s += i\n",
    "\n",
    "print(s)"
   ]
  },
  {
   "cell_type": "code",
   "execution_count": 5,
   "metadata": {},
   "outputs": [
    {
     "data": {
      "text/plain": [
       "55"
      ]
     },
     "execution_count": 5,
     "metadata": {},
     "output_type": "execute_result"
    }
   ],
   "source": [
    "def sumNatualNo(n):\n",
    "    if n == 1:\n",
    "        return 1\n",
    "    return n+sumNatualNo(n-1)\n",
    "\n",
    "sumNatualNo(10)"
   ]
  },
  {
   "attachments": {},
   "cell_type": "markdown",
   "metadata": {},
   "source": [
    "<p>Power of numbers</p>"
   ]
  },
  {
   "cell_type": "code",
   "execution_count": 6,
   "metadata": {},
   "outputs": [],
   "source": [
    "def power(n, p):\n",
    "    if p == 0:\n",
    "        return 1\n",
    "    \n",
    "    return n*power(n, p-1)"
   ]
  },
  {
   "cell_type": "code",
   "execution_count": 7,
   "metadata": {},
   "outputs": [
    {
     "name": "stdout",
     "output_type": "stream",
     "text": [
      "2\n"
     ]
    }
   ],
   "source": [
    "print(power(2, 1))"
   ]
  },
  {
   "cell_type": "markdown",
   "metadata": {},
   "source": [
    "Time and Space Complexity for power function is O(N)"
   ]
  },
  {
   "attachments": {},
   "cell_type": "markdown",
   "metadata": {},
   "source": [
    "<p>Print Number from 1 to 10 & 10 to 1</p>"
   ]
  },
  {
   "cell_type": "code",
   "execution_count": 8,
   "metadata": {},
   "outputs": [],
   "source": [
    "def print_1_10(n):\n",
    "    if n == 0:\n",
    "        return\n",
    "    print_1_10(n - 1)\n",
    "    print(n, end=\" \")"
   ]
  },
  {
   "cell_type": "code",
   "execution_count": 9,
   "metadata": {},
   "outputs": [
    {
     "name": "stdout",
     "output_type": "stream",
     "text": [
      "1 2 3 4 5 6 7 8 9 10 "
     ]
    }
   ],
   "source": [
    "print_1_10(10)"
   ]
  },
  {
   "cell_type": "code",
   "execution_count": 10,
   "metadata": {},
   "outputs": [],
   "source": [
    "def print_10_1(n):\n",
    "    if n == 0:\n",
    "        return\n",
    "    print(n, end=\" \")\n",
    "    print_10_1(n - 1)\n",
    "    "
   ]
  },
  {
   "cell_type": "code",
   "execution_count": 11,
   "metadata": {},
   "outputs": [
    {
     "name": "stdout",
     "output_type": "stream",
     "text": [
      "10 9 8 7 6 5 4 3 2 1 "
     ]
    }
   ],
   "source": [
    "print_10_1(10)"
   ]
  },
  {
   "attachments": {},
   "cell_type": "markdown",
   "metadata": {},
   "source": [
    "<p>Fibonacii series</p>"
   ]
  },
  {
   "cell_type": "code",
   "execution_count": 7,
   "metadata": {},
   "outputs": [
    {
     "name": "stdout",
     "output_type": "stream",
     "text": [
      "1 1 2 3 5 8 13 21 34 55 89 "
     ]
    }
   ],
   "source": [
    "f = 0\n",
    "s = 1\n",
    "\n",
    "for i in range(11):\n",
    "    print(s, end=\" \")\n",
    "    f, s = s, f+s"
   ]
  },
  {
   "cell_type": "code",
   "execution_count": 10,
   "metadata": {},
   "outputs": [],
   "source": [
    "def fibonaci_series(n):\n",
    "    if n == 0:\n",
    "        return 0\n",
    "\n",
    "    if n == 1:\n",
    "        return 1\n",
    "\n",
    "    return fibonaci_series(n-1) + fibonaci_series(n-2)"
   ]
  },
  {
   "cell_type": "code",
   "execution_count": 14,
   "metadata": {},
   "outputs": [
    {
     "data": {
      "text/plain": [
       "55"
      ]
     },
     "execution_count": 14,
     "metadata": {},
     "output_type": "execute_result"
    }
   ],
   "source": [
    "fibonaci_series(10)"
   ]
  },
  {
   "cell_type": "markdown",
   "metadata": {},
   "source": [
    "<li>Time Complexity: O(2^n) [ as each recursion calls other two recursion ]\n",
    "<li>Space Complexity: O(n) [ not all the recursion call will be in the stack memory at a given time ]"
   ]
  },
  {
   "cell_type": "markdown",
   "metadata": {},
   "source": [
    "Optimized Factorial Code using memory"
   ]
  },
  {
   "cell_type": "code",
   "execution_count": 12,
   "metadata": {},
   "outputs": [],
   "source": [
    "fibonaci_hash ={0: 0, 1: 1}\n",
    "\n",
    "def fibonaci_series_2(n):\n",
    "    if n == 0:\n",
    "        return 0\n",
    "\n",
    "    if n == 1:\n",
    "        return 1\n",
    "    \n",
    "    if n-1 in fibonaci_hash:\n",
    "        n_1_T = fibonaci_hash[n-1]\n",
    "    else: \n",
    "        n_1_T = fibonaci_series_2(n-1)\n",
    "\n",
    "    if n-2 in fibonaci_hash:\n",
    "        n_2_T = fibonaci_hash[n-2]\n",
    "    else: \n",
    "        n_2_T = fibonaci_series_2(n-2)\n",
    "\n",
    "    if n not in fibonaci_hash:\n",
    "        fibonaci_hash[n] = n_1_T + n_2_T\n",
    "\n",
    "    return n_1_T + n_2_T"
   ]
  },
  {
   "cell_type": "code",
   "execution_count": 13,
   "metadata": {},
   "outputs": [
    {
     "data": {
      "text/plain": [
       "55"
      ]
     },
     "execution_count": 13,
     "metadata": {},
     "output_type": "execute_result"
    }
   ],
   "source": [
    "fibonaci_series_2(10)"
   ]
  },
  {
   "cell_type": "code",
   "execution_count": 14,
   "metadata": {},
   "outputs": [
    {
     "data": {
      "text/plain": [
       "{0: 0, 1: 1, 2: 1, 3: 2, 4: 3, 5: 5, 6: 8, 7: 13, 8: 21, 9: 34, 10: 55}"
      ]
     },
     "execution_count": 14,
     "metadata": {},
     "output_type": "execute_result"
    }
   ],
   "source": [
    "fibonaci_hash"
   ]
  },
  {
   "cell_type": "markdown",
   "metadata": {},
   "source": [
    "Tail Recursion Fibonaci Series\n"
   ]
  },
  {
   "cell_type": "code",
   "execution_count": 15,
   "metadata": {},
   "outputs": [],
   "source": [
    "def fib(n, a=0, b=1):\n",
    "    if n == 0:\n",
    "        return a\n",
    "    \n",
    "    if n == 1:\n",
    "        return b\n",
    "    \n",
    "    return fib(n-1, b, a+b)"
   ]
  },
  {
   "cell_type": "code",
   "execution_count": 16,
   "metadata": {},
   "outputs": [
    {
     "data": {
      "text/plain": [
       "55"
      ]
     },
     "execution_count": 16,
     "metadata": {},
     "output_type": "execute_result"
    }
   ],
   "source": [
    "fib(10)"
   ]
  },
  {
   "attachments": {},
   "cell_type": "markdown",
   "metadata": {},
   "source": [
    "<p> To check if the list is sorted </p>"
   ]
  },
  {
   "cell_type": "code",
   "execution_count": 15,
   "metadata": {},
   "outputs": [],
   "source": [
    "def isSorted(a):\n",
    "    if len(a) == 1:\n",
    "        return True\n",
    "    \n",
    "    if a[0] > a[1]:\n",
    "        return False\n",
    "\n",
    "    return isSorted(a[1:])"
   ]
  },
  {
   "cell_type": "code",
   "execution_count": 16,
   "metadata": {},
   "outputs": [
    {
     "name": "stdout",
     "output_type": "stream",
     "text": [
      "False\n"
     ]
    }
   ],
   "source": [
    "arr = [10, 2, 3]\n",
    "print(isSorted(arr))"
   ]
  },
  {
   "cell_type": "code",
   "execution_count": 17,
   "metadata": {},
   "outputs": [
    {
     "name": "stdout",
     "output_type": "stream",
     "text": [
      "True\n"
     ]
    }
   ],
   "source": [
    "arr = [0, 2]\n",
    "print(isSorted(arr))"
   ]
  },
  {
   "cell_type": "code",
   "execution_count": 35,
   "metadata": {},
   "outputs": [
    {
     "name": "stdout",
     "output_type": "stream",
     "text": [
      "False\n"
     ]
    }
   ],
   "source": [
    "def sortArr(si, ei):\n",
    "    if si == ei :\n",
    "        return True\n",
    "    \n",
    "    if arr[si] > arr[si+1]:\n",
    "        return False\n",
    "    \n",
    "    return sortArr(si+1, ei)\n",
    "\n",
    "arr = [11, 2]\n",
    "\n",
    "s = 0\n",
    "e = len(arr)-1\n",
    "print(sortArr(s, e))"
   ]
  },
  {
   "attachments": {},
   "cell_type": "markdown",
   "metadata": {},
   "source": [
    "<p>Sum of element of array</p>"
   ]
  },
  {
   "cell_type": "code",
   "execution_count": 19,
   "metadata": {},
   "outputs": [
    {
     "name": "stdout",
     "output_type": "stream",
     "text": [
      "13\n"
     ]
    }
   ],
   "source": [
    "summ = 0\n",
    "for i in arr:\n",
    "    summ += i\n",
    "print(summ)"
   ]
  },
  {
   "cell_type": "code",
   "execution_count": 20,
   "metadata": {},
   "outputs": [],
   "source": [
    "def sumArray(a):\n",
    "    if len(a) == 0:\n",
    "        return 0\n",
    "\n",
    "    return a[0] + sumArray(a[1:])"
   ]
  },
  {
   "cell_type": "code",
   "execution_count": 21,
   "metadata": {},
   "outputs": [
    {
     "name": "stdout",
     "output_type": "stream",
     "text": [
      "13\n"
     ]
    }
   ],
   "source": [
    "print(sumArray(arr))"
   ]
  },
  {
   "cell_type": "code",
   "execution_count": 2,
   "metadata": {},
   "outputs": [
    {
     "name": "stdout",
     "output_type": "stream",
     "text": [
      "29\n"
     ]
    }
   ],
   "source": [
    "arr = [7, 4, 9, 11, -2]\n",
    "s = 0\n",
    "e = len(arr) - 1\n",
    "def sumArray(si, ei):\n",
    "    if si > ei:\n",
    "        return 0\n",
    "\n",
    "    return arr[si] + sumArray(si+1, ei)\n",
    "\n",
    "print(sumArray(s, e))"
   ]
  },
  {
   "attachments": {},
   "cell_type": "markdown",
   "metadata": {},
   "source": [
    "Searching for element in list with indexes"
   ]
  },
  {
   "cell_type": "code",
   "execution_count": 2,
   "metadata": {},
   "outputs": [],
   "source": [
    "arr = [7, 4, 11, 1, 9, 11, 2]\n",
    "s = 0\n",
    "e = len(arr) - 1 "
   ]
  },
  {
   "cell_type": "code",
   "execution_count": 61,
   "metadata": {},
   "outputs": [
    {
     "data": {
      "text/plain": [
       "2"
      ]
     },
     "execution_count": 61,
     "metadata": {},
     "output_type": "execute_result"
    }
   ],
   "source": [
    "def searchstart(si, ei, x):\n",
    "    if si > ei:\n",
    "        return -1\n",
    "\n",
    "    if arr[si] == x:\n",
    "        return si\n",
    "    \n",
    "    return searchstart(si+1, ei, x)\n",
    "\n",
    "searchstart(s, e, 11)"
   ]
  },
  {
   "cell_type": "code",
   "execution_count": 3,
   "metadata": {},
   "outputs": [
    {
     "data": {
      "text/plain": [
       "5"
      ]
     },
     "execution_count": 3,
     "metadata": {},
     "output_type": "execute_result"
    }
   ],
   "source": [
    "def searchLast(si, ei, x):\n",
    "    if si > ei:\n",
    "        return -1\n",
    "\n",
    "    if arr[ei] == x:\n",
    "        return ei\n",
    "    \n",
    "    return searchLast(si, ei-1, x)\n",
    "\n",
    "searchLast(s, e, 11)"
   ]
  },
  {
   "cell_type": "code",
   "execution_count": 10,
   "metadata": {},
   "outputs": [
    {
     "data": {
      "text/plain": [
       "5"
      ]
     },
     "execution_count": 10,
     "metadata": {},
     "output_type": "execute_result"
    }
   ],
   "source": [
    "def searchLast2(si, ei, x):\n",
    "    if si > ei:\n",
    "        return -1\n",
    "\n",
    "    keyFound = searchLast2(si+1, ei, x)\n",
    "\n",
    "    if keyFound == -1:\n",
    "        if arr[si] == x:\n",
    "            return si\n",
    "        else:\n",
    "            return -1\n",
    "    else:\n",
    "        return keyFound\n",
    "\n",
    "searchLast2(s, e, 11)\n"
   ]
  },
  {
   "cell_type": "markdown",
   "metadata": {},
   "source": [
    "Searching for element in list with copies"
   ]
  },
  {
   "cell_type": "code",
   "execution_count": 5,
   "metadata": {},
   "outputs": [
    {
     "data": {
      "text/plain": [
       "4"
      ]
     },
     "execution_count": 5,
     "metadata": {},
     "output_type": "execute_result"
    }
   ],
   "source": [
    "def searchStartCopy(a, k):\n",
    "    if len(a) == 0:\n",
    "        return -1\n",
    "\n",
    "    if a[0] == k:\n",
    "        return 0\n",
    "    \n",
    "    f = searchStartCopy(a[1:], k)\n",
    "\n",
    "    if f == -1:\n",
    "        return -1\n",
    "    \n",
    "    return f+1\n",
    "\n",
    "searchStartCopy(arr, 9)"
   ]
  },
  {
   "cell_type": "code",
   "execution_count": 4,
   "metadata": {},
   "outputs": [
    {
     "data": {
      "text/plain": [
       "5"
      ]
     },
     "execution_count": 4,
     "metadata": {},
     "output_type": "execute_result"
    }
   ],
   "source": [
    "def lastIndexCopy(a, k):\n",
    "    if len(a) == 0:\n",
    "        return -1\n",
    "    \n",
    "    result = lastIndexCopy(a[1:], k)\n",
    "\n",
    "    if result == -1:\n",
    "        if a[0] == k:\n",
    "            return 0\n",
    "        else:\n",
    "            return -1\n",
    "        \n",
    "    return 1+result  \n",
    "\n",
    "lastIndexCopy(arr, 11)"
   ]
  },
  {
   "cell_type": "markdown",
   "metadata": {},
   "source": [
    "Recursion on String"
   ]
  },
  {
   "cell_type": "code",
   "execution_count": 1,
   "metadata": {},
   "outputs": [
    {
     "name": "stdout",
     "output_type": "stream",
     "text": [
      "sbrbnj\n"
     ]
    }
   ],
   "source": [
    "def replace(s, c1, c2, n=''):\n",
    "    if len(s) == 0:\n",
    "        return n\n",
    "\n",
    "    if s[0] == c1:\n",
    "        n+=c2\n",
    "    else:\n",
    "        n+=s[0]        \n",
    "    \n",
    "        \n",
    "    return replace(s[1:], c1, c2, n)\n",
    "\n",
    "\n",
    "print(replace('saranj', 'a', 'b'))"
   ]
  },
  {
   "cell_type": "code",
   "execution_count": 23,
   "metadata": {},
   "outputs": [
    {
     "data": {
      "text/plain": [
       "'mxngoes bxnxnx'"
      ]
     },
     "execution_count": 23,
     "metadata": {},
     "output_type": "execute_result"
    }
   ],
   "source": [
    "def r(str, a, b, s, e, c=''):\n",
    "    if s>e:\n",
    "        return c\n",
    "    \n",
    "    if str[s] == a:\n",
    "        c += b\n",
    "    else:\n",
    "        c += str[s]\n",
    "\n",
    "    return r(str, a, b, s+1, e, c)\n",
    "\n",
    "s = 'mangoes banana'\n",
    "r(s, 'a', 'x', 0, len(s)-1)"
   ]
  },
  {
   "cell_type": "code",
   "execution_count": 26,
   "metadata": {},
   "outputs": [
    {
     "data": {
      "text/plain": [
       "'sxrxnj'"
      ]
     },
     "execution_count": 26,
     "metadata": {},
     "output_type": "execute_result"
    }
   ],
   "source": [
    "def rep(s, c1, c2):\n",
    "    if len(s) == 1:\n",
    "        return s\n",
    "    \n",
    "    n = rep(s[1:], c1, c2)\n",
    "\n",
    "    if s[0] == c1:\n",
    "        return c2+n\n",
    "    else:\n",
    "        return s[0]+n\n",
    "\n",
    "rep('saranj', 'a', 'x')"
   ]
  },
  {
   "cell_type": "code",
   "execution_count": 3,
   "metadata": {},
   "outputs": [
    {
     "data": {
      "text/plain": [
       "'sxrxnj'"
      ]
     },
     "execution_count": 3,
     "metadata": {},
     "output_type": "execute_result"
    }
   ],
   "source": [
    "def replace(s, c1, c2):\n",
    "    if len(s) == 0:\n",
    "        return s\n",
    "    \n",
    "    if s[0] == c1:\n",
    "        return c2 + replace(s[1:], c1, c2)\n",
    "    \n",
    "    return s[0] + replace(s[1:], c1, c2)\n",
    "\n",
    "replace('saranj', 'a', 'x')"
   ]
  },
  {
   "cell_type": "code",
   "execution_count": 6,
   "metadata": {},
   "outputs": [
    {
     "data": {
      "text/plain": [
       "'srnj'"
      ]
     },
     "execution_count": 6,
     "metadata": {},
     "output_type": "execute_result"
    }
   ],
   "source": [
    "def remove(s, c1):\n",
    "    if len(s) == 0:\n",
    "        return s\n",
    "    \n",
    "    if s[0] == c1:\n",
    "        return remove(s[1:], c1)\n",
    "    \n",
    "    return s[0] + remove(s[1:], c1)\n",
    "\n",
    "remove('saranj', 'a')"
   ]
  },
  {
   "cell_type": "code",
   "execution_count": 5,
   "metadata": {},
   "outputs": [],
   "source": [
    "s = 'PI hello PI my name is PI welcome to PI'\n",
    "\n",
    "\n",
    "def replacePI(s):\n",
    "    if len(s) < 2:\n",
    "        return s\n",
    "    \n",
    "    if s[:2] == 'PI':\n",
    "        return '3.14' + replacePI(s[2:])\n",
    "    \n",
    "    return s[0] + replacePI(s[1:])"
   ]
  },
  {
   "cell_type": "code",
   "execution_count": 5,
   "metadata": {},
   "outputs": [
    {
     "data": {
      "text/plain": [
       "'3.14 hello 3.14 my name is 3.14 welcome to 3.14'"
      ]
     },
     "execution_count": 5,
     "metadata": {},
     "output_type": "execute_result"
    }
   ],
   "source": [
    "replacePI(s)"
   ]
  },
  {
   "cell_type": "code",
   "execution_count": 10,
   "metadata": {},
   "outputs": [],
   "source": [
    "def replaceGeneric(s, c1, c2):\n",
    "    l = len(c1)\n",
    "    if len(s) < l:\n",
    "        return s\n",
    "    \n",
    "    if s[:l] == c1:\n",
    "        return c2 + replaceGeneric(s[l:], c1, c2)\n",
    "    \n",
    "    return s[0] + replaceGeneric(s[1:], c1, c2)"
   ]
  },
  {
   "cell_type": "code",
   "execution_count": 12,
   "metadata": {},
   "outputs": [
    {
     "data": {
      "text/plain": [
       "'_workmqnm_selp_'"
      ]
     },
     "execution_count": 12,
     "metadata": {},
     "output_type": "execute_result"
    }
   ],
   "source": [
    "replaceGeneric('manworkmqnmmanselpman', 'man', '_')"
   ]
  },
  {
   "cell_type": "code",
   "execution_count": 7,
   "metadata": {},
   "outputs": [],
   "source": [
    "s = 'PI welcome hello PI my name is PI welcome to PI'\n",
    "\n",
    "\n",
    "def removeWord(s, c1, c2, ns=''):\n",
    "    lc1 = len(c1)\n",
    "\n",
    "    if len(s) < lc1:\n",
    "        ns += s\n",
    "        return ns\n",
    "   \n",
    "    if s[:lc1] == c1:\n",
    "        ns += c2\n",
    "        return removeWord(s[lc1:], c1, c2, ns)\n",
    "    \n",
    "    ns += s[0]\n",
    "    return removeWord(s[1:], c1, c2, ns)"
   ]
  },
  {
   "cell_type": "code",
   "execution_count": 8,
   "metadata": {},
   "outputs": [
    {
     "data": {
      "text/plain": [
       "'PI * hello PI my name is PI * to PI'"
      ]
     },
     "execution_count": 8,
     "metadata": {},
     "output_type": "execute_result"
    }
   ],
   "source": [
    "removeWord(s, 'welcome', '*')"
   ]
  },
  {
   "cell_type": "code",
   "execution_count": 9,
   "metadata": {},
   "outputs": [
    {
     "data": {
      "text/plain": [
       "'_workmqnm_selp_'"
      ]
     },
     "execution_count": 9,
     "metadata": {},
     "output_type": "execute_result"
    }
   ],
   "source": [
    "removeWord('manworkmqnmmanselpman', 'man', '_')"
   ]
  },
  {
   "cell_type": "code",
   "execution_count": 1,
   "metadata": {},
   "outputs": [],
   "source": [
    "def removeDuplicate(s):\n",
    "    if len(s) == 1:\n",
    "        return s\n",
    "    \n",
    "    if s[0] == s[1]:\n",
    "        return removeDuplicate(s[1:])\n",
    "    \n",
    "    return s[0] + removeDuplicate(s[1:])"
   ]
  },
  {
   "cell_type": "code",
   "execution_count": 2,
   "metadata": {},
   "outputs": [
    {
     "data": {
      "text/plain": [
       "'xyxyz'"
      ]
     },
     "execution_count": 2,
     "metadata": {},
     "output_type": "execute_result"
    }
   ],
   "source": [
    "removeDuplicate('xxxyyxyyzzzzzz')"
   ]
  },
  {
   "cell_type": "code",
   "execution_count": 3,
   "metadata": {},
   "outputs": [
    {
     "data": {
      "text/plain": [
       "'abcd'"
      ]
     },
     "execution_count": 3,
     "metadata": {},
     "output_type": "execute_result"
    }
   ],
   "source": [
    "removeDuplicate('abcd')"
   ]
  }
 ],
 "metadata": {
  "kernelspec": {
   "display_name": "Python 3",
   "language": "python",
   "name": "python3"
  },
  "language_info": {
   "codemirror_mode": {
    "name": "ipython",
    "version": 3
   },
   "file_extension": ".py",
   "mimetype": "text/x-python",
   "name": "python",
   "nbconvert_exporter": "python",
   "pygments_lexer": "ipython3",
   "version": "3.10.12"
  },
  "orig_nbformat": 4,
  "vscode": {
   "interpreter": {
    "hash": "f1af8e9e7b81bd0acb2c0a8783f2dbe2b614545b4102e8f472ef55e374047c4b"
   }
  }
 },
 "nbformat": 4,
 "nbformat_minor": 2
}
