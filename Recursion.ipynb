{
 "cells": [
  {
   "attachments": {},
   "cell_type": "markdown",
   "metadata": {},
   "source": [
    "<p>Factorial function</p>"
   ]
  },
  {
   "cell_type": "code",
   "execution_count": 1,
   "metadata": {},
   "outputs": [],
   "source": [
    "def factorial(n): # induction hypothesis\n",
    "    if n == 1: # base case\n",
    "        return 1\n",
    "    return n*factorial(n-1) # induction step"
   ]
  },
  {
   "cell_type": "code",
   "execution_count": 2,
   "metadata": {},
   "outputs": [
    {
     "name": "stdout",
     "output_type": "stream",
     "text": [
      "3628800\n"
     ]
    }
   ],
   "source": [
    "print(factorial(10))"
   ]
  },
  {
   "cell_type": "code",
   "execution_count": 3,
   "metadata": {},
   "outputs": [
    {
     "name": "stdout",
     "output_type": "stream",
     "text": [
      "3628800\n"
     ]
    }
   ],
   "source": [
    "fact = 1\n",
    "for i in range(1, 11):\n",
    "    fact*=i\n",
    "\n",
    "print(fact)\n"
   ]
  },
  {
   "attachments": {},
   "cell_type": "markdown",
   "metadata": {},
   "source": [
    "<p>Sum of natural number</p>"
   ]
  },
  {
   "cell_type": "code",
   "execution_count": 4,
   "metadata": {},
   "outputs": [
    {
     "name": "stdout",
     "output_type": "stream",
     "text": [
      "55\n"
     ]
    }
   ],
   "source": [
    "s = 0\n",
    "\n",
    "for i in range(11):\n",
    "    s += i\n",
    "\n",
    "print(s)"
   ]
  },
  {
   "cell_type": "code",
   "execution_count": 5,
   "metadata": {},
   "outputs": [
    {
     "data": {
      "text/plain": [
       "55"
      ]
     },
     "execution_count": 5,
     "metadata": {},
     "output_type": "execute_result"
    }
   ],
   "source": [
    "def sumNatualNo(n):\n",
    "    if n == 1:\n",
    "        return 1\n",
    "    return n+sumNatualNo(n-1)\n",
    "\n",
    "sumNatualNo(10)"
   ]
  },
  {
   "attachments": {},
   "cell_type": "markdown",
   "metadata": {},
   "source": [
    "<p>Power of numbers</p>"
   ]
  },
  {
   "cell_type": "code",
   "execution_count": 6,
   "metadata": {},
   "outputs": [],
   "source": [
    "def power(n, p):\n",
    "    if p == 0:\n",
    "        return 1\n",
    "    \n",
    "    return n*power(n, p-1)"
   ]
  },
  {
   "cell_type": "code",
   "execution_count": 7,
   "metadata": {},
   "outputs": [
    {
     "name": "stdout",
     "output_type": "stream",
     "text": [
      "2\n"
     ]
    }
   ],
   "source": [
    "print(power(2, 1))"
   ]
  },
  {
   "attachments": {},
   "cell_type": "markdown",
   "metadata": {},
   "source": [
    "<p>Print Number from 1 to 10 & 10 to 1</p>"
   ]
  },
  {
   "cell_type": "code",
   "execution_count": 8,
   "metadata": {},
   "outputs": [],
   "source": [
    "def print_1_10(n):\n",
    "    if n == 0:\n",
    "        return\n",
    "    print_1_10(n - 1)\n",
    "    print(n, end=\" \")"
   ]
  },
  {
   "cell_type": "code",
   "execution_count": 9,
   "metadata": {},
   "outputs": [
    {
     "name": "stdout",
     "output_type": "stream",
     "text": [
      "1 2 3 4 5 6 7 8 9 10 "
     ]
    }
   ],
   "source": [
    "print_1_10(10)"
   ]
  },
  {
   "cell_type": "code",
   "execution_count": 30,
   "metadata": {},
   "outputs": [],
   "source": [
    "def print_10_1(n):\n",
    "    if n == 0:\n",
    "        return\n",
    "    print(n, end=\" \")\n",
    "    print_10_1(n - 1)\n",
    "    "
   ]
  },
  {
   "cell_type": "code",
   "execution_count": 31,
   "metadata": {},
   "outputs": [
    {
     "name": "stdout",
     "output_type": "stream",
     "text": [
      "10 9 8 7 6 5 4 3 2 1 "
     ]
    }
   ],
   "source": [
    "print_10_1(10)"
   ]
  },
  {
   "attachments": {},
   "cell_type": "markdown",
   "metadata": {},
   "source": [
    "<p>Fibonacii series</p>"
   ]
  },
  {
   "cell_type": "code",
   "execution_count": 12,
   "metadata": {},
   "outputs": [
    {
     "name": "stdout",
     "output_type": "stream",
     "text": [
      "1 1 2 3 5 8 13 21 34 55 "
     ]
    }
   ],
   "source": [
    "f = 1\n",
    "s = 1\n",
    "\n",
    "for i in range(10):\n",
    "    print(f, end=\" \")\n",
    "    f, s = s, f+s"
   ]
  },
  {
   "cell_type": "code",
   "execution_count": 13,
   "metadata": {},
   "outputs": [],
   "source": [
    "def fibonaci_series(n):\n",
    "    if n == 0:\n",
    "        return 0\n",
    "\n",
    "    if n == 1:\n",
    "        return 1\n",
    "\n",
    "    return fibonaci_series(n-1) + fibonaci_series(n-2)"
   ]
  },
  {
   "cell_type": "code",
   "execution_count": 14,
   "metadata": {},
   "outputs": [
    {
     "data": {
      "text/plain": [
       "55"
      ]
     },
     "execution_count": 14,
     "metadata": {},
     "output_type": "execute_result"
    }
   ],
   "source": [
    "fibonaci_series(10)"
   ]
  },
  {
   "attachments": {},
   "cell_type": "markdown",
   "metadata": {},
   "source": [
    "<p> To check if the list is sorted </p>"
   ]
  },
  {
   "cell_type": "code",
   "execution_count": 15,
   "metadata": {},
   "outputs": [],
   "source": [
    "def isSorted(a):\n",
    "    if len(a) <= 1:\n",
    "        return True\n",
    "    \n",
    "    if a[0] > a[1]:\n",
    "        return False\n",
    "\n",
    "    return isSorted(a[1:])"
   ]
  },
  {
   "cell_type": "code",
   "execution_count": 16,
   "metadata": {},
   "outputs": [
    {
     "name": "stdout",
     "output_type": "stream",
     "text": [
      "False\n"
     ]
    }
   ],
   "source": [
    "arr = [10, 2, 3]\n",
    "print(isSorted(arr))"
   ]
  },
  {
   "cell_type": "code",
   "execution_count": 17,
   "metadata": {},
   "outputs": [
    {
     "name": "stdout",
     "output_type": "stream",
     "text": [
      "True\n"
     ]
    }
   ],
   "source": [
    "arr = [0, 2]\n",
    "print(isSorted(arr))"
   ]
  },
  {
   "cell_type": "code",
   "execution_count": 34,
   "metadata": {},
   "outputs": [
    {
     "name": "stdout",
     "output_type": "stream",
     "text": [
      "False\n"
     ]
    }
   ],
   "source": [
    "def sortArr(si, ei):\n",
    "    if si >= ei :\n",
    "        return True\n",
    "    \n",
    "    if arr[si] > arr[si+1]:\n",
    "        return False\n",
    "    \n",
    "    return sortArr(si+1, ei)\n",
    "\n",
    "arr = [11, 2]\n",
    "s = 0\n",
    "e = len(arr) - 1\n",
    "print(sortArr(s, e))"
   ]
  },
  {
   "attachments": {},
   "cell_type": "markdown",
   "metadata": {},
   "source": [
    "<p>Sum of element of array</p>"
   ]
  },
  {
   "cell_type": "code",
   "execution_count": 19,
   "metadata": {},
   "outputs": [
    {
     "name": "stdout",
     "output_type": "stream",
     "text": [
      "13\n"
     ]
    }
   ],
   "source": [
    "summ = 0\n",
    "for i in arr:\n",
    "    summ += i\n",
    "print(summ)"
   ]
  },
  {
   "cell_type": "code",
   "execution_count": 20,
   "metadata": {},
   "outputs": [],
   "source": [
    "def sumArray(a):\n",
    "    if len(a) == 0:\n",
    "        return 0\n",
    "\n",
    "    return a[0] + sumArray(a[1:])"
   ]
  },
  {
   "cell_type": "code",
   "execution_count": 21,
   "metadata": {},
   "outputs": [
    {
     "name": "stdout",
     "output_type": "stream",
     "text": [
      "13\n"
     ]
    }
   ],
   "source": [
    "print(sumArray(arr))"
   ]
  },
  {
   "cell_type": "code",
   "execution_count": 22,
   "metadata": {},
   "outputs": [
    {
     "name": "stdout",
     "output_type": "stream",
     "text": [
      "29\n"
     ]
    }
   ],
   "source": [
    "arr = [7, 4, 9, 11, -2]\n",
    "s = 0\n",
    "e = len(arr) - 1\n",
    "def sumArray(si, ei, summ):\n",
    "    if si > ei:\n",
    "        return summ\n",
    "\n",
    "    summ += arr[si]\n",
    "    return sumArray(si+1, ei, summ)\n",
    "\n",
    "print(sumArray(s, e, 0))"
   ]
  },
  {
   "attachments": {},
   "cell_type": "markdown",
   "metadata": {},
   "source": [
    "<p>Searching for element in list</p>"
   ]
  },
  {
   "cell_type": "code",
   "execution_count": 23,
   "metadata": {},
   "outputs": [
    {
     "data": {
      "text/plain": [
       "2"
      ]
     },
     "execution_count": 23,
     "metadata": {},
     "output_type": "execute_result"
    }
   ],
   "source": [
    "def searchstart(si, ei, x):\n",
    "    if si > ei:\n",
    "        return -1\n",
    "\n",
    "    if arr[si] == x:\n",
    "        return si\n",
    "    \n",
    "    return searchstart(si+1, ei, x)\n",
    "\n",
    "arr = [7, 4, 11, -1, 9, 11, -2]\n",
    "s = 0\n",
    "e = len(arr) - 1 \n",
    "\n",
    "searchstart(s, e, 11)"
   ]
  },
  {
   "cell_type": "code",
   "execution_count": 24,
   "metadata": {},
   "outputs": [
    {
     "data": {
      "text/plain": [
       "5"
      ]
     },
     "execution_count": 24,
     "metadata": {},
     "output_type": "execute_result"
    }
   ],
   "source": [
    "def searchLast(si, ei, x):\n",
    "    if si > ei:\n",
    "        return -1\n",
    "\n",
    "    if arr[ei] == x:\n",
    "        return ei\n",
    "    \n",
    "    return searchLast(si, ei-1, x)\n",
    "\n",
    "arr = [7, 4, 11, -1, 9, 11, -2]\n",
    "s = 0\n",
    "e = len(arr) - 1 \n",
    "\n",
    "searchLast(s, e, 11)"
   ]
  },
  {
   "cell_type": "code",
   "execution_count": 25,
   "metadata": {},
   "outputs": [
    {
     "data": {
      "text/plain": [
       "3"
      ]
     },
     "execution_count": 25,
     "metadata": {},
     "output_type": "execute_result"
    }
   ],
   "source": [
    "def searchStartCopy(a, k):\n",
    "    if len(a) < 0:\n",
    "        return -1\n",
    "\n",
    "    if a[0] == k:\n",
    "        return 1\n",
    "    \n",
    "    f = searchStartCopy(a[1:], k)\n",
    "\n",
    "    if f == -1:\n",
    "        return -1\n",
    "    else:\n",
    "        return f+1\n",
    "\n",
    "a = [7, 4, 9, 11, -2]\n",
    "\n",
    "searchStartCopy(a, 9)"
   ]
  },
  {
   "cell_type": "code",
   "execution_count": 26,
   "metadata": {},
   "outputs": [
    {
     "data": {
      "text/plain": [
       "0"
      ]
     },
     "execution_count": 26,
     "metadata": {},
     "output_type": "execute_result"
    }
   ],
   "source": [
    "def lastIndexCopy(a, k):\n",
    "    if len(a) == 0:\n",
    "        return -1\n",
    "\n",
    "    if a[-1] == k:\n",
    "        return 0\n",
    "\n",
    "    LI = lastIndexCopy(a[:-1], k)\n",
    "\n",
    "    if LI == -1:\n",
    "        return -1\n",
    "    else:\n",
    "        return LI+1\n",
    "    \n",
    "\n",
    "a = [7, 4, 9, 11, -2]\n",
    "\n",
    "lastIndexCopy(a, -2)"
   ]
  },
  {
   "cell_type": "code",
   "execution_count": 36,
   "metadata": {},
   "outputs": [
    {
     "name": "stdout",
     "output_type": "stream",
     "text": [
      "bbbbssssbbbbbbbbbbbbb\n"
     ]
    }
   ],
   "source": [
    "def replace(s, c1, c2, n=''):\n",
    "    if len(s) == 0:\n",
    "        return n\n",
    "\n",
    "    if s[0] == c1:\n",
    "        n+=c2\n",
    "    else:\n",
    "        n+=s[0]        \n",
    "    \n",
    "        \n",
    "    return replace(s[1:], c1, c2, n)\n",
    "\n",
    "\n",
    "print(replace('ababssssababababababa', 'a', 'b'))"
   ]
  },
  {
   "cell_type": "code",
   "execution_count": 28,
   "metadata": {},
   "outputs": [
    {
     "data": {
      "text/plain": [
       "'sxrxnj'"
      ]
     },
     "execution_count": 28,
     "metadata": {},
     "output_type": "execute_result"
    }
   ],
   "source": [
    "def rep(s, c1, c2):\n",
    "    if len(s) == 0:\n",
    "        return s\n",
    "    \n",
    "    n = rep(s[1:], c1, c2)\n",
    "\n",
    "    if s[0] == c1:\n",
    "        return c2+n\n",
    "    else:\n",
    "        return s[0]+n\n",
    "\n",
    "rep('saranj', 'a', 'x')"
   ]
  },
  {
   "cell_type": "code",
   "execution_count": 1,
   "metadata": {},
   "outputs": [],
   "source": [
    "s = 'PI hello PI my name is PI welcome to PI'\n",
    "\n",
    "\n",
    "def replacePI(s):\n",
    "    if len(s) < 2:\n",
    "        return s\n",
    "    \n",
    "    if s[:2] == 'PI':\n",
    "        return '3.14' + replacePI(s[2:])\n",
    "    \n",
    "    return s[0] + replacePI(s[1:])"
   ]
  },
  {
   "cell_type": "code",
   "execution_count": 2,
   "metadata": {},
   "outputs": [
    {
     "data": {
      "text/plain": [
       "'3.14 hello 3.14 my name is 3.14 welcome to 3.14'"
      ]
     },
     "execution_count": 2,
     "metadata": {},
     "output_type": "execute_result"
    }
   ],
   "source": [
    "replacePI(s)"
   ]
  }
 ],
 "metadata": {
  "kernelspec": {
   "display_name": "Python 3",
   "language": "python",
   "name": "python3"
  },
  "language_info": {
   "codemirror_mode": {
    "name": "ipython",
    "version": 3
   },
   "file_extension": ".py",
   "mimetype": "text/x-python",
   "name": "python",
   "nbconvert_exporter": "python",
   "pygments_lexer": "ipython3",
   "version": "3.10.12"
  },
  "orig_nbformat": 4,
  "vscode": {
   "interpreter": {
    "hash": "f1af8e9e7b81bd0acb2c0a8783f2dbe2b614545b4102e8f472ef55e374047c4b"
   }
  }
 },
 "nbformat": 4,
 "nbformat_minor": 2
}
