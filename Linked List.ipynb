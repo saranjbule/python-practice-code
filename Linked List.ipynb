{
  "metadata": {
    "language_info": {
      "codemirror_mode": {
        "name": "python",
        "version": 3
      },
      "file_extension": ".py",
      "mimetype": "text/x-python",
      "name": "python",
      "nbconvert_exporter": "python",
      "pygments_lexer": "ipython3",
      "version": "3.8"
    },
    "kernelspec": {
      "name": "python",
      "display_name": "Python (Pyodide)",
      "language": "python"
    }
  },
  "nbformat_minor": 4,
  "nbformat": 4,
  "cells": [
    {
      "cell_type": "markdown",
      "source": "<h1>Singly Linked List</h1>",
      "metadata": {}
    },
    {
      "cell_type": "code",
      "source": "class Node:\n    def __init__(self, val, nxt=None):\n        self.val = val\n        self.nxt = nxt\n        \nip = [2, 9, 3, 4, 5]\nhead = None\ncurr = None\n\nfor i in ip:\n    n = Node(i)\n    if head:\n        curr.nxt = n\n        curr = n\n    else:\n        head = n\n        curr = n\n    \nprint(head, curr)\n\nwhile head:\n    print(head, head.val, head.nxt)\n    head = head.nxt",
      "metadata": {
        "trusted": true
      },
      "execution_count": 14,
      "outputs": [
        {
          "name": "stdout",
          "text": "<__main__.Node object at 0x2bdac98> <__main__.Node object at 0x30a6190>\n<__main__.Node object at 0x2bdac98> 2 <__main__.Node object at 0xc17988>\n<__main__.Node object at 0xc17988> 9 <__main__.Node object at 0x2ef09d0>\n<__main__.Node object at 0x2ef09d0> 3 <__main__.Node object at 0x32af9c8>\n<__main__.Node object at 0x32af9c8> 4 <__main__.Node object at 0x30a6190>\n<__main__.Node object at 0x30a6190> 5 None\n",
          "output_type": "stream"
        }
      ]
    },
    {
      "cell_type": "markdown",
      "source": "<h1>Circular Linked List</h1",
      "metadata": {}
    },
    {
      "cell_type": "code",
      "source": "class Node:\n    def __init__(self, val, nxt=None):\n        self.val = val\n        self.nxt = nxt\n        \nip = [2, 9, 3, 4, 5]\nhead = None\ncurr = None\n\nfor i in ip:\n    n = Node(i)\n    if head:\n        curr.nxt = n\n        curr = n\n    else:\n        head = n\n        curr = n\n        \ncurr.nxt= head\n\nfor i in range(len(ip)):\n    print(head, head.val, head.nxt)\n    head = head.nxt",
      "metadata": {
        "trusted": true
      },
      "execution_count": 2,
      "outputs": [
        {
          "name": "stdout",
          "text": "<__main__.Node object at 0x2be23a0> 2 <__main__.Node object at 0x1415ae8>\n<__main__.Node object at 0x1415ae8> 9 <__main__.Node object at 0x19142c8>\n<__main__.Node object at 0x19142c8> 3 <__main__.Node object at 0x8ea1c8>\n<__main__.Node object at 0x8ea1c8> 4 <__main__.Node object at 0x1913db0>\n<__main__.Node object at 0x1913db0> 5 <__main__.Node object at 0x2be23a0>\n",
          "output_type": "stream"
        }
      ]
    },
    {
      "cell_type": "markdown",
      "source": "<h1>Doubly Linked List</h1>",
      "metadata": {}
    },
    {
      "cell_type": "code",
      "source": "class Node:\n    def __init__(self, val, pre=None, nxt=None):\n        self.val = val\n        self.pre = pre\n        self.nxt = nxt\n        \nip = [2, 9, 3, 4, 5]\nhead = None\ncurr = None\n\nfor i in ip:\n    n = Node(i)\n    if head:\n        curr.nxt = n\n        n.pre = curr\n        curr = n\n    else:\n        head = n\n        curr = n\n\nprint(head, curr)\nwhile head:\n    print(head, head.pre, head.val, head.nxt)\n    head = head.nxt",
      "metadata": {
        "trusted": true
      },
      "execution_count": 3,
      "outputs": [
        {
          "name": "stdout",
          "text": "<__main__.Node object at 0x19265a8> <__main__.Node object at 0x287fcc0>\n<__main__.Node object at 0x19265a8> None 2 <__main__.Node object at 0x2895350>\n<__main__.Node object at 0x2895350> <__main__.Node object at 0x19265a8> 9 <__main__.Node object at 0x242aa18>\n<__main__.Node object at 0x242aa18> <__main__.Node object at 0x2895350> 3 <__main__.Node object at 0x2cbf040>\n<__main__.Node object at 0x2cbf040> <__main__.Node object at 0x242aa18> 4 <__main__.Node object at 0x287fcc0>\n<__main__.Node object at 0x287fcc0> <__main__.Node object at 0x2cbf040> 5 None\n",
          "output_type": "stream"
        }
      ]
    },
    {
      "cell_type": "markdown",
      "source": "<h1>Doubly Circular Linked List</h1>",
      "metadata": {}
    },
    {
      "cell_type": "code",
      "source": "class Node:\n    def __init__(self, val, pre=None, nxt=None):\n        self.val = val\n        self.pre = pre\n        self.nxt = nxt\n        \nip = [2, 9, 3, 4, 5]\nhead = None\ncurr = None\n\nfor i in ip:\n    n = Node(i)\n    if head:\n        curr.nxt = n\n        n.pre = curr\n        curr = n\n    else:\n        head = n\n        curr = n\n\nhead.pre = curr\ncurr.nxt = head\n\nprint(head, curr)\nfor i in range(len(ip)):\n    print(head, head.pre, head.val, head.nxt)\n    head = head.nxt",
      "metadata": {
        "trusted": true
      },
      "execution_count": 1,
      "outputs": [
        {
          "name": "stdout",
          "text": "<__main__.Node object at 0x18f49c8> <__main__.Node object at 0x2bf8c00>\n<__main__.Node object at 0x18f49c8> <__main__.Node object at 0x2bf8c00> 2 <__main__.Node object at 0x1512fa8>\n<__main__.Node object at 0x1512fa8> <__main__.Node object at 0x18f49c8> 9 <__main__.Node object at 0x2bc5990>\n<__main__.Node object at 0x2bc5990> <__main__.Node object at 0x1512fa8> 3 <__main__.Node object at 0x31a5f58>\n<__main__.Node object at 0x31a5f58> <__main__.Node object at 0x2bc5990> 4 <__main__.Node object at 0x2bf8c00>\n<__main__.Node object at 0x2bf8c00> <__main__.Node object at 0x31a5f58> 5 <__main__.Node object at 0x18f49c8>\n",
          "output_type": "stream"
        }
      ]
    },
    {
      "cell_type": "code",
      "source": "",
      "metadata": {},
      "execution_count": null,
      "outputs": []
    }
  ]
}