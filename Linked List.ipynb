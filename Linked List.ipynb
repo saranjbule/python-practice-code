{
  "cells": [
    {
      "cell_type": "markdown",
      "metadata": {},
      "source": [
        "<h1>Singly Linked List</h1>"
      ]
    },
    {
      "cell_type": "code",
      "execution_count": 1,
      "metadata": {
        "trusted": true
      },
      "outputs": [
        {
          "name": "stdout",
          "output_type": "stream",
          "text": [
            "<__main__.Node object at 0x00000139CC5245B0> <__main__.Node object at 0x00000139CC527E80>\n",
            "<__main__.Node object at 0x00000139CC5245B0> 2 <__main__.Node object at 0x00000139CC527CA0>\n",
            "<__main__.Node object at 0x00000139CC527CA0> 9 <__main__.Node object at 0x00000139CC527F40>\n",
            "<__main__.Node object at 0x00000139CC527F40> 3 <__main__.Node object at 0x00000139CC527EE0>\n",
            "<__main__.Node object at 0x00000139CC527EE0> 4 <__main__.Node object at 0x00000139CC527E80>\n",
            "<__main__.Node object at 0x00000139CC527E80> 5 None\n"
          ]
        }
      ],
      "source": [
        "class Node:\n",
        "    def __init__(self, val, nxt=None):\n",
        "        self.val = val\n",
        "        self.nxt = nxt\n",
        "        \n",
        "ip = [2, 9, 3, 4, 5]\n",
        "head = None\n",
        "curr = None\n",
        "\n",
        "for i in ip:\n",
        "    n = Node(i)\n",
        "    \n",
        "    if head:\n",
        "        curr.nxt = n\n",
        "    else:\n",
        "        head = n\n",
        "    \n",
        "    curr = n\n",
        "    \n",
        "print(head, curr)\n",
        "\n",
        "while head:\n",
        "    print(head, head.val, head.nxt)\n",
        "    head = head.nxt"
      ]
    },
    {
      "cell_type": "markdown",
      "metadata": {},
      "source": [
        "<h1>Circular Linked List</h1"
      ]
    },
    {
      "cell_type": "code",
      "execution_count": 2,
      "metadata": {
        "trusted": true
      },
      "outputs": [
        {
          "name": "stdout",
          "output_type": "stream",
          "text": [
            "<__main__.Node object at 0x2be23a0> 2 <__main__.Node object at 0x1415ae8>\n",
            "<__main__.Node object at 0x1415ae8> 9 <__main__.Node object at 0x19142c8>\n",
            "<__main__.Node object at 0x19142c8> 3 <__main__.Node object at 0x8ea1c8>\n",
            "<__main__.Node object at 0x8ea1c8> 4 <__main__.Node object at 0x1913db0>\n",
            "<__main__.Node object at 0x1913db0> 5 <__main__.Node object at 0x2be23a0>\n"
          ]
        }
      ],
      "source": [
        "class Node:\n",
        "    def __init__(self, val, nxt=None):\n",
        "        self.val = val\n",
        "        self.nxt = nxt\n",
        "        \n",
        "ip = [2, 9, 3, 4, 5]\n",
        "head = None\n",
        "curr = None\n",
        "\n",
        "for i in ip:\n",
        "    n = Node(i)\n",
        "\n",
        "    if head:\n",
        "        curr.nxt = n\n",
        "    else:\n",
        "        head = n\n",
        "        \n",
        "    curr = n\n",
        "        \n",
        "curr.nxt= head\n",
        "\n",
        "for i in range(len(ip)):\n",
        "    print(head, head.val, head.nxt)\n",
        "    head = head.nxt"
      ]
    },
    {
      "cell_type": "markdown",
      "metadata": {},
      "source": [
        "<h1>Doubly Linked List</h1>"
      ]
    },
    {
      "cell_type": "code",
      "execution_count": 3,
      "metadata": {
        "trusted": true
      },
      "outputs": [
        {
          "name": "stdout",
          "output_type": "stream",
          "text": [
            "<__main__.Node object at 0x19265a8> <__main__.Node object at 0x287fcc0>\n",
            "<__main__.Node object at 0x19265a8> None 2 <__main__.Node object at 0x2895350>\n",
            "<__main__.Node object at 0x2895350> <__main__.Node object at 0x19265a8> 9 <__main__.Node object at 0x242aa18>\n",
            "<__main__.Node object at 0x242aa18> <__main__.Node object at 0x2895350> 3 <__main__.Node object at 0x2cbf040>\n",
            "<__main__.Node object at 0x2cbf040> <__main__.Node object at 0x242aa18> 4 <__main__.Node object at 0x287fcc0>\n",
            "<__main__.Node object at 0x287fcc0> <__main__.Node object at 0x2cbf040> 5 None\n"
          ]
        }
      ],
      "source": [
        "class Node:\n",
        "    def __init__(self, val, pre=None, nxt=None):\n",
        "        self.val = val\n",
        "        self.pre = pre\n",
        "        self.nxt = nxt\n",
        "        \n",
        "ip = [2, 9, 3, 4, 5]\n",
        "head = None\n",
        "curr = None\n",
        "\n",
        "for i in ip:\n",
        "    n = Node(i)\n",
        "    if head:\n",
        "        curr.nxt = n\n",
        "        n.pre = curr\n",
        "    else:\n",
        "        head = n\n",
        "    curr = n\n",
        "\n",
        "print(head, curr)\n",
        "while head:\n",
        "    print(head, head.pre, head.val, head.nxt)\n",
        "    head = head.nxt"
      ]
    },
    {
      "cell_type": "markdown",
      "metadata": {},
      "source": [
        "<h1>Doubly Circular Linked List</h1>"
      ]
    },
    {
      "cell_type": "code",
      "execution_count": 1,
      "metadata": {
        "trusted": true
      },
      "outputs": [
        {
          "name": "stdout",
          "output_type": "stream",
          "text": [
            "<__main__.Node object at 0x18f49c8> <__main__.Node object at 0x2bf8c00>\n",
            "<__main__.Node object at 0x18f49c8> <__main__.Node object at 0x2bf8c00> 2 <__main__.Node object at 0x1512fa8>\n",
            "<__main__.Node object at 0x1512fa8> <__main__.Node object at 0x18f49c8> 9 <__main__.Node object at 0x2bc5990>\n",
            "<__main__.Node object at 0x2bc5990> <__main__.Node object at 0x1512fa8> 3 <__main__.Node object at 0x31a5f58>\n",
            "<__main__.Node object at 0x31a5f58> <__main__.Node object at 0x2bc5990> 4 <__main__.Node object at 0x2bf8c00>\n",
            "<__main__.Node object at 0x2bf8c00> <__main__.Node object at 0x31a5f58> 5 <__main__.Node object at 0x18f49c8>\n"
          ]
        }
      ],
      "source": [
        "class Node:\n",
        "    def __init__(self, val, pre=None, nxt=None):\n",
        "        self.val = val\n",
        "        self.pre = pre\n",
        "        self.nxt = nxt\n",
        "        \n",
        "ip = [2, 9, 3, 4, 5]\n",
        "head = None\n",
        "curr = None\n",
        "\n",
        "for i in ip:\n",
        "    n = Node(i)\n",
        "    if head:\n",
        "        curr.nxt = n\n",
        "        n.pre = curr\n",
        "        curr = n\n",
        "    else:\n",
        "        head = n\n",
        "        curr = n\n",
        "\n",
        "head.pre = curr\n",
        "curr.nxt = head\n",
        "\n",
        "print(head, curr)\n",
        "for i in range(len(ip)):\n",
        "    print(head, head.pre, head.val, head.nxt)\n",
        "    head = head.nxt"
      ]
    }
  ],
  "metadata": {
    "kernelspec": {
      "display_name": "Python 3",
      "language": "python",
      "name": "python3"
    },
    "language_info": {
      "codemirror_mode": {
        "name": "ipython",
        "version": 3
      },
      "file_extension": ".py",
      "mimetype": "text/x-python",
      "name": "python",
      "nbconvert_exporter": "python",
      "pygments_lexer": "ipython3",
      "version": "3.10.9 (tags/v3.10.9:1dd9be6, Dec  6 2022, 20:01:21) [MSC v.1934 64 bit (AMD64)]"
    },
    "vscode": {
      "interpreter": {
        "hash": "f1af8e9e7b81bd0acb2c0a8783f2dbe2b614545b4102e8f472ef55e374047c4b"
      }
    }
  },
  "nbformat": 4,
  "nbformat_minor": 4
}
