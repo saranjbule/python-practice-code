{
  "cells": [
    {
      "cell_type": "markdown",
      "metadata": {},
      "source": [
        "<h1>Singly Linked List</h1>"
      ]
    },
    {
      "cell_type": "code",
      "execution_count": 1,
      "metadata": {
        "trusted": true
      },
      "outputs": [
        {
          "name": "stdout",
          "output_type": "stream",
          "text": [
            "<__main__.Node object at 0x7feebc6ac100> <__main__.Node object at 0x7feebffc35b0>\n",
            "<__main__.Node object at 0x7feebc6ac100> 2 <__main__.Node object at 0x7feebc6adff0>\n",
            "<__main__.Node object at 0x7feebc6adff0> 9 <__main__.Node object at 0x7feec000c370>\n",
            "<__main__.Node object at 0x7feec000c370> 3 <__main__.Node object at 0x7feec000c430>\n",
            "<__main__.Node object at 0x7feec000c430> 4 <__main__.Node object at 0x7feebffc35b0>\n",
            "<__main__.Node object at 0x7feebffc35b0> 5 None\n"
          ]
        }
      ],
      "source": [
        "class Node:\n",
        "    def __init__(self, val, nxt=None):\n",
        "        self.val = val\n",
        "        self.nxt = nxt\n",
        "        \n",
        "ip = [2, 9, 3, 4, 5]\n",
        "head = None\n",
        "curr = None\n",
        "\n",
        "for i in ip:\n",
        "    n = Node(i)\n",
        "    \n",
        "    if head:\n",
        "        curr.nxt = n\n",
        "    else:\n",
        "        head = n\n",
        "    \n",
        "    curr = n\n",
        "    \n",
        "print(head, curr)\n",
        "\n",
        "while head:\n",
        "    print(head, head.val, head.nxt)\n",
        "    head = head.nxt"
      ]
    },
    {
      "cell_type": "markdown",
      "metadata": {},
      "source": [
        "<h1>Circular Linked List</h1"
      ]
    },
    {
      "cell_type": "code",
      "execution_count": 2,
      "metadata": {
        "trusted": true
      },
      "outputs": [
        {
          "name": "stdout",
          "output_type": "stream",
          "text": [
            "<__main__.Node object at 0x7feebc6af040> 2 <__main__.Node object at 0x7feebffc35b0>\n",
            "<__main__.Node object at 0x7feebffc35b0> 9 <__main__.Node object at 0x7feebffc2a70>\n",
            "<__main__.Node object at 0x7feebffc2a70> 3 <__main__.Node object at 0x7feebffc2b30>\n",
            "<__main__.Node object at 0x7feebffc2b30> 4 <__main__.Node object at 0x7feebffc34f0>\n",
            "<__main__.Node object at 0x7feebffc34f0> 5 <__main__.Node object at 0x7feebc6af040>\n"
          ]
        }
      ],
      "source": [
        "class Node:\n",
        "    def __init__(self, val, nxt=None):\n",
        "        self.val = val\n",
        "        self.nxt = nxt\n",
        "        \n",
        "ip = [2, 9, 3, 4, 5]\n",
        "head = None\n",
        "curr = None\n",
        "\n",
        "for i in ip:\n",
        "    n = Node(i)\n",
        "\n",
        "    if head:\n",
        "        curr.nxt = n\n",
        "    else:\n",
        "        head = n\n",
        "        \n",
        "    curr = n\n",
        "        \n",
        "curr.nxt= head\n",
        "\n",
        "for i in range(len(ip)):\n",
        "    print(head, head.val, head.nxt)\n",
        "    head = head.nxt"
      ]
    },
    {
      "cell_type": "markdown",
      "metadata": {},
      "source": [
        "<h1>Doubly Linked List</h1>"
      ]
    },
    {
      "cell_type": "code",
      "execution_count": 3,
      "metadata": {
        "trusted": true
      },
      "outputs": [
        {
          "name": "stdout",
          "output_type": "stream",
          "text": [
            "<__main__.Node object at 0x7feebc6aff40> <__main__.Node object at 0x7feebc6ac5b0>\n",
            "<__main__.Node object at 0x7feebc6aff40> None 2 <__main__.Node object at 0x7feebc6affd0>\n",
            "<__main__.Node object at 0x7feebc6affd0> <__main__.Node object at 0x7feebc6aff40> 9 <__main__.Node object at 0x7feebc6aec50>\n",
            "<__main__.Node object at 0x7feebc6aec50> <__main__.Node object at 0x7feebc6affd0> 3 <__main__.Node object at 0x7feebc6aded0>\n",
            "<__main__.Node object at 0x7feebc6aded0> <__main__.Node object at 0x7feebc6aec50> 4 <__main__.Node object at 0x7feebc6ac5b0>\n",
            "<__main__.Node object at 0x7feebc6ac5b0> <__main__.Node object at 0x7feebc6aded0> 5 None\n"
          ]
        }
      ],
      "source": [
        "class Node:\n",
        "    def __init__(self, val, pre=None, nxt=None):\n",
        "        self.val = val\n",
        "        self.pre = pre\n",
        "        self.nxt = nxt\n",
        "        \n",
        "ip = [2, 9, 3, 4, 5]\n",
        "head = None\n",
        "curr = None\n",
        "\n",
        "for i in ip:\n",
        "    n = Node(i)\n",
        "    if head:\n",
        "        curr.nxt = n\n",
        "        n.pre = curr\n",
        "    else:\n",
        "        head = n\n",
        "    curr = n\n",
        "\n",
        "print(head, curr)\n",
        "while head:\n",
        "    print(head, head.pre, head.val, head.nxt)\n",
        "    head = head.nxt"
      ]
    },
    {
      "cell_type": "markdown",
      "metadata": {},
      "source": [
        "<h1>Doubly Circular Linked List</h1>"
      ]
    },
    {
      "cell_type": "code",
      "execution_count": 4,
      "metadata": {
        "trusted": true
      },
      "outputs": [
        {
          "name": "stdout",
          "output_type": "stream",
          "text": [
            "<__main__.Node object at 0x7feebc6af9d0> <__main__.Node object at 0x7feebffc3f70>\n",
            "<__main__.Node object at 0x7feebc6af9d0> <__main__.Node object at 0x7feebffc3f70> 2 <__main__.Node object at 0x7feebffc25f0>\n",
            "<__main__.Node object at 0x7feebffc25f0> <__main__.Node object at 0x7feebc6af9d0> 9 <__main__.Node object at 0x7feebffc26b0>\n",
            "<__main__.Node object at 0x7feebffc26b0> <__main__.Node object at 0x7feebffc25f0> 3 <__main__.Node object at 0x7feebffc31f0>\n",
            "<__main__.Node object at 0x7feebffc31f0> <__main__.Node object at 0x7feebffc26b0> 4 <__main__.Node object at 0x7feebffc3f70>\n",
            "<__main__.Node object at 0x7feebffc3f70> <__main__.Node object at 0x7feebffc31f0> 5 <__main__.Node object at 0x7feebc6af9d0>\n"
          ]
        }
      ],
      "source": [
        "class Node:\n",
        "    def __init__(self, val, pre=None, nxt=None):\n",
        "        self.val = val\n",
        "        self.pre = pre\n",
        "        self.nxt = nxt\n",
        "        \n",
        "ip = [2, 9, 3, 4, 5]\n",
        "head = None\n",
        "curr = None\n",
        "\n",
        "for i in ip:\n",
        "    n = Node(i)\n",
        "    if head:\n",
        "        curr.nxt = n\n",
        "        n.pre = curr\n",
        "        curr = n\n",
        "    else:\n",
        "        head = n\n",
        "        curr = n\n",
        "\n",
        "head.pre = curr\n",
        "curr.nxt = head\n",
        "\n",
        "print(head, curr)\n",
        "for i in range(len(ip)):\n",
        "    print(head, head.pre, head.val, head.nxt)\n",
        "    head = head.nxt"
      ]
    },
    {
      "attachments": {},
      "cell_type": "markdown",
      "metadata": {},
      "source": [
        "<h1>Singly LinkedList Operations</h1>"
      ]
    },
    {
      "cell_type": "code",
      "execution_count": 5,
      "metadata": {},
      "outputs": [
        {
          "ename": "IndentationError",
          "evalue": "expected an indented block after 'elif' statement on line 79 (4230696152.py, line 81)",
          "output_type": "error",
          "traceback": [
            "\u001b[0;36m  Cell \u001b[0;32mIn[5], line 81\u001b[0;36m\u001b[0m\n\u001b[0;31m    counter += 1\u001b[0m\n\u001b[0m    ^\u001b[0m\n\u001b[0;31mIndentationError\u001b[0m\u001b[0;31m:\u001b[0m expected an indented block after 'elif' statement on line 79\n"
          ]
        }
      ],
      "source": [
        "class Node:\n",
        "    def __init__(self, val):\n",
        "        self.val = val\n",
        "        self.nxt = None\n",
        "\n",
        "# Create a LinkedList\n",
        "def createLL(ip):\n",
        "    head = None\n",
        "    tail = None\n",
        "    for i in ip:\n",
        "        n = Node(i)\n",
        "            \n",
        "        if head == None:\n",
        "            head = n\n",
        "        else:\n",
        "            tail.nxt = n\n",
        "        tail = n\n",
        "    return head, tail\n",
        "\n",
        "# Print a Linkedlist\n",
        "def printLL(head):\n",
        "    while head is not None:\n",
        "        print(f'{head.val} => ', end=\"\")\n",
        "        head = head.nxt\n",
        "    print(None)\n",
        "\n",
        "# Length of a Linkedlist\n",
        "def lengthLL(head):\n",
        "    counter = 0\n",
        "    while head is not None:\n",
        "        counter += 1\n",
        "        head = head.nxt\n",
        "    \n",
        "    return counter\n",
        "\n",
        "# Print i node in Linkedlist\n",
        "def print_i_node(head , i):\n",
        "    counter = 0\n",
        "    while head is not None:\n",
        "        if counter == i:\n",
        "            return head.val\n",
        "        counter += 1\n",
        "        head = head.nxt\n",
        "    return -1\n",
        "\n",
        "# insert at i node in linkedlist starting from 1 to n\n",
        "def insert_i_node(head, i, v):\n",
        "    counter = 1\n",
        "    if i == 0:\n",
        "        return insert_start(v)\n",
        "    else:\n",
        "        while head is not None:\n",
        "            if counter == i:\n",
        "                nextEle = head.nxt\n",
        "                n = Node(v)\n",
        "                n.nxt = nextEle\n",
        "                head.nxt = n\n",
        "                return 1\n",
        "            counter += 1\n",
        "            head = head.nxt\n",
        "    return -1\n",
        "\n",
        "# insert at start of LinkedList\n",
        "def insert_start(v):\n",
        "    global head\n",
        "    n = Node(v)\n",
        "    n.nxt = head\n",
        "    head = n\n",
        "    return head\n",
        "\n",
        "# delete the node from a linkedlist\n",
        "def delete_i_node(head, i):\n",
        "    counter = 0\n",
        "    while head is not None:\n",
        "        if i == 0:\n",
        "            end = head.nxt\n",
        "            del head\n",
        "            return end\n",
        "        elif i == counter:\n",
        "\n",
        "            counter += 1\n",
        "        head = head.nxt\n"
      ]
    },
    {
      "cell_type": "code",
      "execution_count": null,
      "metadata": {},
      "outputs": [
        {
          "name": "stdout",
          "output_type": "stream",
          "text": [
            "<__main__.Node object at 0x000002C5A6D4F640> <__main__.Node object at 0x000002C5A6D4F4F0>\n"
          ]
        }
      ],
      "source": [
        "arr = [23, 3, 4, 54, 3]\n",
        "head, tail = createLL(arr)\n",
        "print(head, tail)\n"
      ]
    },
    {
      "cell_type": "code",
      "execution_count": null,
      "metadata": {},
      "outputs": [
        {
          "name": "stdout",
          "output_type": "stream",
          "text": [
            "23 => 3 => 4 => 54 => 3 => None\n"
          ]
        }
      ],
      "source": [
        "printLL(head)\n"
      ]
    },
    {
      "cell_type": "code",
      "execution_count": null,
      "metadata": {},
      "outputs": [
        {
          "data": {
            "text/plain": [
              "5"
            ]
          },
          "execution_count": 15,
          "metadata": {},
          "output_type": "execute_result"
        }
      ],
      "source": [
        "lengthLL(head)\n"
      ]
    },
    {
      "cell_type": "code",
      "execution_count": null,
      "metadata": {},
      "outputs": [
        {
          "data": {
            "text/plain": [
              "-1"
            ]
          },
          "execution_count": 16,
          "metadata": {},
          "output_type": "execute_result"
        }
      ],
      "source": [
        "print_i_node(head, 14)"
      ]
    },
    {
      "cell_type": "code",
      "execution_count": null,
      "metadata": {},
      "outputs": [
        {
          "name": "stdout",
          "output_type": "stream",
          "text": [
            "7 => 23 => 3 => 4 => 54 => 3 => None\n"
          ]
        }
      ],
      "source": [
        "insert_start(7)\n",
        "printLL(head)"
      ]
    },
    {
      "cell_type": "code",
      "execution_count": null,
      "metadata": {},
      "outputs": [
        {
          "data": {
            "text/plain": [
              "1"
            ]
          },
          "execution_count": 52,
          "metadata": {},
          "output_type": "execute_result"
        }
      ],
      "source": [
        "insert_i_node(head, 1, 9)\n"
      ]
    },
    {
      "cell_type": "code",
      "execution_count": null,
      "metadata": {},
      "outputs": [
        {
          "name": "stdout",
          "output_type": "stream",
          "text": [
            "23 => 9 => 3 => 4 => 54 => 3 => None\n"
          ]
        }
      ],
      "source": [
        "printLL(head)"
      ]
    },
    {
      "cell_type": "code",
      "execution_count": null,
      "metadata": {},
      "outputs": [
        {
          "name": "stdout",
          "output_type": "stream",
          "text": [
            "23 => 9 => 3 => 4 => 54 => 3 => 50 => None\n"
          ]
        }
      ],
      "source": [
        "insert_i_node(head, 6, 50)\n",
        "printLL(head)"
      ]
    },
    {
      "cell_type": "code",
      "execution_count": null,
      "metadata": {},
      "outputs": [],
      "source": []
    }
  ],
  "metadata": {
    "kernelspec": {
      "display_name": "Python 3",
      "language": "python",
      "name": "python3"
    },
    "language_info": {
      "codemirror_mode": {
        "name": "ipython",
        "version": 3
      },
      "file_extension": ".py",
      "mimetype": "text/x-python",
      "name": "python",
      "nbconvert_exporter": "python",
      "pygments_lexer": "ipython3",
      "version": "3.10.6"
    },
    "vscode": {
      "interpreter": {
        "hash": "f1af8e9e7b81bd0acb2c0a8783f2dbe2b614545b4102e8f472ef55e374047c4b"
      }
    }
  },
  "nbformat": 4,
  "nbformat_minor": 4
}
