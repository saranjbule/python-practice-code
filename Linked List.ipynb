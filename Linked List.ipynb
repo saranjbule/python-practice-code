{
  "cells": [
    {
      "cell_type": "markdown",
      "metadata": {},
      "source": [
        "<h1>Singly Linked List</h1>"
      ]
    },
    {
      "cell_type": "code",
      "execution_count": 1,
      "metadata": {
        "trusted": true
      },
      "outputs": [
        {
          "name": "stdout",
          "output_type": "stream",
          "text": [
            "<__main__.Node object at 0x0000026909F26F50> <__main__.Node object at 0x0000026909F27EB0>\n",
            "<__main__.Node object at 0x0000026909F26F50> 2 <__main__.Node object at 0x0000026909F27DC0>\n",
            "<__main__.Node object at 0x0000026909F27DC0> 9 <__main__.Node object at 0x0000026909F27F70>\n",
            "<__main__.Node object at 0x0000026909F27F70> 3 <__main__.Node object at 0x0000026909F27F10>\n",
            "<__main__.Node object at 0x0000026909F27F10> 4 <__main__.Node object at 0x0000026909F27EB0>\n",
            "<__main__.Node object at 0x0000026909F27EB0> 5 None\n"
          ]
        }
      ],
      "source": [
        "class Node:\n",
        "    def __init__(self, val, nxt=None):\n",
        "        self.val = val\n",
        "        self.nxt = nxt\n",
        "        \n",
        "ip = [2, 9, 3, 4, 5]\n",
        "head = None\n",
        "curr = None\n",
        "\n",
        "for i in ip:\n",
        "    n = Node(i)\n",
        "    \n",
        "    if head:\n",
        "        curr.nxt = n\n",
        "    else:\n",
        "        head = n\n",
        "    \n",
        "    curr = n\n",
        "    \n",
        "print(head, curr)\n",
        "\n",
        "while head:\n",
        "    print(head, head.val, head.nxt)\n",
        "    head = head.nxt"
      ]
    },
    {
      "cell_type": "markdown",
      "metadata": {},
      "source": [
        "<h1>Circular Linked List</h1"
      ]
    },
    {
      "cell_type": "code",
      "execution_count": 2,
      "metadata": {
        "trusted": true
      },
      "outputs": [
        {
          "name": "stdout",
          "output_type": "stream",
          "text": [
            "<__main__.Node object at 0x0000026909E45FF0> 2 <__main__.Node object at 0x0000026909E462F0>\n",
            "<__main__.Node object at 0x0000026909E462F0> 9 <__main__.Node object at 0x0000026909E45570>\n",
            "<__main__.Node object at 0x0000026909E45570> 3 <__main__.Node object at 0x0000026909E47640>\n",
            "<__main__.Node object at 0x0000026909E47640> 4 <__main__.Node object at 0x0000026909F27EE0>\n",
            "<__main__.Node object at 0x0000026909F27EE0> 5 <__main__.Node object at 0x0000026909E45FF0>\n"
          ]
        }
      ],
      "source": [
        "class Node:\n",
        "    def __init__(self, val, nxt=None):\n",
        "        self.val = val\n",
        "        self.nxt = nxt\n",
        "        \n",
        "ip = [2, 9, 3, 4, 5]\n",
        "head = None\n",
        "curr = None\n",
        "\n",
        "for i in ip:\n",
        "    n = Node(i)\n",
        "\n",
        "    if head:\n",
        "        curr.nxt = n\n",
        "    else:\n",
        "        head = n\n",
        "        \n",
        "    curr = n\n",
        "        \n",
        "curr.nxt= head\n",
        "\n",
        "for i in range(len(ip)):\n",
        "    print(head, head.val, head.nxt)\n",
        "    head = head.nxt"
      ]
    },
    {
      "cell_type": "markdown",
      "metadata": {},
      "source": [
        "<h1>Doubly Linked List</h1>"
      ]
    },
    {
      "cell_type": "code",
      "execution_count": 3,
      "metadata": {
        "trusted": true
      },
      "outputs": [
        {
          "name": "stdout",
          "output_type": "stream",
          "text": [
            "<__main__.Node object at 0x0000026909F27460> <__main__.Node object at 0x0000026909F27C10>\n",
            "<__main__.Node object at 0x0000026909F27460> None 2 <__main__.Node object at 0x0000026909F27D60>\n",
            "<__main__.Node object at 0x0000026909F27D60> <__main__.Node object at 0x0000026909F27460> 9 <__main__.Node object at 0x0000026909F279A0>\n",
            "<__main__.Node object at 0x0000026909F279A0> <__main__.Node object at 0x0000026909F27D60> 3 <__main__.Node object at 0x0000026909F264D0>\n",
            "<__main__.Node object at 0x0000026909F264D0> <__main__.Node object at 0x0000026909F279A0> 4 <__main__.Node object at 0x0000026909F27C10>\n",
            "<__main__.Node object at 0x0000026909F27C10> <__main__.Node object at 0x0000026909F264D0> 5 None\n"
          ]
        }
      ],
      "source": [
        "class Node:\n",
        "    def __init__(self, val, pre=None, nxt=None):\n",
        "        self.val = val\n",
        "        self.pre = pre\n",
        "        self.nxt = nxt\n",
        "        \n",
        "ip = [2, 9, 3, 4, 5]\n",
        "head = None\n",
        "curr = None\n",
        "\n",
        "for i in ip:\n",
        "    n = Node(i)\n",
        "    if head:\n",
        "        curr.nxt = n\n",
        "        n.pre = curr\n",
        "    else:\n",
        "        head = n\n",
        "    curr = n\n",
        "\n",
        "print(head, curr)\n",
        "while head:\n",
        "    print(head, head.pre, head.val, head.nxt)\n",
        "    head = head.nxt"
      ]
    },
    {
      "cell_type": "markdown",
      "metadata": {},
      "source": [
        "<h1>Doubly Circular Linked List</h1>"
      ]
    },
    {
      "cell_type": "code",
      "execution_count": 4,
      "metadata": {
        "trusted": true
      },
      "outputs": [
        {
          "name": "stdout",
          "output_type": "stream",
          "text": [
            "<__main__.Node object at 0x0000026909F27C70> <__main__.Node object at 0x0000026909F27F10>\n",
            "<__main__.Node object at 0x0000026909F27C70> <__main__.Node object at 0x0000026909F27F10> 2 <__main__.Node object at 0x0000026909F27430>\n",
            "<__main__.Node object at 0x0000026909F27430> <__main__.Node object at 0x0000026909F27C70> 9 <__main__.Node object at 0x0000026909F25C90>\n",
            "<__main__.Node object at 0x0000026909F25C90> <__main__.Node object at 0x0000026909F27430> 3 <__main__.Node object at 0x0000026909F25CF0>\n",
            "<__main__.Node object at 0x0000026909F25CF0> <__main__.Node object at 0x0000026909F25C90> 4 <__main__.Node object at 0x0000026909F27F10>\n",
            "<__main__.Node object at 0x0000026909F27F10> <__main__.Node object at 0x0000026909F25CF0> 5 <__main__.Node object at 0x0000026909F27C70>\n"
          ]
        }
      ],
      "source": [
        "class Node:\n",
        "    def __init__(self, val, pre=None, nxt=None):\n",
        "        self.val = val\n",
        "        self.pre = pre\n",
        "        self.nxt = nxt\n",
        "        \n",
        "ip = [2, 9, 3, 4, 5]\n",
        "head = None\n",
        "curr = None\n",
        "\n",
        "for i in ip:\n",
        "    n = Node(i)\n",
        "    if head:\n",
        "        curr.nxt = n\n",
        "        n.pre = curr\n",
        "        curr = n\n",
        "    else:\n",
        "        head = n\n",
        "        curr = n\n",
        "\n",
        "head.pre = curr\n",
        "curr.nxt = head\n",
        "\n",
        "print(head, curr)\n",
        "for i in range(len(ip)):\n",
        "    print(head, head.pre, head.val, head.nxt)\n",
        "    head = head.nxt"
      ]
    },
    {
      "attachments": {},
      "cell_type": "markdown",
      "metadata": {},
      "source": [
        "<h1>Singly LinkedList Operations</h1>"
      ]
    },
    {
      "cell_type": "code",
      "execution_count": 87,
      "metadata": {},
      "outputs": [],
      "source": [
        "class Node:\n",
        "    def __init__(self, val, nxt=None) -> None:\n",
        "        self.val = val\n",
        "        self.nxt = nxt\n",
        "\n",
        "head = None\n",
        "tail = None\n",
        "\n",
        "def createLL(ip):\n",
        "    global head, tail\n",
        "    for i in ip:\n",
        "        n = Node(i)\n",
        "            \n",
        "        if head == None:\n",
        "            head = n\n",
        "        else:\n",
        "            tail.nxt = n\n",
        "        tail = n\n",
        "    return head, tail\n",
        "\n",
        "def printLL(head):\n",
        "    while head is not None:\n",
        "        print(f'{head.val} => ', end=\"\")\n",
        "        head = head.nxt\n",
        "    print(None)\n",
        "\n",
        "def lengthLL(head):\n",
        "    counter = 0\n",
        "    while head is not None:\n",
        "        counter += 1\n",
        "        head = head.nxt\n",
        "    \n",
        "    return counter\n",
        "\n",
        "def print_i_node(head , i):\n",
        "    counter = 0\n",
        "    while head is not None:\n",
        "        if counter == i:\n",
        "            return head.val\n",
        "        counter += 1\n",
        "        head = head.nxt\n",
        "    return -1\n",
        "\n",
        "def insert_i_node(head, i, v):\n",
        "    counter = 0\n",
        "    if i == -1:\n",
        "        return insert_start(v)\n",
        "    else:\n",
        "        while head is not None:\n",
        "            if counter == i:\n",
        "                nextEle = head.nxt\n",
        "                n = Node(v, nextEle)\n",
        "                head.nxt = n\n",
        "                return 1\n",
        "            counter += 1\n",
        "            head = head.nxt\n",
        "        return -1\n",
        "\n",
        "def insert_start(v):\n",
        "    global head\n",
        "    n = Node(v, head)\n",
        "    head = n\n",
        "    return head\n"
      ]
    },
    {
      "cell_type": "code",
      "execution_count": 88,
      "metadata": {},
      "outputs": [
        {
          "data": {
            "text/plain": [
              "(<__main__.Node at 0x1e0907891e0>, <__main__.Node at 0x1e090788640>)"
            ]
          },
          "execution_count": 88,
          "metadata": {},
          "output_type": "execute_result"
        }
      ],
      "source": [
        "arr = [23, 3, 4, 54, 3]\n",
        "createLL(arr)\n"
      ]
    },
    {
      "cell_type": "code",
      "execution_count": 60,
      "metadata": {},
      "outputs": [
        {
          "name": "stdout",
          "output_type": "stream",
          "text": [
            "23 => 3 => 4 => 54 => 3 => None\n"
          ]
        }
      ],
      "source": [
        "printLL(head)\n"
      ]
    },
    {
      "cell_type": "code",
      "execution_count": 61,
      "metadata": {},
      "outputs": [
        {
          "data": {
            "text/plain": [
              "5"
            ]
          },
          "execution_count": 61,
          "metadata": {},
          "output_type": "execute_result"
        }
      ],
      "source": [
        "lengthLL(head)\n"
      ]
    },
    {
      "cell_type": "code",
      "execution_count": 62,
      "metadata": {},
      "outputs": [
        {
          "data": {
            "text/plain": [
              "23"
            ]
          },
          "execution_count": 62,
          "metadata": {},
          "output_type": "execute_result"
        }
      ],
      "source": [
        "print_i_node(head, 0)"
      ]
    },
    {
      "cell_type": "code",
      "execution_count": 89,
      "metadata": {},
      "outputs": [
        {
          "data": {
            "text/plain": [
              "<__main__.Node at 0x1e0907888e0>"
            ]
          },
          "execution_count": 89,
          "metadata": {},
          "output_type": "execute_result"
        }
      ],
      "source": [
        "insert_i_node(head, -1, 100)\n"
      ]
    },
    {
      "cell_type": "code",
      "execution_count": 90,
      "metadata": {},
      "outputs": [
        {
          "name": "stdout",
          "output_type": "stream",
          "text": [
            "100 => 23 => 3 => 4 => 54 => 3 => None\n"
          ]
        }
      ],
      "source": [
        "printLL(head)"
      ]
    },
    {
      "cell_type": "code",
      "execution_count": 91,
      "metadata": {},
      "outputs": [
        {
          "name": "stdout",
          "output_type": "stream",
          "text": [
            "<__main__.Node object at 0x000001E0907888E0> <__main__.Node object at 0x000001E090788640>\n"
          ]
        }
      ],
      "source": [
        "print(head, tail)"
      ]
    },
    {
      "cell_type": "code",
      "execution_count": null,
      "metadata": {},
      "outputs": [],
      "source": []
    }
  ],
  "metadata": {
    "kernelspec": {
      "display_name": "Python 3",
      "language": "python",
      "name": "python3"
    },
    "language_info": {
      "codemirror_mode": {
        "name": "ipython",
        "version": 3
      },
      "file_extension": ".py",
      "mimetype": "text/x-python",
      "name": "python",
      "nbconvert_exporter": "python",
      "pygments_lexer": "ipython3",
      "version": "3.10.9 (tags/v3.10.9:1dd9be6, Dec  6 2022, 20:01:21) [MSC v.1934 64 bit (AMD64)]"
    },
    "vscode": {
      "interpreter": {
        "hash": "f1af8e9e7b81bd0acb2c0a8783f2dbe2b614545b4102e8f472ef55e374047c4b"
      }
    }
  },
  "nbformat": 4,
  "nbformat_minor": 4
}
